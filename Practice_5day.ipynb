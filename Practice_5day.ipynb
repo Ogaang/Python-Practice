{
  "nbformat": 4,
  "nbformat_minor": 0,
  "metadata": {
    "colab": {
      "name": "Teach_5day.ipynb",
      "provenance": [],
      "collapsed_sections": [],
      "include_colab_link": true
    },
    "kernelspec": {
      "name": "python3",
      "display_name": "Python 3"
    },
    "language_info": {
      "name": "python"
    }
  },
  "cells": [
    {
      "cell_type": "markdown",
      "metadata": {
        "id": "view-in-github",
        "colab_type": "text"
      },
      "source": [
        "<a href=\"https://colab.research.google.com/github/Ogaang/Python-Practice/blob/master/Practice_5day.ipynb\" target=\"_parent\"><img src=\"https://colab.research.google.com/assets/colab-badge.svg\" alt=\"Open In Colab\"/></a>"
      ]
    },
    {
      "cell_type": "markdown",
      "source": [
        "# 함수"
      ],
      "metadata": {
        "id": "WNupY_XC9D3c"
      }
    },
    {
      "cell_type": "code",
      "source": [
        "# 현재 설치된 패키지 확인\n",
        "# ! : jupyter notebook( colab )에서 외부 명령 호출시 사용\n",
        "!pip list"
      ],
      "metadata": {
        "colab": {
          "base_uri": "https://localhost:8080/"
        },
        "id": "tWWOnWC4Pg8t",
        "outputId": "699f6fb2-d648-45b8-c3f8-b8718daf1e8f"
      },
      "execution_count": null,
      "outputs": [
        {
          "output_type": "stream",
          "name": "stdout",
          "text": [
            "Package                       Version\n",
            "----------------------------- --------------\n",
            "absl-py                       1.0.0\n",
            "alabaster                     0.7.12\n",
            "albumentations                0.1.12\n",
            "altair                        4.2.0\n",
            "appdirs                       1.4.4\n",
            "argon2-cffi                   21.3.0\n",
            "argon2-cffi-bindings          21.2.0\n",
            "arviz                         0.11.4\n",
            "astor                         0.8.1\n",
            "astropy                       4.3.1\n",
            "astunparse                    1.6.3\n",
            "atari-py                      0.2.9\n",
            "atomicwrites                  1.4.0\n",
            "attrs                         21.4.0\n",
            "audioread                     2.1.9\n",
            "autograd                      1.3\n",
            "Babel                         2.9.1\n",
            "backcall                      0.2.0\n",
            "beautifulsoup4                4.6.3\n",
            "bleach                        4.1.0\n",
            "blis                          0.4.1\n",
            "bokeh                         2.3.3\n",
            "Bottleneck                    1.3.2\n",
            "branca                        0.4.2\n",
            "bs4                           0.0.1\n",
            "CacheControl                  0.12.10\n",
            "cached-property               1.5.2\n",
            "cachetools                    4.2.4\n",
            "catalogue                     1.0.0\n",
            "certifi                       2021.10.8\n",
            "cffi                          1.15.0\n",
            "cftime                        1.5.2\n",
            "chardet                       3.0.4\n",
            "charset-normalizer            2.0.10\n",
            "click                         7.1.2\n",
            "cloudpickle                   1.3.0\n",
            "cmake                         3.12.0\n",
            "cmdstanpy                     0.9.5\n",
            "colorcet                      3.0.0\n",
            "colorlover                    0.3.0\n",
            "community                     1.0.0b1\n",
            "contextlib2                   0.5.5\n",
            "convertdate                   2.4.0\n",
            "coverage                      3.7.1\n",
            "coveralls                     0.5\n",
            "crcmod                        1.7\n",
            "cufflinks                     0.17.3\n",
            "cvxopt                        1.2.7\n",
            "cvxpy                         1.0.31\n",
            "cycler                        0.11.0\n",
            "cymem                         2.0.6\n",
            "Cython                        0.29.26\n",
            "daft                          0.0.4\n",
            "dask                          2.12.0\n",
            "datascience                   0.10.6\n",
            "debugpy                       1.0.0\n",
            "decorator                     4.4.2\n",
            "defusedxml                    0.7.1\n",
            "descartes                     1.1.0\n",
            "dill                          0.3.4\n",
            "distributed                   1.25.3\n",
            "dlib                          19.18.0\n",
            "dm-tree                       0.1.6\n",
            "docopt                        0.6.2\n",
            "docutils                      0.17.1\n",
            "dopamine-rl                   1.0.5\n",
            "earthengine-api               0.1.295\n",
            "easydict                      1.9\n",
            "ecos                          2.0.10\n",
            "editdistance                  0.5.3\n",
            "en-core-web-sm                2.2.5\n",
            "entrypoints                   0.3\n",
            "ephem                         4.1.3\n",
            "et-xmlfile                    1.1.0\n",
            "fa2                           0.3.5\n",
            "fastai                        1.0.61\n",
            "fastdtw                       0.3.4\n",
            "fastprogress                  1.0.0\n",
            "fastrlock                     0.8\n",
            "fbprophet                     0.7.1\n",
            "feather-format                0.4.1\n",
            "filelock                      3.4.2\n",
            "firebase-admin                4.4.0\n",
            "fix-yahoo-finance             0.0.22\n",
            "Flask                         1.1.4\n",
            "flatbuffers                   2.0\n",
            "folium                        0.8.3\n",
            "future                        0.16.0\n",
            "gast                          0.4.0\n",
            "GDAL                          2.2.2\n",
            "gdown                         3.6.4\n",
            "gensim                        3.6.0\n",
            "geographiclib                 1.52\n",
            "geopy                         1.17.0\n",
            "gin-config                    0.5.0\n",
            "glob2                         0.7\n",
            "google                        2.0.3\n",
            "google-api-core               1.26.3\n",
            "google-api-python-client      1.12.10\n",
            "google-auth                   1.35.0\n",
            "google-auth-httplib2          0.0.4\n",
            "google-auth-oauthlib          0.4.6\n",
            "google-cloud-bigquery         1.21.0\n",
            "google-cloud-bigquery-storage 1.1.0\n",
            "google-cloud-core             1.0.3\n",
            "google-cloud-datastore        1.8.0\n",
            "google-cloud-firestore        1.7.0\n",
            "google-cloud-language         1.2.0\n",
            "google-cloud-storage          1.18.1\n",
            "google-cloud-translate        1.5.0\n",
            "google-colab                  1.0.0\n",
            "google-pasta                  0.2.0\n",
            "google-resumable-media        0.4.1\n",
            "googleapis-common-protos      1.54.0\n",
            "googledrivedownloader         0.4\n",
            "graphviz                      0.10.1\n",
            "greenlet                      1.1.2\n",
            "grpcio                        1.43.0\n",
            "gspread                       3.4.2\n",
            "gspread-dataframe             3.0.8\n",
            "gym                           0.17.3\n",
            "h5py                          3.1.0\n",
            "HeapDict                      1.0.1\n",
            "hijri-converter               2.2.2\n",
            "holidays                      0.10.5.2\n",
            "holoviews                     1.14.7\n",
            "html5lib                      1.0.1\n",
            "httpimport                    0.5.18\n",
            "httplib2                      0.17.4\n",
            "httplib2shim                  0.0.3\n",
            "humanize                      0.5.1\n",
            "hyperopt                      0.1.2\n",
            "ideep4py                      2.0.0.post3\n",
            "idna                          2.10\n",
            "imageio                       2.4.1\n",
            "imagesize                     1.3.0\n",
            "imbalanced-learn              0.8.1\n",
            "imblearn                      0.0\n",
            "imgaug                        0.2.9\n",
            "importlib-metadata            4.10.1\n",
            "importlib-resources           5.4.0\n",
            "imutils                       0.5.4\n",
            "inflect                       2.1.0\n",
            "iniconfig                     1.1.1\n",
            "intel-openmp                  2022.0.2\n",
            "intervaltree                  2.1.0\n",
            "ipykernel                     4.10.1\n",
            "ipython                       5.5.0\n",
            "ipython-genutils              0.2.0\n",
            "ipython-sql                   0.3.9\n",
            "ipywidgets                    7.6.5\n",
            "itsdangerous                  1.1.0\n",
            "jax                           0.2.25\n",
            "jaxlib                        0.1.71+cuda111\n",
            "jdcal                         1.4.1\n",
            "jedi                          0.18.1\n",
            "jieba                         0.42.1\n",
            "Jinja2                        2.11.3\n",
            "joblib                        1.1.0\n",
            "jpeg4py                       0.1.4\n",
            "jsonschema                    4.3.3\n",
            "jupyter                       1.0.0\n",
            "jupyter-client                5.3.5\n",
            "jupyter-console               5.2.0\n",
            "jupyter-core                  4.9.1\n",
            "jupyterlab-pygments           0.1.2\n",
            "jupyterlab-widgets            1.0.2\n",
            "kaggle                        1.5.12\n",
            "kapre                         0.3.7\n",
            "keras                         2.7.0\n",
            "Keras-Preprocessing           1.1.2\n",
            "keras-vis                     0.4.1\n",
            "kiwisolver                    1.3.2\n",
            "korean-lunar-calendar         0.2.1\n",
            "libclang                      12.0.0\n",
            "librosa                       0.8.1\n",
            "lightgbm                      2.2.3\n",
            "llvmlite                      0.34.0\n",
            "lmdb                          0.99\n",
            "LunarCalendar                 0.0.9\n",
            "lxml                          4.2.6\n",
            "Markdown                      3.3.6\n",
            "MarkupSafe                    2.0.1\n",
            "matplotlib                    3.2.2\n",
            "matplotlib-inline             0.1.3\n",
            "matplotlib-venn               0.11.6\n",
            "missingno                     0.5.0\n",
            "mistune                       0.8.4\n",
            "mizani                        0.6.0\n",
            "mkl                           2019.0\n",
            "mlxtend                       0.14.0\n",
            "more-itertools                8.12.0\n",
            "moviepy                       0.2.3.5\n",
            "mpmath                        1.2.1\n",
            "msgpack                       1.0.3\n",
            "multiprocess                  0.70.12.2\n",
            "multitasking                  0.0.10\n",
            "murmurhash                    1.0.6\n",
            "music21                       5.5.0\n",
            "natsort                       5.5.0\n",
            "nbclient                      0.5.10\n",
            "nbconvert                     5.6.1\n",
            "nbformat                      5.1.3\n",
            "nest-asyncio                  1.5.4\n",
            "netCDF4                       1.5.8\n",
            "networkx                      2.6.3\n",
            "nibabel                       3.0.2\n",
            "nltk                          3.2.5\n",
            "notebook                      5.3.1\n",
            "numba                         0.51.2\n",
            "numexpr                       2.8.1\n",
            "numpy                         1.19.5\n",
            "nvidia-ml-py3                 7.352.0\n",
            "oauth2client                  4.1.3\n",
            "oauthlib                      3.1.1\n",
            "okgrade                       0.4.3\n",
            "opencv-contrib-python         4.1.2.30\n",
            "opencv-python                 4.1.2.30\n",
            "openpyxl                      2.5.9\n",
            "opt-einsum                    3.3.0\n",
            "osqp                          0.6.2.post0\n",
            "packaging                     21.3\n",
            "palettable                    3.3.0\n",
            "pandas                        1.1.5\n",
            "pandas-datareader             0.9.0\n",
            "pandas-gbq                    0.13.3\n",
            "pandas-profiling              1.4.1\n",
            "pandocfilters                 1.5.0\n",
            "panel                         0.12.1\n",
            "param                         1.12.0\n",
            "parso                         0.8.3\n",
            "pathlib                       1.0.1\n",
            "patsy                         0.5.2\n",
            "pep517                        0.12.0\n",
            "pexpect                       4.8.0\n",
            "pickleshare                   0.7.5\n",
            "Pillow                        7.1.2\n",
            "pip                           21.1.3\n",
            "pip-tools                     6.2.0\n",
            "plac                          1.1.3\n",
            "plotly                        5.5.0\n",
            "plotnine                      0.6.0\n",
            "pluggy                        0.7.1\n",
            "pooch                         1.6.0\n",
            "portpicker                    1.3.9\n",
            "prefetch-generator            1.0.1\n",
            "preshed                       3.0.6\n",
            "prettytable                   3.0.0\n",
            "progressbar2                  3.38.0\n",
            "prometheus-client             0.12.0\n",
            "promise                       2.3\n",
            "prompt-toolkit                1.0.18\n",
            "protobuf                      3.17.3\n",
            "psutil                        5.4.8\n",
            "psycopg2                      2.7.6.1\n",
            "ptyprocess                    0.7.0\n",
            "py                            1.11.0\n",
            "pyarrow                       3.0.0\n",
            "pyasn1                        0.4.8\n",
            "pyasn1-modules                0.2.8\n",
            "pycocotools                   2.0.4\n",
            "pycparser                     2.21\n",
            "pyct                          0.4.8\n",
            "pydata-google-auth            1.3.0\n",
            "pydot                         1.3.0\n",
            "pydot-ng                      2.0.0\n",
            "pydotplus                     2.0.2\n",
            "PyDrive                       1.3.1\n",
            "pyemd                         0.5.1\n",
            "pyerfa                        2.0.0.1\n",
            "pyglet                        1.5.0\n",
            "Pygments                      2.6.1\n",
            "pygobject                     3.26.1\n",
            "pymc3                         3.11.4\n",
            "PyMeeus                       0.5.11\n",
            "pymongo                       4.0.1\n",
            "pymystem3                     0.2.0\n",
            "PyOpenGL                      3.1.5\n",
            "pyparsing                     3.0.7\n",
            "pyrsistent                    0.18.1\n",
            "pysndfile                     1.3.8\n",
            "PySocks                       1.7.1\n",
            "pystan                        2.19.1.1\n",
            "pytest                        3.6.4\n",
            "python-apt                    0.0.0\n",
            "python-chess                  0.23.11\n",
            "python-dateutil               2.8.2\n",
            "python-louvain                0.15\n",
            "python-slugify                5.0.2\n",
            "python-utils                  3.1.0\n",
            "pytz                          2018.9\n",
            "pyviz-comms                   2.1.0\n",
            "PyWavelets                    1.2.0\n",
            "PyYAML                        3.13\n",
            "pyzmq                         22.3.0\n",
            "qdldl                         0.1.5.post0\n",
            "qtconsole                     5.2.2\n",
            "QtPy                          2.0.0\n",
            "regex                         2019.12.20\n",
            "requests                      2.23.0\n",
            "requests-oauthlib             1.3.0\n",
            "resampy                       0.2.2\n",
            "rpy2                          3.4.5\n",
            "rsa                           4.8\n",
            "scikit-image                  0.18.3\n",
            "scikit-learn                  1.0.2\n",
            "scipy                         1.4.1\n",
            "screen-resolution-extra       0.0.0\n",
            "scs                           3.1.0\n",
            "seaborn                       0.11.2\n",
            "semver                        2.13.0\n",
            "Send2Trash                    1.8.0\n",
            "setuptools                    57.4.0\n",
            "setuptools-git                1.2\n",
            "Shapely                       1.8.0\n",
            "simplegeneric                 0.8.1\n",
            "six                           1.15.0\n",
            "sklearn                       0.0\n",
            "sklearn-pandas                1.8.0\n",
            "smart-open                    5.2.1\n",
            "snowballstemmer               2.2.0\n",
            "sortedcontainers              2.4.0\n",
            "SoundFile                     0.10.3.post1\n",
            "spacy                         2.2.4\n",
            "Sphinx                        1.8.6\n",
            "sphinxcontrib-serializinghtml 1.1.5\n",
            "sphinxcontrib-websupport      1.2.4\n",
            "SQLAlchemy                    1.4.31\n",
            "sqlparse                      0.4.2\n",
            "srsly                         1.0.5\n",
            "statsmodels                   0.10.2\n",
            "sympy                         1.7.1\n",
            "tables                        3.4.4\n",
            "tabulate                      0.8.9\n",
            "tblib                         1.7.0\n",
            "tenacity                      8.0.1\n",
            "tensorboard                   2.7.0\n",
            "tensorboard-data-server       0.6.1\n",
            "tensorboard-plugin-wit        1.8.1\n",
            "tensorflow                    2.7.0\n",
            "tensorflow-datasets           4.0.1\n",
            "tensorflow-estimator          2.7.0\n",
            "tensorflow-gcs-config         2.7.0\n",
            "tensorflow-hub                0.12.0\n",
            "tensorflow-io-gcs-filesystem  0.23.1\n",
            "tensorflow-metadata           1.6.0\n",
            "tensorflow-probability        0.15.0\n",
            "termcolor                     1.1.0\n",
            "terminado                     0.12.1\n",
            "testpath                      0.5.0\n",
            "text-unidecode                1.3\n",
            "textblob                      0.15.3\n",
            "Theano-PyMC                   1.1.2\n",
            "thinc                         7.4.0\n",
            "threadpoolctl                 3.0.0\n",
            "tifffile                      2021.11.2\n",
            "toml                          0.10.2\n",
            "tomli                         2.0.0\n",
            "toolz                         0.11.2\n",
            "torch                         1.10.0+cu111\n",
            "torchaudio                    0.10.0+cu111\n",
            "torchsummary                  1.5.1\n",
            "torchtext                     0.11.0\n",
            "torchvision                   0.11.1+cu111\n",
            "tornado                       5.1.1\n",
            "tqdm                          4.62.3\n",
            "traitlets                     5.1.1\n",
            "tweepy                        3.10.0\n",
            "typeguard                     2.7.1\n",
            "typing-extensions             3.10.0.2\n",
            "tzlocal                       1.5.1\n",
            "uritemplate                   3.0.1\n",
            "urllib3                       1.24.3\n",
            "vega-datasets                 0.9.0\n",
            "wasabi                        0.9.0\n",
            "wcwidth                       0.2.5\n",
            "webencodings                  0.5.1\n",
            "Werkzeug                      1.0.1\n",
            "wheel                         0.37.1\n",
            "widgetsnbextension            3.5.2\n",
            "wordcloud                     1.5.0\n",
            "wrapt                         1.13.3\n",
            "xarray                        0.18.2\n",
            "xgboost                       0.90\n",
            "xkit                          0.0.0\n",
            "xlrd                          1.1.0\n",
            "xlwt                          1.3.0\n",
            "yellowbrick                   1.3.post1\n",
            "zict                          2.0.0\n",
            "zipp                          3.7.0\n"
          ]
        }
      ]
    },
    {
      "cell_type": "markdown",
      "source": [
        "## 함수 기본 형태"
      ],
      "metadata": {
        "id": "314_Mfa7PmHQ"
      }
    },
    {
      "cell_type": "code",
      "source": [
        "# 함수 정의\n",
        "#\n",
        "# 인수 : l - 최대값/최소값을 구할 데이터 집합\n",
        "# 반환 : 최대값, 최소값\n",
        "#\n",
        "def max_min( l ):\n",
        "    if len( l ) > 0:\n",
        "        max_value = l[ 0 ]\n",
        "        min_value = l[ 0 ]\n",
        "\n",
        "        for v in l:\n",
        "            if v > max_value:\n",
        "                max_value = v\n",
        "\n",
        "            if v < min_value:\n",
        "                min_value = v\n",
        "        return max_value, min_value\n",
        "    else:\n",
        "        return"
      ],
      "metadata": {
        "id": "Tshntm9zS5PF"
      },
      "execution_count": null,
      "outputs": []
    },
    {
      "cell_type": "code",
      "source": [
        "l = [ 5, 1, 3, 2, 4 ]\n",
        "\n",
        "# 함수 호출\n",
        "max_number, min_number = max_min( l )\n",
        "\n",
        "print( f'l = {l} ( {len( l )} )' )\n",
        "print( f'max = {max_number}\\tmin = {min_number}' )"
      ],
      "metadata": {
        "colab": {
          "base_uri": "https://localhost:8080/"
        },
        "id": "mK5MgpcITYrn",
        "outputId": "b5386005-95fb-4b22-b541-abd15e97fc76"
      },
      "execution_count": null,
      "outputs": [
        {
          "output_type": "stream",
          "name": "stdout",
          "text": [
            "l = [5, 1, 3, 2, 4] ( 5 )\n",
            "max = 5\tmin = 1\n"
          ]
        }
      ]
    },
    {
      "cell_type": "markdown",
      "source": [
        "## 함수 유형"
      ],
      "metadata": {
        "id": "3GaaTjTiV-9C"
      }
    },
    {
      "cell_type": "code",
      "source": [
        "# 인수가 없고, return값이 없는 유형\n",
        "def my_print():\n",
        "    print( '인수가 없고, return값이 없는 유형' )"
      ],
      "metadata": {
        "id": "Uqh-y4z5b-Lw"
      },
      "execution_count": null,
      "outputs": []
    },
    {
      "cell_type": "code",
      "source": [
        "my_print()"
      ],
      "metadata": {
        "colab": {
          "base_uri": "https://localhost:8080/"
        },
        "id": "ffC89OOTcI3u",
        "outputId": "94691811-2dfa-4898-a45b-b6de5cb3c7dd"
      },
      "execution_count": null,
      "outputs": [
        {
          "output_type": "stream",
          "name": "stdout",
          "text": [
            "인수가 없고, return값이 없는 유형\n"
          ]
        }
      ]
    },
    {
      "cell_type": "code",
      "source": [
        "# 인수가 있고, return값이 없는 유형\n",
        "def my_print( string ):\n",
        "    print( '인수가 있고, return값이 없는 유형' )\n",
        "    print( f'인수 : {string}' )"
      ],
      "metadata": {
        "id": "3bSQh3sccLSd"
      },
      "execution_count": null,
      "outputs": []
    },
    {
      "cell_type": "code",
      "source": [
        "my_print( 'python programming' )"
      ],
      "metadata": {
        "colab": {
          "base_uri": "https://localhost:8080/"
        },
        "id": "z8lG5gifczrw",
        "outputId": "7dd95dab-11f7-47cc-b44b-14ad022ba88e"
      },
      "execution_count": null,
      "outputs": [
        {
          "output_type": "stream",
          "name": "stdout",
          "text": [
            "인수가 있고, return값이 없는 유형\n",
            "인수 : python programming\n"
          ]
        }
      ]
    },
    {
      "cell_type": "code",
      "source": [
        "# 인수가 없고, return값이 있는 유형\n",
        "def my_calculate():\n",
        "    number1 = 10\n",
        "    number2 = 20\n",
        "    add = number1 + number2 \n",
        "\n",
        "    return number1, number2, add"
      ],
      "metadata": {
        "id": "m0rycy83c2Qd"
      },
      "execution_count": null,
      "outputs": []
    },
    {
      "cell_type": "code",
      "source": [
        "number1, number2, add = my_calculate()\n",
        "print( f'{number1} + {number2} = {add}' )"
      ],
      "metadata": {
        "colab": {
          "base_uri": "https://localhost:8080/"
        },
        "id": "imQqcwYSdxeM",
        "outputId": "6f5a6963-dd46-4b69-c851-427e578a6026"
      },
      "execution_count": null,
      "outputs": [
        {
          "output_type": "stream",
          "name": "stdout",
          "text": [
            "10 + 20 = 30\n"
          ]
        }
      ]
    },
    {
      "cell_type": "code",
      "source": [
        "# 인수가 있고, return값이 있는 유형\n",
        "def my_calculate( number1, number2 ):\n",
        "    add = number1 + number2 \n",
        "    subtract = number1 - number2\n",
        "    multiple = number1 * number2\n",
        "    divide = number1 / number2\n",
        "\n",
        "    return add, subtract, multiple, divide"
      ],
      "metadata": {
        "id": "4WT9VjXBd5OQ"
      },
      "execution_count": null,
      "outputs": []
    },
    {
      "cell_type": "code",
      "source": [
        "number1 = 50\n",
        "number2 = 15\n",
        "\n",
        "add, subtract, multiple, divide = my_calculate( number1, number2 )\n",
        "\n",
        "print( f'{number1:2} + {number2:2} = {add:5}' )\n",
        "print( f'{number1:2} - {number2:2} = {subtract:5}' )\n",
        "print( f'{number1:2} * {number2:2} = {multiple:5}' )\n",
        "print( f'{number1:2} / {number2:2} = {divide:5.2f}' )"
      ],
      "metadata": {
        "colab": {
          "base_uri": "https://localhost:8080/"
        },
        "id": "PvQeBNXEetEJ",
        "outputId": "ac7a5fe6-82bb-4faa-f71f-04cb70721b85"
      },
      "execution_count": null,
      "outputs": [
        {
          "output_type": "stream",
          "name": "stdout",
          "text": [
            "50 + 15 =    65\n",
            "50 - 15 =    35\n",
            "50 * 15 =   750\n",
            "50 / 15 =  3.33\n"
          ]
        }
      ]
    },
    {
      "cell_type": "markdown",
      "source": [
        "### return"
      ],
      "metadata": {
        "id": "0aEzWsISfFMg"
      }
    },
    {
      "cell_type": "code",
      "source": [
        "def my_func():\n",
        "    print( '사용자 정의 함수' )\n",
        "    print( '함수는 단위 기능을 수행한다.')"
      ],
      "metadata": {
        "id": "3gDhvbdog1lF"
      },
      "execution_count": null,
      "outputs": []
    },
    {
      "cell_type": "code",
      "source": [
        "print( my_func() )"
      ],
      "metadata": {
        "colab": {
          "base_uri": "https://localhost:8080/"
        },
        "id": "Gz0KcAENg_Ij",
        "outputId": "2f21f905-9f30-4dda-e8ae-f383fbeba11a"
      },
      "execution_count": null,
      "outputs": [
        {
          "output_type": "stream",
          "name": "stdout",
          "text": [
            "사용자 정의 함수\n",
            "함수는 단위 기능을 수행한다.\n",
            "None\n"
          ]
        }
      ]
    },
    {
      "cell_type": "code",
      "source": [
        "# 하나의 값 return\n",
        "def my_div( number1, number2 ):\n",
        "    return number1 // number2\n",
        "\n",
        "# 하나의 값 return\n",
        "def my_mod( number1, number2 ):\n",
        "    return number1 % number1\n",
        "\n",
        "# tuple return\n",
        "def my_divmod_tuple( number1, number2 ):\n",
        "    return ( number1 // number2, number1 % number2 )\n",
        "\n",
        "# list return\n",
        "def my_divmod_list( number1, number2 ):\n",
        "    return [ number1 // number2, number1 % number2 ]\n",
        "\n",
        "# dict return\n",
        "def my_divmod_dict( number1, number2 ):\n",
        "    return { 'div': number1 // number2, \n",
        "             'mod': number1 % number2 }"
      ],
      "metadata": {
        "id": "xfntcve1hAel"
      },
      "execution_count": null,
      "outputs": []
    },
    {
      "cell_type": "code",
      "source": [
        "number1 = 50\n",
        "number2 = 3\n",
        "\n",
        "print( my_div( number1, number2 ) )\n",
        "print( my_divmod_tuple( number1, number2 ) )\n",
        "print( my_divmod_list( number1, number2 ) )\n",
        "print( my_divmod_dict( number1, number2 ) )"
      ],
      "metadata": {
        "colab": {
          "base_uri": "https://localhost:8080/"
        },
        "id": "gwvS-t1Ai_oD",
        "outputId": "d63236a3-6823-4a75-a799-e9a650a93cad"
      },
      "execution_count": null,
      "outputs": [
        {
          "output_type": "stream",
          "name": "stdout",
          "text": [
            "16\n",
            "(16, 2)\n",
            "[16, 2]\n",
            "{'div': 16, 'mod': 2}\n"
          ]
        }
      ]
    },
    {
      "cell_type": "markdown",
      "source": [
        "### 인수"
      ],
      "metadata": {
        "id": "iPLxmeQej0uP"
      }
    },
    {
      "cell_type": "code",
      "source": [
        "# 불변 자료형 인수 전달\n",
        "def my_func( arg ):\n",
        "    print( f'\\tmy_func()에 전달된 인수 : {arg}' )\n",
        "    arg += 10\n",
        "    print( f'\\tmy_func()에 전달된 인수를 변경한 값 : {arg}' )"
      ],
      "metadata": {
        "id": "kuPGYJxGonQy"
      },
      "execution_count": null,
      "outputs": []
    },
    {
      "cell_type": "code",
      "source": [
        "value = 10\n",
        "print( f'함수 호출전 value : {value}' )\n",
        "my_func( value )\n",
        "print( f'함수 호출후 value : {value}' )"
      ],
      "metadata": {
        "colab": {
          "base_uri": "https://localhost:8080/"
        },
        "id": "WEx_RSIwoz9k",
        "outputId": "ab77b773-2396-4d36-f1ed-89278cfb0e7a"
      },
      "execution_count": null,
      "outputs": [
        {
          "output_type": "stream",
          "name": "stdout",
          "text": [
            "함수 호출전 value : 10\n",
            "\tmy_func()에 전달된 인수 : 10\n",
            "\tmy_func()에 전달된 인수를 변경한 값 : 20\n",
            "함수 호출후 value : 10\n"
          ]
        }
      ]
    },
    {
      "cell_type": "code",
      "source": [
        "# 가변 자료형 인수 전달\n",
        "def my_func( arg ):\n",
        "    print( f'\\tmy_func()에 전달된 인수 : {arg} ({id( arg )})' )\n",
        "    arg[ 0 ] += 10\n",
        "    print( f'\\tmy_func()에 전달된 인수를 변경한 값 : {arg}  ({id( arg )})' )"
      ],
      "metadata": {
        "id": "2eXly6PJo9ks"
      },
      "execution_count": null,
      "outputs": []
    },
    {
      "cell_type": "code",
      "source": [
        "l = [ 1, 2, 3, ]\n",
        "print( f'함수 호출전 value : {l} ({id( l )})' )\n",
        "my_func( l )\n",
        "print( f'함수 호출후 value : {l} ({id( l )})' )"
      ],
      "metadata": {
        "colab": {
          "base_uri": "https://localhost:8080/"
        },
        "id": "mzNY3vCgqIWx",
        "outputId": "d2396aa1-bbb8-422d-8da8-f8ab63cc512e"
      },
      "execution_count": null,
      "outputs": [
        {
          "output_type": "stream",
          "name": "stdout",
          "text": [
            "함수 호출전 value : [1, 2, 3] (139860005432848)\n",
            "\tmy_func()에 전달된 인수 : [1, 2, 3] (139860005432848)\n",
            "\tmy_func()에 전달된 인수를 변경한 값 : [11, 2, 3]  (139860005432848)\n",
            "함수 호출후 value : [11, 2, 3] (139860005432848)\n"
          ]
        }
      ]
    },
    {
      "cell_type": "code",
      "source": [
        "# 가변 자료형 인수 전달\n",
        "# 함수에서 새로운 list 생성\n",
        "def my_func( arg ):\n",
        "    print( f'\\tmy_func()에 전달된 인수 : {arg} ({id( arg )})' )\n",
        "    arg = [ 10, 20, 30 ]\n",
        "    print( f'\\tmy_func()에 전달된 인수를 변경한 값 : {arg}  ({id( arg )})' )"
      ],
      "metadata": {
        "id": "L4hH7oJmqRKC"
      },
      "execution_count": null,
      "outputs": []
    },
    {
      "cell_type": "code",
      "source": [
        "l = [ 1, 2, 3, ]\n",
        "print( f'함수 호출전 value : {l} ({id( l )})' )\n",
        "my_func( l )\n",
        "print( f'함수 호출후 value : {l} ({id( l )})' )"
      ],
      "metadata": {
        "colab": {
          "base_uri": "https://localhost:8080/"
        },
        "id": "giMjoSajsXMW",
        "outputId": "7af293e5-ffb5-4819-c33b-5e3161278f12"
      },
      "execution_count": null,
      "outputs": [
        {
          "output_type": "stream",
          "name": "stdout",
          "text": [
            "함수 호출전 value : [1, 2, 3] (139860005733952)\n",
            "\tmy_func()에 전달된 인수 : [1, 2, 3] (139860005733952)\n",
            "\tmy_func()에 전달된 인수를 변경한 값 : [10, 20, 30]  (139860005375584)\n",
            "함수 호출후 value : [1, 2, 3] (139860005733952)\n"
          ]
        }
      ]
    },
    {
      "cell_type": "code",
      "source": [
        "# 가변 자료형 인수 전달\n",
        "# 함수에서 새로운 list 생성 및 리턴\n",
        "def my_func( arg ):\n",
        "    print( f'\\tmy_func()에 전달된 인수 : {arg} ({id( arg )})' )\n",
        "    arg = [ 10, 20, 30 ]\n",
        "    print( f'\\tmy_func()에 전달된 인수를 변경한 값 : {arg}  ({id( arg )})' )\n",
        "    return arg"
      ],
      "metadata": {
        "id": "2r6KlJmVsZB_"
      },
      "execution_count": null,
      "outputs": []
    },
    {
      "cell_type": "code",
      "source": [
        "l = [ 1, 2, 3, ]\n",
        "print( f'함수 호출전 value : {l} ({id( l )})' )\n",
        "l = my_func( l )\n",
        "print( f'함수 호출후 value : {l} ({id( l )})' )"
      ],
      "metadata": {
        "colab": {
          "base_uri": "https://localhost:8080/"
        },
        "id": "nMhM6EVotQge",
        "outputId": "be593c6a-fbf8-442c-9d96-2f5c679360cb"
      },
      "execution_count": null,
      "outputs": [
        {
          "output_type": "stream",
          "name": "stdout",
          "text": [
            "함수 호출전 value : [1, 2, 3] (139860005532528)\n",
            "\tmy_func()에 전달된 인수 : [1, 2, 3] (139860005532528)\n",
            "\tmy_func()에 전달된 인수를 변경한 값 : [10, 20, 30]  (139860005703184)\n",
            "함수 호출후 value : [10, 20, 30] (139860005703184)\n"
          ]
        }
      ]
    },
    {
      "cell_type": "markdown",
      "source": [
        "### 변수 사용 범위"
      ],
      "metadata": {
        "id": "AM8Ook6KtTst"
      }
    },
    {
      "cell_type": "code",
      "source": [
        "value = 10 # 전역 변수"
      ],
      "metadata": {
        "id": "3rrW8somvR2r"
      },
      "execution_count": null,
      "outputs": []
    },
    {
      "cell_type": "code",
      "source": [
        "def my_func( arg ): # 인수는 지역 변수\n",
        "    value = arg # 지역 변수 생성\n",
        "    print( f'\\tmy_func()에 전달된 인수 : {value} ({id( value )})' )\n",
        "    value += 10 # 지역 변수 내용 변경\n",
        "    print( f'\\tmy_func()에 전달된 인수를 변경한 값 : {value} ({id( value )})' )"
      ],
      "metadata": {
        "id": "P7V6XgtEvStt"
      },
      "execution_count": null,
      "outputs": []
    },
    {
      "cell_type": "code",
      "source": [
        "print( f'함수 호출전 value : {value} ({id( value )})' )\n",
        "l = my_func( value )\n",
        "print( f'함수 호출후 value : {value} ({id( value )})' )"
      ],
      "metadata": {
        "colab": {
          "base_uri": "https://localhost:8080/"
        },
        "id": "gpDdHnhDvido",
        "outputId": "527ba1ad-b249-404f-8974-2b4def132e15"
      },
      "execution_count": null,
      "outputs": [
        {
          "output_type": "stream",
          "name": "stdout",
          "text": [
            "함수 호출전 value : 10 (94232741120800)\n",
            "\tmy_func()에 전달된 인수 : 10 (94232741120800)\n",
            "\tmy_func()에 전달된 인수를 변경한 값 : 20 (94232741121120)\n",
            "함수 호출후 value : 10 (94232741120800)\n"
          ]
        }
      ]
    },
    {
      "cell_type": "code",
      "source": [
        "def my_func( arg ): # 인수는 지역 변수\n",
        "    global value # 전역 변수 사용 선언\n",
        "    value = arg \n",
        "    print( f'\\tmy_func()에 전달된 인수 : {value} ({id( value )})' )\n",
        "    value += 10 # 지역 변수 내용 변경\n",
        "    print( f'\\tmy_func()에 전달된 인수를 변경한 값 : {value} ({id( value )})' )"
      ],
      "metadata": {
        "id": "dosuJ4nHvtOj"
      },
      "execution_count": null,
      "outputs": []
    },
    {
      "cell_type": "code",
      "source": [
        "print( f'함수 호출전 value : {value} ({id( value )})' )\n",
        "l = my_func( value )\n",
        "print( f'함수 호출후 value : {value} ({id( value )})' )"
      ],
      "metadata": {
        "colab": {
          "base_uri": "https://localhost:8080/"
        },
        "id": "5jQosetlxVoC",
        "outputId": "c2b4a351-25ce-46a1-d3fe-514bd06bdf6c"
      },
      "execution_count": null,
      "outputs": [
        {
          "output_type": "stream",
          "name": "stdout",
          "text": [
            "함수 호출전 value : 10 (94232741120800)\n",
            "\tmy_func()에 전달된 인수 : 10 (94232741120800)\n",
            "\tmy_func()에 전달된 인수를 변경한 값 : 20 (94232741121120)\n",
            "함수 호출후 value : 20 (94232741121120)\n"
          ]
        }
      ]
    },
    {
      "cell_type": "markdown",
      "source": [
        "### default 인수"
      ],
      "metadata": {
        "id": "E9wLhEgyxX4X"
      }
    },
    {
      "cell_type": "code",
      "source": [
        "# 인수 number1의 default 값 : 5\n",
        "# 인수 number1의 default 값 : 10\n",
        "def add( number1 = 5, number2 = 10 ):\n",
        "    return number1 + number2"
      ],
      "metadata": {
        "id": "bSY5ZEfhD42e"
      },
      "execution_count": null,
      "outputs": []
    },
    {
      "cell_type": "code",
      "source": [
        "print( f'add( 5, 10 ) = {add( 5, 10 )}' )"
      ],
      "metadata": {
        "colab": {
          "base_uri": "https://localhost:8080/"
        },
        "id": "KTSG4gooD81e",
        "outputId": "b92d8bfb-32cc-429c-cdc3-4edc4d7bef54"
      },
      "execution_count": null,
      "outputs": [
        {
          "output_type": "stream",
          "name": "stdout",
          "text": [
            "add( 5, 10 ) = 15\n"
          ]
        }
      ]
    },
    {
      "cell_type": "code",
      "source": [
        "print( f'add( 5, 10 ) = {add( 5 )}' )"
      ],
      "metadata": {
        "colab": {
          "base_uri": "https://localhost:8080/"
        },
        "id": "IAbXw_P1EAkG",
        "outputId": "6dcb16b1-24dc-449b-dbaf-13961ee561c5"
      },
      "execution_count": null,
      "outputs": [
        {
          "output_type": "stream",
          "name": "stdout",
          "text": [
            "add( 5, 10 ) = 15\n"
          ]
        }
      ]
    },
    {
      "cell_type": "code",
      "source": [
        "print( f'add( 5, 10 ) = {add()}' )"
      ],
      "metadata": {
        "colab": {
          "base_uri": "https://localhost:8080/"
        },
        "id": "fujQ-ktVEC6Q",
        "outputId": "896b11d8-47d6-49bc-8370-7038a55ddf93"
      },
      "execution_count": null,
      "outputs": [
        {
          "output_type": "stream",
          "name": "stdout",
          "text": [
            "add( 5, 10 ) = 15\n"
          ]
        }
      ]
    },
    {
      "cell_type": "code",
      "source": [
        "# 인수 number1은 필수 인수\n",
        "# 인수 number2는 선택 인수\n",
        "def add( number1, number2 = 10 ):\n",
        "    return number1 + number2"
      ],
      "metadata": {
        "id": "9xdFoVRTEERg"
      },
      "execution_count": null,
      "outputs": []
    },
    {
      "cell_type": "code",
      "source": [
        "print( f'add( 5, 10 ) = {add( 5 )}' )"
      ],
      "metadata": {
        "colab": {
          "base_uri": "https://localhost:8080/"
        },
        "id": "DxKdYazSFeGB",
        "outputId": "e578cc67-070b-40ba-efed-7f04da892000"
      },
      "execution_count": null,
      "outputs": [
        {
          "output_type": "stream",
          "name": "stdout",
          "text": [
            "add( 5, 10 ) = 15\n"
          ]
        }
      ]
    },
    {
      "cell_type": "code",
      "source": [
        "print( f'add( 5, 10 ) = {add()}' )"
      ],
      "metadata": {
        "colab": {
          "base_uri": "https://localhost:8080/",
          "height": 172
        },
        "id": "1U2veZiFFg3k",
        "outputId": "2d5b6dc9-a541-45ce-cd24-279e4a9718c7"
      },
      "execution_count": null,
      "outputs": [
        {
          "output_type": "error",
          "ename": "TypeError",
          "evalue": "ignored",
          "traceback": [
            "\u001b[0;31m---------------------------------------------------------------------------\u001b[0m",
            "\u001b[0;31mTypeError\u001b[0m                                 Traceback (most recent call last)",
            "\u001b[0;32m<ipython-input-47-6774c2afae25>\u001b[0m in \u001b[0;36m<module>\u001b[0;34m()\u001b[0m\n\u001b[0;32m----> 1\u001b[0;31m \u001b[0mprint\u001b[0m\u001b[0;34m(\u001b[0m \u001b[0;34mf'add( 5, 10 ) = {add()}'\u001b[0m \u001b[0;34m)\u001b[0m\u001b[0;34m\u001b[0m\u001b[0;34m\u001b[0m\u001b[0m\n\u001b[0m",
            "\u001b[0;31mTypeError\u001b[0m: add() missing 1 required positional argument: 'number1'"
          ]
        }
      ]
    },
    {
      "cell_type": "code",
      "source": [
        "def add( number1 = 5, number2 ):\n",
        "    return number1 + number2"
      ],
      "metadata": {
        "colab": {
          "base_uri": "https://localhost:8080/",
          "height": 136
        },
        "id": "D0zCDQm0FsTI",
        "outputId": "d0537334-e561-49bb-8ac6-b8b97e8b69e1"
      },
      "execution_count": null,
      "outputs": [
        {
          "output_type": "error",
          "ename": "SyntaxError",
          "evalue": "ignored",
          "traceback": [
            "\u001b[0;36m  File \u001b[0;32m\"<ipython-input-48-e6303a432cd8>\"\u001b[0;36m, line \u001b[0;32m1\u001b[0m\n\u001b[0;31m    def add( number1 = 5, number2 ):\u001b[0m\n\u001b[0m            ^\u001b[0m\n\u001b[0;31mSyntaxError\u001b[0m\u001b[0;31m:\u001b[0m non-default argument follows default argument\n"
          ]
        }
      ]
    },
    {
      "cell_type": "markdown",
      "source": [
        "### keyword 인수"
      ],
      "metadata": {
        "id": "S-vAAPBQGcDC"
      }
    },
    {
      "cell_type": "code",
      "source": [
        "def area( height, width ):\n",
        "    return height * width"
      ],
      "metadata": {
        "id": "5bJTIbwdHdRo"
      },
      "execution_count": null,
      "outputs": []
    },
    {
      "cell_type": "code",
      "source": [
        "print( f'area( 5, 10 ) = {area( 5, 10 )}' )"
      ],
      "metadata": {
        "colab": {
          "base_uri": "https://localhost:8080/"
        },
        "id": "r_6jlP9IHgx1",
        "outputId": "8a670c3c-67fd-443a-e38a-d94574c4d54f"
      },
      "execution_count": null,
      "outputs": [
        {
          "output_type": "stream",
          "name": "stdout",
          "text": [
            "area( 5, 10 ) = 50\n"
          ]
        }
      ]
    },
    {
      "cell_type": "code",
      "source": [
        "print( f'area( 5, 10 ) = {area( width = 10, height = 5 )}' )"
      ],
      "metadata": {
        "colab": {
          "base_uri": "https://localhost:8080/"
        },
        "id": "6UzSMrN6Hkw1",
        "outputId": "98030a3b-0d14-4b54-b0a9-c1f46550e118"
      },
      "execution_count": null,
      "outputs": [
        {
          "output_type": "stream",
          "name": "stdout",
          "text": [
            "area( 5, 10 ) = 50\n"
          ]
        }
      ]
    },
    {
      "cell_type": "markdown",
      "source": [
        "### 가변 인수"
      ],
      "metadata": {
        "id": "9Bj7-nywHn9X"
      }
    },
    {
      "cell_type": "code",
      "source": [
        "print() # 인수 전달없이 함수 호출"
      ],
      "metadata": {
        "colab": {
          "base_uri": "https://localhost:8080/"
        },
        "id": "esvWRa2AJBru",
        "outputId": "180b7c04-702c-469d-baf5-6d4cd310ab26"
      },
      "execution_count": null,
      "outputs": [
        {
          "output_type": "stream",
          "name": "stdout",
          "text": [
            "\n"
          ]
        }
      ]
    },
    {
      "cell_type": "code",
      "source": [
        "print( 'hello' ) # 하나의 인수 전달하는  함수 호출"
      ],
      "metadata": {
        "colab": {
          "base_uri": "https://localhost:8080/"
        },
        "id": "lci-YPc3JDSh",
        "outputId": "9a21d2eb-a16a-49b7-a9d6-da5dbe009281"
      },
      "execution_count": null,
      "outputs": [
        {
          "output_type": "stream",
          "name": "stdout",
          "text": [
            "hello\n"
          ]
        }
      ]
    },
    {
      "cell_type": "code",
      "source": [
        "print( 1, 'hello', 'python' ) # 3개의 인수 전달하는 함수 호출"
      ],
      "metadata": {
        "colab": {
          "base_uri": "https://localhost:8080/"
        },
        "id": "oN3BAQAIJE3o",
        "outputId": "6e6e830e-ab06-4504-ec5f-d513ef2e2f7a"
      },
      "execution_count": null,
      "outputs": [
        {
          "output_type": "stream",
          "name": "stdout",
          "text": [
            "1 hello python\n"
          ]
        }
      ]
    },
    {
      "cell_type": "code",
      "source": [
        "# a : 반드시 전달되는 인수\n",
        "# *arg : 가변인수\n",
        "def my_func( a, *arg ):\n",
        "    print( f'a : {type( a )}\\targ : {type( arg )}\\n' )\n",
        "    print( f'a : {a}' )\n",
        "    for i, v in enumerate( arg ):\n",
        "        print( f'전달 받은 인수 : [ {i:3} ] : {v}' )"
      ],
      "metadata": {
        "id": "jyElXvlWJHd8"
      },
      "execution_count": null,
      "outputs": []
    },
    {
      "cell_type": "code",
      "source": [
        "my_func( 5 )"
      ],
      "metadata": {
        "colab": {
          "base_uri": "https://localhost:8080/"
        },
        "id": "oO7KOQh_KCTA",
        "outputId": "b3548417-a7cf-40b7-ec54-1ffdefa9c1bb"
      },
      "execution_count": null,
      "outputs": [
        {
          "output_type": "stream",
          "name": "stdout",
          "text": [
            "a : <class 'int'>\targ : <class 'tuple'>\n",
            "\n",
            "a : 5\n"
          ]
        }
      ]
    },
    {
      "cell_type": "code",
      "source": [
        "my_func( 5, 10, 'hello', 'python' )"
      ],
      "metadata": {
        "colab": {
          "base_uri": "https://localhost:8080/"
        },
        "id": "QgAyw17UKIGB",
        "outputId": "f1c376ed-d7d2-4125-b340-c591031c98db"
      },
      "execution_count": null,
      "outputs": [
        {
          "output_type": "stream",
          "name": "stdout",
          "text": [
            "a : <class 'int'>\targ : <class 'tuple'>\n",
            "\n",
            "a : 5\n",
            "전달 받은 인수 : [   0 ] : 10\n",
            "전달 받은 인수 : [   1 ] : hello\n",
            "전달 받은 인수 : [   2 ] : python\n"
          ]
        }
      ]
    },
    {
      "cell_type": "code",
      "source": [
        "# height, width : 필수 인수\n",
        "# **kw : keyword 가변인수\n",
        "def my_func( height, width, **kw ):\n",
        "    print( f'height : {type( height )}\\t', end = '' )\n",
        "    print( f'width : {type( width )}\\t', end = '' )\n",
        "    print( f'kw : {type( kw )} ( {len( kw )} )' )\n",
        "    \n",
        "    print( f'height : {height}\\twidth : {width}' )\n",
        "    \n",
        "    for k, v in kw.items():\n",
        "        print( f'keyword 가변 인수 : [ {k} ] : {v}' )"
      ],
      "metadata": {
        "id": "-3Lm6HRIKKzn"
      },
      "execution_count": null,
      "outputs": []
    },
    {
      "cell_type": "code",
      "source": [
        "my_func( width = 10, height = 5 ) # keyword 인수로 호출"
      ],
      "metadata": {
        "colab": {
          "base_uri": "https://localhost:8080/"
        },
        "id": "DC_W783jMYf9",
        "outputId": "73ce6722-fc64-4f7d-f670-b99ea98f2566"
      },
      "execution_count": null,
      "outputs": [
        {
          "output_type": "stream",
          "name": "stdout",
          "text": [
            "height : <class 'int'>\twidth : <class 'int'>\tkw : <class 'dict'> ( 0 )\n",
            "height : 5\twidth : 10\n"
          ]
        }
      ]
    },
    {
      "cell_type": "code",
      "source": [
        "my_func( width = 10, height = 5, depth = 3, dimension = 3 )"
      ],
      "metadata": {
        "colab": {
          "base_uri": "https://localhost:8080/"
        },
        "id": "WPz04DNgMbuc",
        "outputId": "947b91e7-8bdd-46ca-bf0a-7d8421df0355"
      },
      "execution_count": null,
      "outputs": [
        {
          "output_type": "stream",
          "name": "stdout",
          "text": [
            "height : <class 'int'>\twidth : <class 'int'>\tkw : <class 'dict'> ( 2 )\n",
            "height : 5\twidth : 10\n",
            "keyword 가변 인수 : [ depth ] : 3\n",
            "keyword 가변 인수 : [ dimension ] : 3\n"
          ]
        }
      ]
    },
    {
      "cell_type": "code",
      "source": [
        "def my_func( a, b, *arg, **kw ):\n",
        "    print( a )\n",
        "    print( b, '\\n' )\n",
        "    print( arg, '\\n' )\n",
        "    print( kw )"
      ],
      "metadata": {
        "id": "PnEAnB7PMkkc"
      },
      "execution_count": null,
      "outputs": []
    },
    {
      "cell_type": "code",
      "source": [
        "# 필수 인수와 keyword 가변 인수\n",
        "my_func( 5, 10, height = 5, width = 10 ) "
      ],
      "metadata": {
        "colab": {
          "base_uri": "https://localhost:8080/"
        },
        "id": "guSln922No20",
        "outputId": "7341de0a-81ee-4300-b1e8-d88e2ea4afd4"
      },
      "execution_count": null,
      "outputs": [
        {
          "output_type": "stream",
          "name": "stdout",
          "text": [
            "5\n",
            "10 \n",
            "\n",
            "() \n",
            "\n",
            "{'height': 5, 'width': 10}\n"
          ]
        }
      ]
    },
    {
      "cell_type": "code",
      "source": [
        "# 필수 인수와 가변 인수\n",
        "my_func( 5, 10, 20, 30 )"
      ],
      "metadata": {
        "colab": {
          "base_uri": "https://localhost:8080/"
        },
        "id": "C_wS653JNryU",
        "outputId": "807f1923-216d-4996-8ec3-b1117ef7ee45"
      },
      "execution_count": null,
      "outputs": [
        {
          "output_type": "stream",
          "name": "stdout",
          "text": [
            "5\n",
            "10 \n",
            "\n",
            "(20, 30) \n",
            "\n",
            "{}\n"
          ]
        }
      ]
    },
    {
      "cell_type": "code",
      "source": [
        "# 필수 인수와 가변 인수와 keyword 가변인수\n",
        "my_func( 5, 10, 20, 30, width = 10, height = 5, depth = 3 )"
      ],
      "metadata": {
        "colab": {
          "base_uri": "https://localhost:8080/"
        },
        "id": "TStMuRHJNuuC",
        "outputId": "634e1dec-c683-48f0-98aa-53cfe3a5a0c1"
      },
      "execution_count": null,
      "outputs": [
        {
          "output_type": "stream",
          "name": "stdout",
          "text": [
            "5\n",
            "10 \n",
            "\n",
            "(20, 30) \n",
            "\n",
            "{'width': 10, 'height': 5, 'depth': 3}\n"
          ]
        }
      ]
    },
    {
      "cell_type": "markdown",
      "source": [
        "# 모듈\n",
        "\n",
        "## colab에서 google drive에 접근하기 위한 mount 과정"
      ],
      "metadata": {
        "id": "AYgH89xON1K_"
      }
    },
    {
      "cell_type": "code",
      "source": [
        "USE_GOOGLE_COLAB = True\n",
        "ROOT_FOLDER_NAME = '/content/drive/MyDrive/수업자료/2022솔데스크/Workspace-Python'\n",
        "\n",
        "if USE_GOOGLE_COLAB:\n",
        "    from google.colab import drive\n",
        "    drive.mount( '/content/drive' ) # google drive mount\n",
        "\n",
        "# %cd : linux shell 명령, ipython 매직 명령\n",
        "%cd $ROOT_FOLDER_NAME"
      ],
      "metadata": {
        "colab": {
          "base_uri": "https://localhost:8080/"
        },
        "id": "BdZWU5FDVmE5",
        "outputId": "12818cc8-d132-49e8-9153-7545e60a8fca"
      },
      "execution_count": null,
      "outputs": [
        {
          "output_type": "stream",
          "name": "stdout",
          "text": [
            "Drive already mounted at /content/drive; to attempt to forcibly remount, call drive.mount(\"/content/drive\", force_remount=True).\n",
            "/content/drive/MyDrive/수업자료/2022솔데스크/Workspace-Python\n"
          ]
        }
      ]
    },
    {
      "cell_type": "code",
      "source": [
        "!ls"
      ],
      "metadata": {
        "colab": {
          "base_uri": "https://localhost:8080/"
        },
        "id": "TCdxO3K1WjWF",
        "outputId": "f8c01ece-72f9-4abf-cea6-b7649bd85cae"
      },
      "execution_count": null,
      "outputs": [
        {
          "output_type": "stream",
          "name": "stdout",
          "text": [
            "first.py  my_lib.py\t    Teach_2day.ipynb  Teach_4day.ipynb\n",
            "info.txt  Teach_1day.ipynb  Teach_3day.ipynb  Teach_5day.ipynb\n"
          ]
        }
      ]
    },
    {
      "cell_type": "markdown",
      "source": [
        "### 모듈 사용"
      ],
      "metadata": {
        "id": "twZVz0t1X8G9"
      }
    },
    {
      "cell_type": "code",
      "source": [
        "import my_lib # 모듈 로드"
      ],
      "metadata": {
        "id": "L2U2eKcjYhJc"
      },
      "execution_count": null,
      "outputs": []
    },
    {
      "cell_type": "code",
      "source": [
        "dir( my_lib ) # 모듈 내용 확인"
      ],
      "metadata": {
        "colab": {
          "base_uri": "https://localhost:8080/"
        },
        "id": "oi1z6QxKYi2U",
        "outputId": "191b3ecc-95ec-4ed1-987b-ab6a85ef5526"
      },
      "execution_count": null,
      "outputs": [
        {
          "output_type": "execute_result",
          "data": {
            "text/plain": [
              "['HIGH_SCORE',\n",
              " 'LOW_SCORE',\n",
              " 'MAX_DATA',\n",
              " 'MAX_SUBJECT',\n",
              " '__builtins__',\n",
              " '__cached__',\n",
              " '__doc__',\n",
              " '__file__',\n",
              " '__loader__',\n",
              " '__name__',\n",
              " '__package__',\n",
              " '__spec__',\n",
              " 'min_max']"
            ]
          },
          "metadata": {},
          "execution_count": 74
        }
      ]
    },
    {
      "cell_type": "code",
      "source": [
        "l = [ 5, 2, 1, 3, 4 ]\n",
        "\n",
        "print( f'MAX_DATA : {my_lib.MAX_DATA}' )\n",
        "result = my_lib.min_max( l )\n",
        "print( f'max number : {result[ \"max\" ]}\\t', end = '' )\n",
        "print( f'min number : {result[ \"min\" ]}' )"
      ],
      "metadata": {
        "colab": {
          "base_uri": "https://localhost:8080/"
        },
        "id": "LiaYVJPqYk-7",
        "outputId": "ecb38a59-b4c0-4cb1-f8aa-0a4c2a3a92dc"
      },
      "execution_count": null,
      "outputs": [
        {
          "output_type": "stream",
          "name": "stdout",
          "text": [
            "MAX_DATA : 3\n",
            "max number : 5\tmin number : 1\n"
          ]
        }
      ]
    },
    {
      "cell_type": "code",
      "source": [
        "import my_lib as my"
      ],
      "metadata": {
        "id": "5g7-xi7IZhTL"
      },
      "execution_count": null,
      "outputs": []
    },
    {
      "cell_type": "code",
      "source": [
        "print( f'MAX_DATA : {my.MAX_DATA}' )\n",
        "result = my.min_max( l )\n",
        "print( f'max number : {result[ \"max\" ]}\\t', end = '' )\n",
        "print( f'min number : {result[ \"min\" ]}' )"
      ],
      "metadata": {
        "colab": {
          "base_uri": "https://localhost:8080/"
        },
        "id": "cEdLtvORafYs",
        "outputId": "f20eb81b-21d0-41d0-8790-c6b07c76318d"
      },
      "execution_count": null,
      "outputs": [
        {
          "output_type": "stream",
          "name": "stdout",
          "text": [
            "MAX_DATA : 3\n",
            "max number : 5\tmin number : 1\n"
          ]
        }
      ]
    },
    {
      "cell_type": "code",
      "source": [
        "from my_lib import MAX_DATA\n",
        "from my_lib import min_max"
      ],
      "metadata": {
        "id": "fgfI2FVPajcm"
      },
      "execution_count": null,
      "outputs": []
    },
    {
      "cell_type": "code",
      "source": [
        "print( f'MAX_DATA : {MAX_DATA}' )\n",
        "result = min_max( l )\n",
        "print( f'max number : {result[ \"max\" ]}\\t', end = '' )\n",
        "print( f'min number : {result[ \"min\" ]}' )"
      ],
      "metadata": {
        "colab": {
          "base_uri": "https://localhost:8080/"
        },
        "id": "QKRo7iCGa20i",
        "outputId": "1fcd9f25-a63a-461f-83eb-017b39001375"
      },
      "execution_count": null,
      "outputs": [
        {
          "output_type": "stream",
          "name": "stdout",
          "text": [
            "MAX_DATA : 3\n",
            "max number : 5\tmin number : 1\n"
          ]
        }
      ]
    },
    {
      "cell_type": "markdown",
      "source": [
        "# 예외 처리"
      ],
      "metadata": {
        "id": "D52xJVdea5th"
      }
    },
    {
      "cell_type": "code",
      "source": [
        "5 / 0"
      ],
      "metadata": {
        "colab": {
          "base_uri": "https://localhost:8080/",
          "height": 172
        },
        "id": "Yu5M9F8wg4zd",
        "outputId": "41a2e186-a8a4-4c6d-f6d7-3cb24bb9eb9b"
      },
      "execution_count": null,
      "outputs": [
        {
          "output_type": "error",
          "ename": "ZeroDivisionError",
          "evalue": "ignored",
          "traceback": [
            "\u001b[0;31m---------------------------------------------------------------------------\u001b[0m",
            "\u001b[0;31mZeroDivisionError\u001b[0m                         Traceback (most recent call last)",
            "\u001b[0;32m<ipython-input-86-adafc2937013>\u001b[0m in \u001b[0;36m<module>\u001b[0;34m()\u001b[0m\n\u001b[0;32m----> 1\u001b[0;31m \u001b[0;36m5\u001b[0m \u001b[0;34m/\u001b[0m \u001b[0;36m0\u001b[0m\u001b[0;34m\u001b[0m\u001b[0;34m\u001b[0m\u001b[0m\n\u001b[0m",
            "\u001b[0;31mZeroDivisionError\u001b[0m: division by zero"
          ]
        }
      ]
    },
    {
      "cell_type": "code",
      "source": [
        "# 예외 처리가 적용된 코드\n",
        "try:\n",
        "    5 / 0 # 예외 발생 가능성이 높은 코드\n",
        "except ZeroDivisionError:\n",
        "    print( 'Error : zero division' )\n",
        "finally:\n",
        "    print( '\\nstop script' )"
      ],
      "metadata": {
        "colab": {
          "base_uri": "https://localhost:8080/"
        },
        "id": "1Xqr3R8zlGYh",
        "outputId": "fcadbf92-b37c-410a-ba5b-88eae68d6f3b"
      },
      "execution_count": null,
      "outputs": [
        {
          "output_type": "stream",
          "name": "stdout",
          "text": [
            "Error : zero division\n",
            "\n",
            "stop script\n"
          ]
        }
      ]
    },
    {
      "cell_type": "code",
      "source": [
        "number = int( input( '정수 입력 : ' ) )"
      ],
      "metadata": {
        "colab": {
          "base_uri": "https://localhost:8080/",
          "height": 190
        },
        "id": "_T4hZhqCg64u",
        "outputId": "7fc08d76-5e0e-42fa-decf-b6ab4a6da3c9"
      },
      "execution_count": null,
      "outputs": [
        {
          "name": "stdout",
          "output_type": "stream",
          "text": [
            "정수 입력 : a\n"
          ]
        },
        {
          "output_type": "error",
          "ename": "ValueError",
          "evalue": "ignored",
          "traceback": [
            "\u001b[0;31m---------------------------------------------------------------------------\u001b[0m",
            "\u001b[0;31mValueError\u001b[0m                                Traceback (most recent call last)",
            "\u001b[0;32m<ipython-input-87-4542ed024afd>\u001b[0m in \u001b[0;36m<module>\u001b[0;34m()\u001b[0m\n\u001b[0;32m----> 1\u001b[0;31m \u001b[0mnumber\u001b[0m \u001b[0;34m=\u001b[0m \u001b[0mint\u001b[0m\u001b[0;34m(\u001b[0m \u001b[0minput\u001b[0m\u001b[0;34m(\u001b[0m \u001b[0;34m'정수 입력 : '\u001b[0m \u001b[0;34m)\u001b[0m \u001b[0;34m)\u001b[0m\u001b[0;34m\u001b[0m\u001b[0;34m\u001b[0m\u001b[0m\n\u001b[0m",
            "\u001b[0;31mValueError\u001b[0m: invalid literal for int() with base 10: 'a'"
          ]
        }
      ]
    },
    {
      "cell_type": "code",
      "source": [
        "try:\n",
        "    number = int( input( '정수 입력 : ' ) )\n",
        "except ValueError as e:\n",
        "    print( f'Error : [{e}] -> 정수만 입력하세요...' )\n",
        "finally:\n",
        "    print( '\\nStop Script' )"
      ],
      "metadata": {
        "colab": {
          "base_uri": "https://localhost:8080/"
        },
        "id": "6dDrxfqIkqFn",
        "outputId": "b3e37a1d-41b4-47b4-b7ca-29185610dbcc"
      },
      "execution_count": null,
      "outputs": [
        {
          "output_type": "stream",
          "name": "stdout",
          "text": [
            "정수 입력 : a\n",
            "Error : [invalid literal for int() with base 10: 'a'] -> 정수만 입력하세요...\n",
            "\n",
            "Stop Script\n"
          ]
        }
      ]
    },
    {
      "cell_type": "code",
      "source": [
        "try:\n",
        "    number = int( input( '정수 입력 : ' ) )\n",
        "except Exception as e:\n",
        "    print( f'Error : [{e}] -> 정수만 입력하세요...' )\n",
        "finally:\n",
        "    print( '\\nStop Script' )"
      ],
      "metadata": {
        "colab": {
          "base_uri": "https://localhost:8080/"
        },
        "id": "2Z5cdjxCm4_R",
        "outputId": "01026c27-4c38-4a55-a945-4c54281cfdb5"
      },
      "execution_count": null,
      "outputs": [
        {
          "output_type": "stream",
          "name": "stdout",
          "text": [
            "정수 입력 : a\n",
            "Error : [invalid literal for int() with base 10: 'a'] -> 정수만 입력하세요...\n",
            "\n",
            "Stop Script\n"
          ]
        }
      ]
    },
    {
      "cell_type": "code",
      "source": [
        "try:\n",
        "    5 / 0 \n",
        "except Exception as e:\n",
        "    print( f'Error : {e}' )\n",
        "finally:\n",
        "    print( '\\nstop script' )"
      ],
      "metadata": {
        "colab": {
          "base_uri": "https://localhost:8080/"
        },
        "id": "_S4uIxx6ndHV",
        "outputId": "8b7c66fc-6955-4cfc-e41a-323d7854ee9f"
      },
      "execution_count": null,
      "outputs": [
        {
          "output_type": "stream",
          "name": "stdout",
          "text": [
            "Error : division by zero\n",
            "\n",
            "stop script\n"
          ]
        }
      ]
    },
    {
      "cell_type": "code",
      "source": [
        "try:\n",
        "    number = int( input( '정수 입력 : ' ) )\n",
        "except ValueError as e:\n",
        "    print( f'Error : [{e}] -> 정수만 입력하세요...' )\n",
        "except Exception as e:\n",
        "    print( f'Error : [{e}]' )\n",
        "finally:\n",
        "    print( '\\nStop Script' )"
      ],
      "metadata": {
        "colab": {
          "base_uri": "https://localhost:8080/"
        },
        "id": "-HM8J1BynpJf",
        "outputId": "3ecb0dc3-7fe5-4509-dcf3-afb5a214661f"
      },
      "execution_count": null,
      "outputs": [
        {
          "output_type": "stream",
          "name": "stdout",
          "text": [
            "정수 입력 : a\n",
            "Error : [invalid literal for int() with base 10: 'a'] -> 정수만 입력하세요...\n",
            "\n",
            "Stop Script\n"
          ]
        }
      ]
    },
    {
      "cell_type": "code",
      "source": [
        "try:\n",
        "    number = int( input( '정수 입력 : ' ) )\n",
        "except Exception as e:\n",
        "    print( f'Error : [{e}]' )\n",
        "except ValueError as e:\n",
        "    print( f'Error : [{e}] -> 정수만 입력하세요...' )\n",
        "finally:\n",
        "    print( '\\nStop Script' )"
      ],
      "metadata": {
        "colab": {
          "base_uri": "https://localhost:8080/"
        },
        "id": "4rpC_U6vobO_",
        "outputId": "048421bc-1b42-4324-a78a-3adcf348fbea"
      },
      "execution_count": null,
      "outputs": [
        {
          "output_type": "stream",
          "name": "stdout",
          "text": [
            "정수 입력 : a\n",
            "Error : [invalid literal for int() with base 10: 'a']\n",
            "\n",
            "Stop Script\n"
          ]
        }
      ]
    },
    {
      "cell_type": "markdown",
      "source": [
        "# 파일 처리"
      ],
      "metadata": {
        "id": "Leod5T-Uohby"
      }
    },
    {
      "cell_type": "code",
      "source": [
        "# text file에 레코드 쓰기\n",
        "#\n",
        "# file open\n",
        "# sample.txt 파일, text file, 쓰기 모드\n",
        "f = open( 'sample.txt', 'w' )\n",
        "\n",
        "for i in range( 1, 11 ):\n",
        "    # record write\n",
        "    # 3byte 크기의 고정 길이 레코드로 쓰기\n",
        "    f.write( f'{i:3}\\n' )\n",
        "\n",
        "# file close\n",
        "f.close() "
      ],
      "metadata": {
        "id": "F4vCTYLizEKs"
      },
      "execution_count": null,
      "outputs": []
    },
    {
      "cell_type": "code",
      "source": [
        "# text file에서 레코드 읽기\n",
        "#\n",
        "# file open\n",
        "# sample.txt 파일, text file, 읽기 모드\n",
        "f = open( 'sample.txt', 'r' )\n",
        "\n",
        "# 레코드 단위로 읽기\n",
        "line = f.readline() \n",
        "while line: # EOF가 아닌동안 반복\n",
        "    print( line, end = '' )\n",
        "    line = f.readline()\n",
        "\n",
        "f.close()"
      ],
      "metadata": {
        "colab": {
          "base_uri": "https://localhost:8080/"
        },
        "id": "nb2Mj8DFzUZi",
        "outputId": "4c9cd0f0-40b1-4cea-f99e-81d2b7726644"
      },
      "execution_count": null,
      "outputs": [
        {
          "output_type": "stream",
          "name": "stdout",
          "text": [
            "  1\n",
            "  2\n",
            "  3\n",
            "  4\n",
            "  5\n",
            "  6\n",
            "  7\n",
            "  8\n",
            "  9\n",
            " 10\n"
          ]
        }
      ]
    },
    {
      "cell_type": "code",
      "source": [
        "with open( 'sample.txt', 'r' ) as f:\n",
        "    line = f.readline()\n",
        "    while line:\n",
        "        print( line, end = '' )\n",
        "        line = f.readline() "
      ],
      "metadata": {
        "colab": {
          "base_uri": "https://localhost:8080/"
        },
        "id": "jo6zjQkn0mGP",
        "outputId": "c3d4bf6b-e65a-49af-8a2b-9abe9dbddc04"
      },
      "execution_count": null,
      "outputs": [
        {
          "output_type": "stream",
          "name": "stdout",
          "text": [
            "  1\n",
            "  2\n",
            "  3\n",
            "  4\n",
            "  5\n",
            "  6\n",
            "  7\n",
            "  8\n",
            "  9\n",
            " 10\n"
          ]
        }
      ]
    },
    {
      "cell_type": "code",
      "source": [
        ""
      ],
      "metadata": {
        "id": "TVxox6qW1iaZ"
      },
      "execution_count": null,
      "outputs": []
    }
  ]
}