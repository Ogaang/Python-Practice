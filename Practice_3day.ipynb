{
  "nbformat": 4,
  "nbformat_minor": 0,
  "metadata": {
    "colab": {
      "name": "Teach_3day.ipynb",
      "provenance": [],
      "collapsed_sections": [],
      "include_colab_link": true
    },
    "kernelspec": {
      "name": "python3",
      "display_name": "Python 3"
    },
    "language_info": {
      "name": "python"
    }
  },
  "cells": [
    {
      "cell_type": "markdown",
      "metadata": {
        "id": "view-in-github",
        "colab_type": "text"
      },
      "source": [
        "<a href=\"https://colab.research.google.com/github/Ogaang/Python-Practice/blob/master/Practice_3day.ipynb\" target=\"_parent\"><img src=\"https://colab.research.google.com/assets/colab-badge.svg\" alt=\"Open In Colab\"/></a>"
      ]
    },
    {
      "cell_type": "markdown",
      "source": [
        "# str 메서드( method )"
      ],
      "metadata": {
        "id": "QmgHpR8qpBZ8"
      }
    },
    {
      "cell_type": "code",
      "source": [
        "number = 10\n",
        "print( f'{number} [{type( number )}]' )"
      ],
      "metadata": {
        "colab": {
          "base_uri": "https://localhost:8080/"
        },
        "id": "VxTTpH5y7Nu1",
        "outputId": "74ae1ef0-dd3e-48b2-d777-2ca53a1e326a"
      },
      "execution_count": null,
      "outputs": [
        {
          "output_type": "stream",
          "name": "stdout",
          "text": [
            "10 [<class 'int'>]\n"
          ]
        }
      ]
    },
    {
      "cell_type": "code",
      "source": [
        "string = 'python'\n",
        "print( f'{string} [{type( string )}]' )"
      ],
      "metadata": {
        "colab": {
          "base_uri": "https://localhost:8080/"
        },
        "id": "7NMf3bLT7VAc",
        "outputId": "d8b80acb-05fd-4bd2-c7c4-13dee079a21b"
      },
      "execution_count": null,
      "outputs": [
        {
          "output_type": "stream",
          "name": "stdout",
          "text": [
            "python [<class 'str'>]\n"
          ]
        }
      ]
    },
    {
      "cell_type": "code",
      "source": [
        "string = 'python programming. python is simple'\n",
        "print( f'{string} [{type( string )}]' )"
      ],
      "metadata": {
        "colab": {
          "base_uri": "https://localhost:8080/"
        },
        "id": "o2k08QjX7jgF",
        "outputId": "83cc4c8d-51f0-4cea-f7ea-46a826b2b004"
      },
      "execution_count": null,
      "outputs": [
        {
          "output_type": "stream",
          "name": "stdout",
          "text": [
            "python programming. python is simple [<class 'str'>]\n"
          ]
        }
      ]
    },
    {
      "cell_type": "code",
      "source": [
        "string.upper() # 대문자 변환"
      ],
      "metadata": {
        "colab": {
          "base_uri": "https://localhost:8080/",
          "height": 35
        },
        "id": "iFf1b5hs8GBh",
        "outputId": "5584b7db-bea1-413f-f159-4e6d84115a97"
      },
      "execution_count": null,
      "outputs": [
        {
          "output_type": "execute_result",
          "data": {
            "application/vnd.google.colaboratory.intrinsic+json": {
              "type": "string"
            },
            "text/plain": [
              "'PYTHON PROGRAMMING. PYTHON IS SIMPLE'"
            ]
          },
          "metadata": {},
          "execution_count": 5
        }
      ]
    },
    {
      "cell_type": "code",
      "source": [
        "string = string.upper()\n",
        "string"
      ],
      "metadata": {
        "colab": {
          "base_uri": "https://localhost:8080/",
          "height": 35
        },
        "id": "ksCk0zjC8p_n",
        "outputId": "73d03439-db58-4401-c407-4c7baeaa5443"
      },
      "execution_count": null,
      "outputs": [
        {
          "output_type": "execute_result",
          "data": {
            "application/vnd.google.colaboratory.intrinsic+json": {
              "type": "string"
            },
            "text/plain": [
              "'PYTHON PROGRAMMING. PYTHON IS SIMPLE'"
            ]
          },
          "metadata": {},
          "execution_count": 10
        }
      ]
    },
    {
      "cell_type": "code",
      "source": [
        "string = string.lower() # 소문자 변환\n",
        "string"
      ],
      "metadata": {
        "colab": {
          "base_uri": "https://localhost:8080/",
          "height": 35
        },
        "id": "N2NxGVNH8KVd",
        "outputId": "838103be-e2c1-497a-c341-c4d4e0862d42"
      },
      "execution_count": null,
      "outputs": [
        {
          "output_type": "execute_result",
          "data": {
            "application/vnd.google.colaboratory.intrinsic+json": {
              "type": "string"
            },
            "text/plain": [
              "'python programming. python is simple'"
            ]
          },
          "metadata": {},
          "execution_count": 11
        }
      ]
    },
    {
      "cell_type": "code",
      "source": [
        "string.title() # 단어 첫 글자만 대문자 변환"
      ],
      "metadata": {
        "colab": {
          "base_uri": "https://localhost:8080/",
          "height": 35
        },
        "id": "gunBGoet8MDR",
        "outputId": "b7e803ea-7abd-4ed9-f0da-5033f06dc6f1"
      },
      "execution_count": null,
      "outputs": [
        {
          "output_type": "execute_result",
          "data": {
            "application/vnd.google.colaboratory.intrinsic+json": {
              "type": "string"
            },
            "text/plain": [
              "'Python Programming. Python Is Simple'"
            ]
          },
          "metadata": {},
          "execution_count": 7
        }
      ]
    },
    {
      "cell_type": "code",
      "source": [
        "string.capitalize() # 문장의 첫 글자 대문자 변환"
      ],
      "metadata": {
        "colab": {
          "base_uri": "https://localhost:8080/",
          "height": 35
        },
        "id": "3bUtjaYj8OHI",
        "outputId": "7116fde6-8236-4a46-dd22-bd0dc60b2a6f"
      },
      "execution_count": null,
      "outputs": [
        {
          "output_type": "execute_result",
          "data": {
            "application/vnd.google.colaboratory.intrinsic+json": {
              "type": "string"
            },
            "text/plain": [
              "'Python programming. python is simple'"
            ]
          },
          "metadata": {},
          "execution_count": 8
        }
      ]
    },
    {
      "cell_type": "code",
      "source": [
        "string.count( 'python' ) # 개수 파악"
      ],
      "metadata": {
        "colab": {
          "base_uri": "https://localhost:8080/"
        },
        "id": "Mke_LYOR8QsO",
        "outputId": "914bc962-d021-476a-95fb-f3698b6adc39"
      },
      "execution_count": null,
      "outputs": [
        {
          "output_type": "execute_result",
          "data": {
            "text/plain": [
              "2"
            ]
          },
          "metadata": {},
          "execution_count": 12
        }
      ]
    },
    {
      "cell_type": "code",
      "source": [
        "string.count( 'is' )"
      ],
      "metadata": {
        "colab": {
          "base_uri": "https://localhost:8080/"
        },
        "id": "pGQJFH639bJ5",
        "outputId": "38d2d702-a621-4904-94da-ddb575c83d2f"
      },
      "execution_count": null,
      "outputs": [
        {
          "output_type": "execute_result",
          "data": {
            "text/plain": [
              "1"
            ]
          },
          "metadata": {},
          "execution_count": 13
        }
      ]
    },
    {
      "cell_type": "code",
      "source": [
        "string.count( 'Python' )"
      ],
      "metadata": {
        "colab": {
          "base_uri": "https://localhost:8080/"
        },
        "id": "2nuBn9PT9d5Z",
        "outputId": "684ebf7c-31ce-4999-c295-8f27ba34dd41"
      },
      "execution_count": null,
      "outputs": [
        {
          "output_type": "execute_result",
          "data": {
            "text/plain": [
              "0"
            ]
          },
          "metadata": {},
          "execution_count": 14
        }
      ]
    },
    {
      "cell_type": "code",
      "source": [
        "'python' in string"
      ],
      "metadata": {
        "colab": {
          "base_uri": "https://localhost:8080/"
        },
        "id": "vyD-Q1vo9gJL",
        "outputId": "09ed2ce1-9a3f-4afe-9338-85ef429b6180"
      },
      "execution_count": null,
      "outputs": [
        {
          "output_type": "execute_result",
          "data": {
            "text/plain": [
              "True"
            ]
          },
          "metadata": {},
          "execution_count": 15
        }
      ]
    },
    {
      "cell_type": "code",
      "source": [
        "string"
      ],
      "metadata": {
        "colab": {
          "base_uri": "https://localhost:8080/",
          "height": 35
        },
        "id": "ilfIcopB-g9-",
        "outputId": "9ef6a5ac-0e3a-4bce-d506-1ee84b2dfae4"
      },
      "execution_count": null,
      "outputs": [
        {
          "output_type": "execute_result",
          "data": {
            "application/vnd.google.colaboratory.intrinsic+json": {
              "type": "string"
            },
            "text/plain": [
              "'python programming. python is simple'"
            ]
          },
          "metadata": {},
          "execution_count": 18
        }
      ]
    },
    {
      "cell_type": "code",
      "source": [
        "string.find( 'python' ) # 특정 문자열 시작 위치 확인"
      ],
      "metadata": {
        "colab": {
          "base_uri": "https://localhost:8080/"
        },
        "id": "x7BQCQee9-Nw",
        "outputId": "945964ec-62f3-4e17-af45-c14577201076"
      },
      "execution_count": null,
      "outputs": [
        {
          "output_type": "execute_result",
          "data": {
            "text/plain": [
              "0"
            ]
          },
          "metadata": {},
          "execution_count": 16
        }
      ]
    },
    {
      "cell_type": "code",
      "source": [
        "# find( 검색할 단어 [ , 검색 시작 위치 ] )\n",
        "string.find( 'python', 1 )"
      ],
      "metadata": {
        "colab": {
          "base_uri": "https://localhost:8080/"
        },
        "id": "ulp84KDZ-UKD",
        "outputId": "7f0e9689-6bd4-43a7-e783-38cb187128a3"
      },
      "execution_count": null,
      "outputs": [
        {
          "output_type": "execute_result",
          "data": {
            "text/plain": [
              "20"
            ]
          },
          "metadata": {},
          "execution_count": 17
        }
      ]
    },
    {
      "cell_type": "code",
      "source": [
        "# string 변수에 'python'이 몇 개 존재하고 \n",
        "# 위치 정보를 출력하는 파이썬 스크립트\n",
        "search_key = 'python'\n",
        "\n",
        "print( f'{string}\\n' )\n",
        "if search_key in string: # 'python' 포함 유무 확인\n",
        "    str_count = string.count( search_key ) # 'python' 개수 파악\n",
        "    print( f'{search_key} count : {str_count}\\n' )\n",
        "\n",
        "    for i in range( str_count ): # 'python' 시작 위치\n",
        "        str_index = string.find( search_key, i )\n",
        "        print( f'{search_key} index : [{str_index}]' )"
      ],
      "metadata": {
        "colab": {
          "base_uri": "https://localhost:8080/"
        },
        "id": "SjIGRnkA-Yks",
        "outputId": "a36887bf-3ac1-4f8e-9042-b4a2eefd9b06"
      },
      "execution_count": null,
      "outputs": [
        {
          "output_type": "stream",
          "name": "stdout",
          "text": [
            "python programming. python is simple\n",
            "\n",
            "python count : 2\n",
            "\n",
            "python index : [0]\n",
            "python index : [20]\n"
          ]
        }
      ]
    },
    {
      "cell_type": "code",
      "source": [
        "string.find( 'Python' )"
      ],
      "metadata": {
        "colab": {
          "base_uri": "https://localhost:8080/"
        },
        "id": "GSp3J0AcCAI-",
        "outputId": "2aaddf72-e179-4ffb-c597-03c35a2339c7"
      },
      "execution_count": null,
      "outputs": [
        {
          "output_type": "execute_result",
          "data": {
            "text/plain": [
              "-1"
            ]
          },
          "metadata": {},
          "execution_count": 25
        }
      ]
    },
    {
      "cell_type": "code",
      "source": [
        "string.index( 'python' ) # 특정 문자열 검색"
      ],
      "metadata": {
        "colab": {
          "base_uri": "https://localhost:8080/"
        },
        "id": "r5TGRIQJAFw8",
        "outputId": "524aabdd-3318-4ce8-e75e-f16022faa93b"
      },
      "execution_count": null,
      "outputs": [
        {
          "output_type": "execute_result",
          "data": {
            "text/plain": [
              "0"
            ]
          },
          "metadata": {},
          "execution_count": 22
        }
      ]
    },
    {
      "cell_type": "code",
      "source": [
        "string.index( 'python', 1 )"
      ],
      "metadata": {
        "colab": {
          "base_uri": "https://localhost:8080/"
        },
        "id": "SweGDAgzBZqm",
        "outputId": "21903730-1e64-4016-f20d-daa68e57e8c6"
      },
      "execution_count": null,
      "outputs": [
        {
          "output_type": "execute_result",
          "data": {
            "text/plain": [
              "20"
            ]
          },
          "metadata": {},
          "execution_count": 23
        }
      ]
    },
    {
      "cell_type": "code",
      "source": [
        "string.index( 'Python' )"
      ],
      "metadata": {
        "colab": {
          "base_uri": "https://localhost:8080/",
          "height": 172
        },
        "id": "THZOfndZBb-m",
        "outputId": "c5d66856-728d-4e6e-e722-85976ba34c5c"
      },
      "execution_count": null,
      "outputs": [
        {
          "output_type": "error",
          "ename": "ValueError",
          "evalue": "ignored",
          "traceback": [
            "\u001b[0;31m---------------------------------------------------------------------------\u001b[0m",
            "\u001b[0;31mValueError\u001b[0m                                Traceback (most recent call last)",
            "\u001b[0;32m<ipython-input-24-a8cc90ce401d>\u001b[0m in \u001b[0;36m<module>\u001b[0;34m()\u001b[0m\n\u001b[0;32m----> 1\u001b[0;31m \u001b[0mstring\u001b[0m\u001b[0;34m.\u001b[0m\u001b[0mindex\u001b[0m\u001b[0;34m(\u001b[0m \u001b[0;34m'Python'\u001b[0m \u001b[0;34m)\u001b[0m\u001b[0;34m\u001b[0m\u001b[0;34m\u001b[0m\u001b[0m\n\u001b[0m",
            "\u001b[0;31mValueError\u001b[0m: substring not found"
          ]
        }
      ]
    },
    {
      "cell_type": "code",
      "source": [
        "string = ' python programing. python is simple '\n",
        "string"
      ],
      "metadata": {
        "colab": {
          "base_uri": "https://localhost:8080/",
          "height": 35
        },
        "id": "d0hHIsnmBeaI",
        "outputId": "d7289517-d149-4e58-b6f5-2cf5aa9995aa"
      },
      "execution_count": null,
      "outputs": [
        {
          "output_type": "execute_result",
          "data": {
            "application/vnd.google.colaboratory.intrinsic+json": {
              "type": "string"
            },
            "text/plain": [
              "' python programing. python is simple '"
            ]
          },
          "metadata": {},
          "execution_count": 27
        }
      ]
    },
    {
      "cell_type": "code",
      "source": [
        "string.lstrip() # 문자열 왼쪽 공백 제거"
      ],
      "metadata": {
        "colab": {
          "base_uri": "https://localhost:8080/",
          "height": 35
        },
        "id": "TPpr2akZCiXY",
        "outputId": "146569e5-53b9-4804-b05c-1f7b346270ed"
      },
      "execution_count": null,
      "outputs": [
        {
          "output_type": "execute_result",
          "data": {
            "application/vnd.google.colaboratory.intrinsic+json": {
              "type": "string"
            },
            "text/plain": [
              "'python programing. python is simple '"
            ]
          },
          "metadata": {},
          "execution_count": 28
        }
      ]
    },
    {
      "cell_type": "code",
      "source": [
        "string.rstrip() # 문자열 오른쪽 공백 제거"
      ],
      "metadata": {
        "colab": {
          "base_uri": "https://localhost:8080/",
          "height": 35
        },
        "id": "rgg2Y9P0CoqF",
        "outputId": "32fb8eb7-389f-46fd-af71-401a7da78122"
      },
      "execution_count": null,
      "outputs": [
        {
          "output_type": "execute_result",
          "data": {
            "application/vnd.google.colaboratory.intrinsic+json": {
              "type": "string"
            },
            "text/plain": [
              "' python programing. python is simple'"
            ]
          },
          "metadata": {},
          "execution_count": 29
        }
      ]
    },
    {
      "cell_type": "code",
      "source": [
        "string.strip() # 문자열 양쪽 공백 제거"
      ],
      "metadata": {
        "colab": {
          "base_uri": "https://localhost:8080/",
          "height": 35
        },
        "id": "dKZqrl5KCqM8",
        "outputId": "180aa367-afd7-4511-b067-f4a897a23318"
      },
      "execution_count": null,
      "outputs": [
        {
          "output_type": "execute_result",
          "data": {
            "application/vnd.google.colaboratory.intrinsic+json": {
              "type": "string"
            },
            "text/plain": [
              "'python programing. python is simple'"
            ]
          },
          "metadata": {},
          "execution_count": 30
        }
      ]
    },
    {
      "cell_type": "code",
      "source": [
        "str_split = string.split( ' ' ) # string 내용을 공백으로 분리\n",
        "\n",
        "for value in str_split:\n",
        "    print( value )"
      ],
      "metadata": {
        "colab": {
          "base_uri": "https://localhost:8080/"
        },
        "id": "JLnFZnOvCreU",
        "outputId": "2f4ced75-76c0-4c6e-91cf-44fde8851373"
      },
      "execution_count": null,
      "outputs": [
        {
          "output_type": "stream",
          "name": "stdout",
          "text": [
            "\n",
            "python\n",
            "programing.\n",
            "python\n",
            "is\n",
            "simple\n",
            "\n"
          ]
        }
      ]
    },
    {
      "cell_type": "code",
      "source": [
        "print( f'string length : {len( string )}' )\n",
        "# iterator를 이용한 string 변수 내용 순회\n",
        "for value in string:\n",
        "    print( f'{value:3}', end = '' )"
      ],
      "metadata": {
        "colab": {
          "base_uri": "https://localhost:8080/"
        },
        "id": "w4ruqS5pDZcf",
        "outputId": "3fa32ab4-0f1e-446d-d244-854ad4d6d46c"
      },
      "execution_count": null,
      "outputs": [
        {
          "output_type": "stream",
          "name": "stdout",
          "text": [
            "string length : 37\n",
            "   p  y  t  h  o  n     p  r  o  g  r  a  m  i  n  g  .     p  y  t  h  o  n     i  s     s  i  m  p  l  e     "
          ]
        }
      ]
    },
    {
      "cell_type": "code",
      "source": [
        "# indexing을 이용한 string 변수 내용 순회\n",
        "for i in range( len( string ) ):\n",
        "    print( f'{string[ i ]:3}', end = '' )"
      ],
      "metadata": {
        "colab": {
          "base_uri": "https://localhost:8080/"
        },
        "id": "DZNKQzsDEN5H",
        "outputId": "249a9866-1489-4e22-e644-474e0d753f92"
      },
      "execution_count": null,
      "outputs": [
        {
          "output_type": "stream",
          "name": "stdout",
          "text": [
            "   p  y  t  h  o  n     p  r  o  g  r  a  m  i  n  g  .     p  y  t  h  o  n     i  s     s  i  m  p  l  e     "
          ]
        }
      ]
    },
    {
      "cell_type": "code",
      "source": [
        "string[ 0 ] = 'P'"
      ],
      "metadata": {
        "colab": {
          "base_uri": "https://localhost:8080/",
          "height": 172
        },
        "id": "at6d1FUCFfA1",
        "outputId": "a8b812af-dde3-421b-b7b2-ee344b43fd0e"
      },
      "execution_count": null,
      "outputs": [
        {
          "output_type": "error",
          "ename": "TypeError",
          "evalue": "ignored",
          "traceback": [
            "\u001b[0;31m---------------------------------------------------------------------------\u001b[0m",
            "\u001b[0;31mTypeError\u001b[0m                                 Traceback (most recent call last)",
            "\u001b[0;32m<ipython-input-38-9b6c0b237b34>\u001b[0m in \u001b[0;36m<module>\u001b[0;34m()\u001b[0m\n\u001b[0;32m----> 1\u001b[0;31m \u001b[0mstring\u001b[0m\u001b[0;34m[\u001b[0m \u001b[0;36m0\u001b[0m \u001b[0;34m]\u001b[0m \u001b[0;34m=\u001b[0m \u001b[0;34m'P'\u001b[0m\u001b[0;34m\u001b[0m\u001b[0;34m\u001b[0m\u001b[0m\n\u001b[0m",
            "\u001b[0;31mTypeError\u001b[0m: 'str' object does not support item assignment"
          ]
        }
      ]
    },
    {
      "cell_type": "markdown",
      "source": [
        "## 실습) 3명의 이름, 점수1, 점수2, 점수3을 입력 받아 총점, 평균 출력 파이썬 스크립트"
      ],
      "metadata": {
        "id": "azRUInyfGB2E"
      }
    },
    {
      "cell_type": "code",
      "source": [
        "MAX_DATA = 3\n",
        "MAX_SCORE = 3\n",
        "\n",
        "for i in range( MAX_DATA ):\n",
        "    name = input( f'[ {i+1:2} ] 번째 이름 입력 : ' )\n",
        "    score1 = int( float( input( f'[ {i+1:2} ] 번째 점수1 입력 : ' ) ) )\n",
        "    score2 = int( float( input( f'[ {i+1:2} ] 번째 점수2 입력 : ' ) ) )\n",
        "    score3 = int( float( input( f'[ {i+1:2} ] 번째 점수3 입력 : ' ) ) )\n",
        "    total = score1 + score2 + score3 \n",
        "    average = total / MAX_SCORE\n",
        "    print( f'\\n{name:<20} {score1:3} {score2:3} {score3:3} {total:5} {average:6.2f}\\n' )"
      ],
      "metadata": {
        "colab": {
          "base_uri": "https://localhost:8080/"
        },
        "id": "QfLhc6hDJ8EH",
        "outputId": "549de53b-cdca-4d16-ee1b-d0a24b2199f4"
      },
      "execution_count": null,
      "outputs": [
        {
          "output_type": "stream",
          "name": "stdout",
          "text": [
            "[  1 ] 번째 이름 입력 : hong\n",
            "[  1 ] 번째 점수1 입력 : 50\n",
            "[  1 ] 번째 점수2 입력 : 50\n",
            "[  1 ] 번째 점수3 입력 : 50\n",
            "\n",
            "hong                  50  50  50   150  50.00\n",
            "\n",
            "[  2 ] 번째 이름 입력 : kim\n",
            "[  2 ] 번째 점수1 입력 : 90\n",
            "[  2 ] 번째 점수2 입력 : 90\n",
            "[  2 ] 번째 점수3 입력 : 90\n",
            "\n",
            "kim                   90  90  90   270  90.00\n",
            "\n",
            "[  3 ] 번째 이름 입력 : lee\n",
            "[  3 ] 번째 점수1 입력 : 70\n",
            "[  3 ] 번째 점수2 입력 : 70\n",
            "[  3 ] 번째 점수3 입력 : 70\n",
            "\n",
            "lee                   70  70  70   210  70.00\n",
            "\n"
          ]
        }
      ]
    },
    {
      "cell_type": "markdown",
      "source": [
        "# tuple\n",
        "\n",
        "## tuple 생성"
      ],
      "metadata": {
        "id": "SGpbOBKwK9m_"
      }
    },
    {
      "cell_type": "code",
      "source": [
        "# ,( comma )로 구분하여 tuple 생성\n",
        "t = 1, 2, 3\n",
        "print( f'{t} [ {type( t )} - {len( t )} ]' )"
      ],
      "metadata": {
        "colab": {
          "base_uri": "https://localhost:8080/"
        },
        "id": "vQagzLdvNovW",
        "outputId": "6af8065a-5336-4a97-d642-013ca40f455f"
      },
      "execution_count": null,
      "outputs": [
        {
          "output_type": "stream",
          "name": "stdout",
          "text": [
            "(1, 2, 3) [ <class 'tuple'> - 3 ]\n"
          ]
        }
      ]
    },
    {
      "cell_type": "code",
      "source": [
        "t = 1, 'python', True\n",
        "print( f'{t} [ {type( t )} - {len( t )} ]' )"
      ],
      "metadata": {
        "colab": {
          "base_uri": "https://localhost:8080/"
        },
        "id": "JASwpeJzN0o7",
        "outputId": "9eba3eff-d49f-4d81-ae37-67b75d64cdcc"
      },
      "execution_count": null,
      "outputs": [
        {
          "output_type": "stream",
          "name": "stdout",
          "text": [
            "(1, 'python', True) [ <class 'tuple'> - 3 ]\n"
          ]
        }
      ]
    },
    {
      "cell_type": "code",
      "source": [
        "# ()를 이용하여 tuple 생성\n",
        "t = ( 1, 2, 3 )\n",
        "print( f'{t} [ {type( t )} - {len( t )} ]' )"
      ],
      "metadata": {
        "colab": {
          "base_uri": "https://localhost:8080/"
        },
        "id": "wvz49vieN6Rg",
        "outputId": "34ef5d72-5324-4430-98ab-1c04b6c9414b"
      },
      "execution_count": null,
      "outputs": [
        {
          "output_type": "stream",
          "name": "stdout",
          "text": [
            "(1, 2, 3) [ <class 'tuple'> - 3 ]\n"
          ]
        }
      ]
    },
    {
      "cell_type": "code",
      "source": [
        "t = ( 1, 'python', 3 )\n",
        "print( f'{t} [ {type( t )} - {len( t )} ]' )"
      ],
      "metadata": {
        "colab": {
          "base_uri": "https://localhost:8080/"
        },
        "id": "zqMt68paO6MQ",
        "outputId": "79c53846-5b99-4022-cec9-3f41fa18d715"
      },
      "execution_count": null,
      "outputs": [
        {
          "output_type": "stream",
          "name": "stdout",
          "text": [
            "(1, 'python', 3) [ <class 'tuple'> - 3 ]\n"
          ]
        }
      ]
    },
    {
      "cell_type": "code",
      "source": [
        "# tuple() 함수를 이용한 형변환\n",
        "print( f'{string} [ {type( string )} - {len( string )} ]' )"
      ],
      "metadata": {
        "colab": {
          "base_uri": "https://localhost:8080/"
        },
        "id": "JW6-BxHyO9w6",
        "outputId": "e174fab6-8aa2-43f0-cc9c-953f374029eb"
      },
      "execution_count": null,
      "outputs": [
        {
          "output_type": "stream",
          "name": "stdout",
          "text": [
            " python programing. python is simple  [ <class 'str'> - 37 ]\n"
          ]
        }
      ]
    },
    {
      "cell_type": "code",
      "source": [
        "t = tuple( string.split( ' ' ) )\n",
        "print( f'{t} [ {type( t )} - {len( t )} ]' )"
      ],
      "metadata": {
        "colab": {
          "base_uri": "https://localhost:8080/"
        },
        "id": "AHXpSTb2PlOO",
        "outputId": "21fc4df1-b1e7-4e23-fff9-07f4269d2856"
      },
      "execution_count": null,
      "outputs": [
        {
          "output_type": "stream",
          "name": "stdout",
          "text": [
            "('', 'python', 'programing.', 'python', 'is', 'simple', '') [ <class 'tuple'> - 7 ]\n"
          ]
        }
      ]
    },
    {
      "cell_type": "code",
      "source": [
        "t = tuple( \"python programming\" )\n",
        "print( f'{t} [ {type( t )} - {len( t )} ]' )"
      ],
      "metadata": {
        "colab": {
          "base_uri": "https://localhost:8080/"
        },
        "id": "yVZLsToNPwCB",
        "outputId": "189e10ce-d37a-43f9-959f-b1998053dfd8"
      },
      "execution_count": null,
      "outputs": [
        {
          "output_type": "stream",
          "name": "stdout",
          "text": [
            "('p', 'y', 't', 'h', 'o', 'n', ' ', 'p', 'r', 'o', 'g', 'r', 'a', 'm', 'm', 'i', 'n', 'g') [ <class 'tuple'> - 18 ]\n"
          ]
        }
      ]
    },
    {
      "cell_type": "code",
      "source": [
        "t = 1, # tuple 생성\n",
        "print( f'{t} [ {type( t )} - {len( t )} ]' )"
      ],
      "metadata": {
        "colab": {
          "base_uri": "https://localhost:8080/"
        },
        "id": "C_EW7sZtP26W",
        "outputId": "e6506293-6e97-4cb8-8ee6-9923cb5ccccb"
      },
      "execution_count": null,
      "outputs": [
        {
          "output_type": "stream",
          "name": "stdout",
          "text": [
            "(1,) [ <class 'tuple'> - 1 ]\n"
          ]
        }
      ]
    },
    {
      "cell_type": "code",
      "source": [
        "t = 1 # 정수형 변수 생성\n",
        "print( f'{t} [ {type( t )} ]' )"
      ],
      "metadata": {
        "colab": {
          "base_uri": "https://localhost:8080/"
        },
        "id": "f7kiHfc_QYFH",
        "outputId": "4885f8cc-a388-4aa0-f64a-75befe3b0f8b"
      },
      "execution_count": null,
      "outputs": [
        {
          "output_type": "stream",
          "name": "stdout",
          "text": [
            "1 [ <class 'int'> ]\n"
          ]
        }
      ]
    },
    {
      "cell_type": "code",
      "source": [
        "t = ( 1, )\n",
        "print( f'{t} [ {type( t )} - {len( t )} ]' )"
      ],
      "metadata": {
        "colab": {
          "base_uri": "https://localhost:8080/"
        },
        "id": "hgeBIhT9QaVs",
        "outputId": "1059435b-1e16-4d57-957c-ef1692756ffc"
      },
      "execution_count": null,
      "outputs": [
        {
          "output_type": "stream",
          "name": "stdout",
          "text": [
            "(1,) [ <class 'tuple'> - 1 ]\n"
          ]
        }
      ]
    },
    {
      "cell_type": "markdown",
      "source": [
        "## tuple - sequence 자료형 공통 연산"
      ],
      "metadata": {
        "id": "NTc-N4vPQruh"
      }
    },
    {
      "cell_type": "code",
      "source": [
        "t = 1, 'python', True\n",
        "print( f'{t} [ {type( t )} - {len( t )} ]' )"
      ],
      "metadata": {
        "colab": {
          "base_uri": "https://localhost:8080/"
        },
        "id": "itNUkLPtRGhH",
        "outputId": "63bbb27c-b1d2-432b-b498-fd2f4f45269d"
      },
      "execution_count": null,
      "outputs": [
        {
          "output_type": "stream",
          "name": "stdout",
          "text": [
            "(1, 'python', True) [ <class 'tuple'> - 3 ]\n"
          ]
        }
      ]
    },
    {
      "cell_type": "code",
      "source": [
        "# indexing\n",
        "t[ 0 ]"
      ],
      "metadata": {
        "colab": {
          "base_uri": "https://localhost:8080/"
        },
        "id": "fiPSU0uTRJLb",
        "outputId": "35d0f2b2-4236-47f5-fdfa-e3198900958b"
      },
      "execution_count": null,
      "outputs": [
        {
          "output_type": "execute_result",
          "data": {
            "text/plain": [
              "1"
            ]
          },
          "metadata": {},
          "execution_count": 53
        }
      ]
    },
    {
      "cell_type": "code",
      "source": [
        "t[ 2 ]"
      ],
      "metadata": {
        "colab": {
          "base_uri": "https://localhost:8080/"
        },
        "id": "RiVBTX2LRLnV",
        "outputId": "8dc909a3-f128-4df0-e38b-3d2630c2f77e"
      },
      "execution_count": null,
      "outputs": [
        {
          "output_type": "execute_result",
          "data": {
            "text/plain": [
              "True"
            ]
          },
          "metadata": {},
          "execution_count": 54
        }
      ]
    },
    {
      "cell_type": "code",
      "source": [
        "t[ -1 ]"
      ],
      "metadata": {
        "colab": {
          "base_uri": "https://localhost:8080/"
        },
        "id": "fEQ1rjSARMlb",
        "outputId": "6144f3ec-289e-4ab0-9333-f009b2395a7f"
      },
      "execution_count": null,
      "outputs": [
        {
          "output_type": "execute_result",
          "data": {
            "text/plain": [
              "True"
            ]
          },
          "metadata": {},
          "execution_count": 55
        }
      ]
    },
    {
      "cell_type": "code",
      "source": [
        "value = t[ 0 ] # tuple의 0번 인덱스 값 읽기\n",
        "print( f'value : {value}' )"
      ],
      "metadata": {
        "colab": {
          "base_uri": "https://localhost:8080/"
        },
        "id": "DMdsDpcjRNrA",
        "outputId": "d9ea72d0-69d8-4836-f7a5-b7d04cf3782e"
      },
      "execution_count": null,
      "outputs": [
        {
          "output_type": "stream",
          "name": "stdout",
          "text": [
            "value : 1\n"
          ]
        }
      ]
    },
    {
      "cell_type": "code",
      "source": [
        "t[ 0 ] = 10 # tuple의 0번 인덱스 값을 10으로 변경( 값 쓰기 )"
      ],
      "metadata": {
        "colab": {
          "base_uri": "https://localhost:8080/",
          "height": 172
        },
        "id": "P7yaBiQVRm-5",
        "outputId": "266acbc7-9baf-442e-d2f4-36eecd201221"
      },
      "execution_count": null,
      "outputs": [
        {
          "output_type": "error",
          "ename": "TypeError",
          "evalue": "ignored",
          "traceback": [
            "\u001b[0;31m---------------------------------------------------------------------------\u001b[0m",
            "\u001b[0;31mTypeError\u001b[0m                                 Traceback (most recent call last)",
            "\u001b[0;32m<ipython-input-57-430e85736f39>\u001b[0m in \u001b[0;36m<module>\u001b[0;34m()\u001b[0m\n\u001b[0;32m----> 1\u001b[0;31m \u001b[0mt\u001b[0m\u001b[0;34m[\u001b[0m \u001b[0;36m0\u001b[0m \u001b[0;34m]\u001b[0m \u001b[0;34m=\u001b[0m \u001b[0;36m10\u001b[0m\u001b[0;34m\u001b[0m\u001b[0;34m\u001b[0m\u001b[0m\n\u001b[0m",
            "\u001b[0;31mTypeError\u001b[0m: 'tuple' object does not support item assignment"
          ]
        }
      ]
    },
    {
      "cell_type": "code",
      "source": [
        "# slicing\n",
        "t[ :2 ]"
      ],
      "metadata": {
        "colab": {
          "base_uri": "https://localhost:8080/"
        },
        "id": "b3wqRqcLR1wd",
        "outputId": "9548a42f-7e85-48a5-cbfe-469820eb48df"
      },
      "execution_count": null,
      "outputs": [
        {
          "output_type": "execute_result",
          "data": {
            "text/plain": [
              "(1, 'python')"
            ]
          },
          "metadata": {},
          "execution_count": 58
        }
      ]
    },
    {
      "cell_type": "code",
      "source": [
        "t[ 1: ]"
      ],
      "metadata": {
        "colab": {
          "base_uri": "https://localhost:8080/"
        },
        "id": "wQOtOoBASSSe",
        "outputId": "8ce3ae3a-523a-4885-e960-2dbeb784b552"
      },
      "execution_count": null,
      "outputs": [
        {
          "output_type": "execute_result",
          "data": {
            "text/plain": [
              "('python', True)"
            ]
          },
          "metadata": {},
          "execution_count": 59
        }
      ]
    },
    {
      "cell_type": "code",
      "source": [
        "t[ ::-1 ]"
      ],
      "metadata": {
        "colab": {
          "base_uri": "https://localhost:8080/"
        },
        "id": "mW3-ynJpSTrq",
        "outputId": "dd241af3-fc5b-4d62-e00a-e361cca973a5"
      },
      "execution_count": null,
      "outputs": [
        {
          "output_type": "execute_result",
          "data": {
            "text/plain": [
              "(True, 'python', 1)"
            ]
          },
          "metadata": {},
          "execution_count": 60
        }
      ]
    },
    {
      "cell_type": "code",
      "source": [
        "t[ ::2 ]"
      ],
      "metadata": {
        "colab": {
          "base_uri": "https://localhost:8080/"
        },
        "id": "7Jnfqt3lSVPf",
        "outputId": "21773ece-bafa-4ea6-f88e-80381dd33f20"
      },
      "execution_count": null,
      "outputs": [
        {
          "output_type": "execute_result",
          "data": {
            "text/plain": [
              "(1, True)"
            ]
          },
          "metadata": {},
          "execution_count": 61
        }
      ]
    },
    {
      "cell_type": "code",
      "source": [
        "# 연결\n",
        "t + t"
      ],
      "metadata": {
        "colab": {
          "base_uri": "https://localhost:8080/"
        },
        "id": "InP_us8hSaty",
        "outputId": "b0cae907-58da-4c83-9535-a524dfa4cb16"
      },
      "execution_count": null,
      "outputs": [
        {
          "output_type": "execute_result",
          "data": {
            "text/plain": [
              "(1, 'python', True, 1, 'python', True)"
            ]
          },
          "metadata": {},
          "execution_count": 62
        }
      ]
    },
    {
      "cell_type": "code",
      "source": [
        "t + ( 'hong', 50, 50, 50 )"
      ],
      "metadata": {
        "colab": {
          "base_uri": "https://localhost:8080/"
        },
        "id": "cHqyjMewShDV",
        "outputId": "d8fe6fc7-0d3b-43ca-fb3d-1247eb877f8b"
      },
      "execution_count": null,
      "outputs": [
        {
          "output_type": "execute_result",
          "data": {
            "text/plain": [
              "(1, 'python', True, 'hong', 50, 50, 50)"
            ]
          },
          "metadata": {},
          "execution_count": 63
        }
      ]
    },
    {
      "cell_type": "code",
      "source": [
        "# 반복\n",
        "t * 2"
      ],
      "metadata": {
        "colab": {
          "base_uri": "https://localhost:8080/"
        },
        "id": "Qt3a1i2ZSm_N",
        "outputId": "f48fd61b-08a9-4a22-b726-2a177e4ff040"
      },
      "execution_count": null,
      "outputs": [
        {
          "output_type": "execute_result",
          "data": {
            "text/plain": [
              "(1, 'python', True, 1, 'python', True)"
            ]
          },
          "metadata": {},
          "execution_count": 64
        }
      ]
    },
    {
      "cell_type": "code",
      "source": [
        "# 포함유무 확인\n",
        "'python' in t"
      ],
      "metadata": {
        "colab": {
          "base_uri": "https://localhost:8080/"
        },
        "id": "seTzjKYCSuo6",
        "outputId": "64e2ef88-83a3-4cea-d44c-863c789cbea0"
      },
      "execution_count": null,
      "outputs": [
        {
          "output_type": "execute_result",
          "data": {
            "text/plain": [
              "True"
            ]
          },
          "metadata": {},
          "execution_count": 65
        }
      ]
    },
    {
      "cell_type": "code",
      "source": [
        "1 in t"
      ],
      "metadata": {
        "colab": {
          "base_uri": "https://localhost:8080/"
        },
        "id": "dLAMIfo-S69A",
        "outputId": "9bbbebf0-3994-4695-ae61-9aa15f56b364"
      },
      "execution_count": null,
      "outputs": [
        {
          "output_type": "execute_result",
          "data": {
            "text/plain": [
              "True"
            ]
          },
          "metadata": {},
          "execution_count": 66
        }
      ]
    },
    {
      "cell_type": "code",
      "source": [
        "5 in t"
      ],
      "metadata": {
        "colab": {
          "base_uri": "https://localhost:8080/"
        },
        "id": "jPFMqED6S83n",
        "outputId": "60f456c4-845c-4f78-8adf-178ec8ff33ef"
      },
      "execution_count": null,
      "outputs": [
        {
          "output_type": "execute_result",
          "data": {
            "text/plain": [
              "False"
            ]
          },
          "metadata": {},
          "execution_count": 67
        }
      ]
    },
    {
      "cell_type": "code",
      "source": [
        "# 길이 계산\n",
        "len( t )"
      ],
      "metadata": {
        "colab": {
          "base_uri": "https://localhost:8080/"
        },
        "id": "yBg9NtHqS-dU",
        "outputId": "ff2b4228-4152-40b0-b883-627e0bf63f32"
      },
      "execution_count": null,
      "outputs": [
        {
          "output_type": "execute_result",
          "data": {
            "text/plain": [
              "3"
            ]
          },
          "metadata": {},
          "execution_count": 68
        }
      ]
    },
    {
      "cell_type": "markdown",
      "source": [
        "## tuple 메서드"
      ],
      "metadata": {
        "id": "ELGyYb0tTCCs"
      }
    },
    {
      "cell_type": "code",
      "source": [
        "t = 'python', 10.5, 'python', True\n",
        "print( f'{t} [ {type( t )} - {len( t )} ]' )"
      ],
      "metadata": {
        "colab": {
          "base_uri": "https://localhost:8080/"
        },
        "id": "eqocBn56XUIe",
        "outputId": "b9526663-9408-49ff-cde9-793c83ebf23d"
      },
      "execution_count": null,
      "outputs": [
        {
          "output_type": "stream",
          "name": "stdout",
          "text": [
            "('python', 10.5, 'python', True) [ <class 'tuple'> - 4 ]\n"
          ]
        }
      ]
    },
    {
      "cell_type": "code",
      "source": [
        "# 특정 데이터 개수 확인\n",
        "t.count( 'python' )"
      ],
      "metadata": {
        "colab": {
          "base_uri": "https://localhost:8080/"
        },
        "id": "4lzI1QRLX2r7",
        "outputId": "ab468860-a42e-444e-989d-9a0e99d602a0"
      },
      "execution_count": null,
      "outputs": [
        {
          "output_type": "execute_result",
          "data": {
            "text/plain": [
              "2"
            ]
          },
          "metadata": {},
          "execution_count": 70
        }
      ]
    },
    {
      "cell_type": "code",
      "source": [
        "t.count( 10.5 )"
      ],
      "metadata": {
        "colab": {
          "base_uri": "https://localhost:8080/"
        },
        "id": "Ty5FRthsX9Rb",
        "outputId": "8a55b5e0-573b-490f-c00c-4895052e69d4"
      },
      "execution_count": null,
      "outputs": [
        {
          "output_type": "execute_result",
          "data": {
            "text/plain": [
              "1"
            ]
          },
          "metadata": {},
          "execution_count": 71
        }
      ]
    },
    {
      "cell_type": "code",
      "source": [
        "t.count( 'Python' )"
      ],
      "metadata": {
        "colab": {
          "base_uri": "https://localhost:8080/"
        },
        "id": "l-usDYLFYCd2",
        "outputId": "59cce85b-89a6-4731-9351-8fdfea354824"
      },
      "execution_count": null,
      "outputs": [
        {
          "output_type": "execute_result",
          "data": {
            "text/plain": [
              "0"
            ]
          },
          "metadata": {},
          "execution_count": 72
        }
      ]
    },
    {
      "cell_type": "code",
      "source": [
        "# 특정 데이터 검색\n",
        "t.index( 'python' )"
      ],
      "metadata": {
        "colab": {
          "base_uri": "https://localhost:8080/"
        },
        "id": "Zp3WRih5YEic",
        "outputId": "6193eac0-db83-46da-cbf9-f2b3f652f662"
      },
      "execution_count": null,
      "outputs": [
        {
          "output_type": "execute_result",
          "data": {
            "text/plain": [
              "0"
            ]
          },
          "metadata": {},
          "execution_count": 73
        }
      ]
    },
    {
      "cell_type": "code",
      "source": [
        "t.index( 'python', 1 )"
      ],
      "metadata": {
        "colab": {
          "base_uri": "https://localhost:8080/"
        },
        "id": "oYY3x0znYaTj",
        "outputId": "f4ac9472-f073-407b-bf37-00fb25e489fa"
      },
      "execution_count": null,
      "outputs": [
        {
          "output_type": "execute_result",
          "data": {
            "text/plain": [
              "2"
            ]
          },
          "metadata": {},
          "execution_count": 74
        }
      ]
    },
    {
      "cell_type": "code",
      "source": [
        "t.index( 'Python' )"
      ],
      "metadata": {
        "colab": {
          "base_uri": "https://localhost:8080/",
          "height": 172
        },
        "id": "rndwVmVlYcxl",
        "outputId": "6ab8e998-e41d-4bd9-c798-d2f2b1c10663"
      },
      "execution_count": null,
      "outputs": [
        {
          "output_type": "error",
          "ename": "ValueError",
          "evalue": "ignored",
          "traceback": [
            "\u001b[0;31m---------------------------------------------------------------------------\u001b[0m",
            "\u001b[0;31mValueError\u001b[0m                                Traceback (most recent call last)",
            "\u001b[0;32m<ipython-input-75-c8736a7251b5>\u001b[0m in \u001b[0;36m<module>\u001b[0;34m()\u001b[0m\n\u001b[0;32m----> 1\u001b[0;31m \u001b[0mt\u001b[0m\u001b[0;34m.\u001b[0m\u001b[0mindex\u001b[0m\u001b[0;34m(\u001b[0m \u001b[0;34m'Python'\u001b[0m \u001b[0;34m)\u001b[0m\u001b[0;34m\u001b[0m\u001b[0;34m\u001b[0m\u001b[0m\n\u001b[0m",
            "\u001b[0;31mValueError\u001b[0m: tuple.index(x): x not in tuple"
          ]
        }
      ]
    },
    {
      "cell_type": "markdown",
      "source": [
        "## tuple 만의 특징\n",
        "\n",
        "### 여러 데이터를 여러 변수에 치환"
      ],
      "metadata": {
        "id": "cFJxIucBYvhy"
      }
    },
    {
      "cell_type": "code",
      "source": [
        "x, y, z = 1, 2, 3 \n",
        "print( f'x = {x}\\ny = {y}\\nz = {z}' )"
      ],
      "metadata": {
        "colab": {
          "base_uri": "https://localhost:8080/"
        },
        "id": "REZAj8x8ZMvm",
        "outputId": "08f2fa73-affc-4e14-8b22-550c9d9c0694"
      },
      "execution_count": null,
      "outputs": [
        {
          "output_type": "stream",
          "name": "stdout",
          "text": [
            "x = 1\n",
            "y = 2\n",
            "z = 3\n"
          ]
        }
      ]
    },
    {
      "cell_type": "code",
      "source": [
        "x, y, z = ( 1, 'python', 3 ) \n",
        "print( f'x = {x}\\ny = {y}\\nz = {z}' )"
      ],
      "metadata": {
        "colab": {
          "base_uri": "https://localhost:8080/"
        },
        "id": "_Yu4CjpgZUcg",
        "outputId": "4b2daaef-ae54-499f-8e8a-78970be97ebb"
      },
      "execution_count": null,
      "outputs": [
        {
          "output_type": "stream",
          "name": "stdout",
          "text": [
            "x = 1\n",
            "y = python\n",
            "z = 3\n"
          ]
        }
      ]
    },
    {
      "cell_type": "code",
      "source": [
        "t = 1, 'python', 3 \n",
        "x, y, z = t # 언패킹( unpacking )\n",
        "\n",
        "print( f'{t} [ {type( t )} - {len( t )} ]' )\n",
        "print( f'x = {x}\\ny = {y}\\nz = {z}' )"
      ],
      "metadata": {
        "colab": {
          "base_uri": "https://localhost:8080/"
        },
        "id": "Mt9thQMRZZwL",
        "outputId": "7bb74bfc-8878-4a55-efd0-97d77dc0c1b9"
      },
      "execution_count": null,
      "outputs": [
        {
          "output_type": "stream",
          "name": "stdout",
          "text": [
            "(1, 'python', 3) [ <class 'tuple'> - 3 ]\n",
            "x = 1\n",
            "y = python\n",
            "z = 3\n"
          ]
        }
      ]
    },
    {
      "cell_type": "code",
      "source": [
        "# tuple 각 요소 내용을 개별적으로 변수에 치환\n",
        "t = ( 1, 2, 3 )\n",
        "x = t[ 0 ]\n",
        "y = t[ 1 ]\n",
        "z = t[ 2 ]\n",
        "print( f'x = {x}\\ny = {y}\\nz = {z}' )"
      ],
      "metadata": {
        "colab": {
          "base_uri": "https://localhost:8080/"
        },
        "id": "keqUAgm8ZlO3",
        "outputId": "b371423e-468f-4f43-ed1f-c7c6433ed88d"
      },
      "execution_count": null,
      "outputs": [
        {
          "output_type": "stream",
          "name": "stdout",
          "text": [
            "x = 1\n",
            "y = 2\n",
            "z = 3\n"
          ]
        }
      ]
    },
    {
      "cell_type": "code",
      "source": [
        "( x1, y1 ), ( x2, y2 ) = ( 10.5, 15.2 ), ( 17.6, 18.3 )\n",
        "print( f'x1 = {x1}\\ny1 = {y1}\\nx2 = {x2}\\ny2 = {y2}' )"
      ],
      "metadata": {
        "colab": {
          "base_uri": "https://localhost:8080/"
        },
        "id": "U1WbxW-jaMWx",
        "outputId": "9eb6366d-e668-42b3-9519-f4ccb11557a7"
      },
      "execution_count": null,
      "outputs": [
        {
          "output_type": "stream",
          "name": "stdout",
          "text": [
            "x1 = 10.5\n",
            "y1 = 15.2\n",
            "x2 = 17.6\n",
            "y2 = 18.3\n"
          ]
        }
      ]
    },
    {
      "cell_type": "markdown",
      "source": [
        "### 언패킹( unpacking )을 통한 tuple 내용 변수 치환"
      ],
      "metadata": {
        "id": "wAiZn13cbNk6"
      }
    },
    {
      "cell_type": "code",
      "source": [
        "print( f'{t} [ {type( t )} - {len( t )} ]' )"
      ],
      "metadata": {
        "colab": {
          "base_uri": "https://localhost:8080/"
        },
        "id": "9bnE2BzPblYl",
        "outputId": "f28d8a9a-dd02-4cbc-9be4-54f5e0bc9b99"
      },
      "execution_count": null,
      "outputs": [
        {
          "output_type": "stream",
          "name": "stdout",
          "text": [
            "(1, 2, 3) [ <class 'tuple'> - 3 ]\n"
          ]
        }
      ]
    },
    {
      "cell_type": "code",
      "source": [
        "x, y, z = t\n",
        "print( f'x = {x}\\ny = {y}\\nz = {z}' )"
      ],
      "metadata": {
        "colab": {
          "base_uri": "https://localhost:8080/"
        },
        "id": "TIKf4x1SbpAI",
        "outputId": "6e9be033-309a-40b8-f8fc-e47231ce0eec"
      },
      "execution_count": null,
      "outputs": [
        {
          "output_type": "stream",
          "name": "stdout",
          "text": [
            "x = 1\n",
            "y = 2\n",
            "z = 3\n"
          ]
        }
      ]
    },
    {
      "cell_type": "code",
      "source": [
        "x, *y = t\n",
        "print( f'x = {x}\\ny = {y}' )"
      ],
      "metadata": {
        "colab": {
          "base_uri": "https://localhost:8080/"
        },
        "id": "F5kFxG1HbtJO",
        "outputId": "8e3b16d1-91f7-4019-f86f-fc479be6193c"
      },
      "execution_count": null,
      "outputs": [
        {
          "output_type": "stream",
          "name": "stdout",
          "text": [
            "x = 1\n",
            "y = [2, 3]\n"
          ]
        }
      ]
    },
    {
      "cell_type": "code",
      "source": [
        "*x, y = t\n",
        "print( f'x = {x}\\ny = {y}' )"
      ],
      "metadata": {
        "colab": {
          "base_uri": "https://localhost:8080/"
        },
        "id": "t9Duu9m6bxtk",
        "outputId": "7170b8f6-a176-4136-ba42-d50089d1b632"
      },
      "execution_count": null,
      "outputs": [
        {
          "output_type": "stream",
          "name": "stdout",
          "text": [
            "x = [1, 2]\n",
            "y = 3\n"
          ]
        }
      ]
    },
    {
      "cell_type": "markdown",
      "source": [
        "### tuple을 이용한 변수 내용 교환"
      ],
      "metadata": {
        "id": "KW0u0ZrHcMYu"
      }
    },
    {
      "cell_type": "code",
      "source": [
        "x = 10\n",
        "y = 20\n",
        "print( f'x = {x}\\ny = {y}' )"
      ],
      "metadata": {
        "colab": {
          "base_uri": "https://localhost:8080/"
        },
        "id": "jO1AS1Nqce5M",
        "outputId": "03e2f346-65a9-4c65-85fd-80730e20e9a3"
      },
      "execution_count": null,
      "outputs": [
        {
          "output_type": "stream",
          "name": "stdout",
          "text": [
            "x = 10\n",
            "y = 20\n"
          ]
        }
      ]
    },
    {
      "cell_type": "code",
      "source": [
        "x = y # y변수 내용을 x변수에 복사한다.\n",
        "y = x \n",
        "print( f'x = {x}\\ny = {y}' )"
      ],
      "metadata": {
        "colab": {
          "base_uri": "https://localhost:8080/"
        },
        "id": "cxlixTjlch9F",
        "outputId": "20098822-a301-4162-92cd-97d0c1a07ce1"
      },
      "execution_count": null,
      "outputs": [
        {
          "output_type": "stream",
          "name": "stdout",
          "text": [
            "x = 20\n",
            "y = 20\n"
          ]
        }
      ]
    },
    {
      "cell_type": "markdown",
      "source": [
        "#### 프로그램에서 변수 교환을 하는 전형적인 방법"
      ],
      "metadata": {
        "id": "79ygPsrMcqvT"
      }
    },
    {
      "cell_type": "code",
      "source": [
        "x = 10\n",
        "y = 20\n",
        "print( f'x = {x}\\ny = {y}' )"
      ],
      "metadata": {
        "colab": {
          "base_uri": "https://localhost:8080/"
        },
        "id": "KHPQBPnUc9uR",
        "outputId": "5e950cda-7832-4db1-e667-b79f65c767ce"
      },
      "execution_count": null,
      "outputs": [
        {
          "output_type": "stream",
          "name": "stdout",
          "text": [
            "x = 10\n",
            "y = 20\n"
          ]
        }
      ]
    },
    {
      "cell_type": "code",
      "source": [
        "temp = x # x변수 내용을 temp에 임시 보관\n",
        "x = y\n",
        "y = temp\n",
        "print( f'x = {x}\\ny = {y}' )"
      ],
      "metadata": {
        "colab": {
          "base_uri": "https://localhost:8080/"
        },
        "id": "65y_JRJodBn8",
        "outputId": "b1af2d7e-3cd8-47dd-df9c-2b69cb7f7d31"
      },
      "execution_count": null,
      "outputs": [
        {
          "output_type": "stream",
          "name": "stdout",
          "text": [
            "x = 20\n",
            "y = 10\n"
          ]
        }
      ]
    },
    {
      "cell_type": "markdown",
      "source": [
        "#### tuple을 이용한 변수 내용 교환"
      ],
      "metadata": {
        "id": "a9RmWvqDdFOI"
      }
    },
    {
      "cell_type": "code",
      "source": [
        "x, y = y, x \n",
        "print( f'x = {x}\\ny = {y}' )"
      ],
      "metadata": {
        "colab": {
          "base_uri": "https://localhost:8080/"
        },
        "id": "-sAtAirUdsfb",
        "outputId": "6d80611f-fe11-4097-d90c-f7d0e05b45f8"
      },
      "execution_count": null,
      "outputs": [
        {
          "output_type": "stream",
          "name": "stdout",
          "text": [
            "x = 10\n",
            "y = 20\n"
          ]
        }
      ]
    },
    {
      "cell_type": "markdown",
      "source": [
        "### tuple을 반환하는 함수"
      ],
      "metadata": {
        "id": "9kSJF3-vdvsr"
      }
    },
    {
      "cell_type": "code",
      "source": [
        "divide, remainder = divmod( 10, 3 ) # 반환값 언팩킹\n",
        "print( f'10을 3으로 나눈 몫 {divide}, 나머지 {remainder}' )"
      ],
      "metadata": {
        "colab": {
          "base_uri": "https://localhost:8080/"
        },
        "id": "-vhQ82lgeasz",
        "outputId": "e556626e-1c97-48bd-db05-542350936d60"
      },
      "execution_count": null,
      "outputs": [
        {
          "output_type": "stream",
          "name": "stdout",
          "text": [
            "10을 3으로 나눈 몫 3, 나머지 1\n"
          ]
        }
      ]
    },
    {
      "cell_type": "code",
      "source": [
        "divmod( 10, 3 ) # 몫과 나머지를 반환하는 내장함수"
      ],
      "metadata": {
        "colab": {
          "base_uri": "https://localhost:8080/"
        },
        "id": "IOpwRqy7esfR",
        "outputId": "361a7ea8-1dec-4091-f0d8-be8205b558e0"
      },
      "execution_count": null,
      "outputs": [
        {
          "output_type": "execute_result",
          "data": {
            "text/plain": [
              "(3, 1)"
            ]
          },
          "metadata": {},
          "execution_count": 93
        }
      ]
    },
    {
      "cell_type": "code",
      "source": [
        "print( f'10을 3으로 나눈 몫 {divmod( 10, 3 )[ 0 ]}', end = '' )\n",
        "print( f', 나머지 {divmod( 10, 3 )[ 1 ]}' )"
      ],
      "metadata": {
        "colab": {
          "base_uri": "https://localhost:8080/"
        },
        "id": "MlqSa4BTevIO",
        "outputId": "5940b211-9aec-4aec-907d-0f4e2516a8e0"
      },
      "execution_count": null,
      "outputs": [
        {
          "output_type": "stream",
          "name": "stdout",
          "text": [
            "10을 3으로 나눈 몫 3, 나머지 1\n"
          ]
        }
      ]
    },
    {
      "cell_type": "code",
      "source": [
        "divmod( 10, 3 )[ 0 ]"
      ],
      "metadata": {
        "colab": {
          "base_uri": "https://localhost:8080/"
        },
        "id": "lkjfIY4ifUR8",
        "outputId": "c86b0e73-cd2d-4809-a533-779cd3f96a17"
      },
      "execution_count": null,
      "outputs": [
        {
          "output_type": "execute_result",
          "data": {
            "text/plain": [
              "3"
            ]
          },
          "metadata": {},
          "execution_count": 95
        }
      ]
    },
    {
      "cell_type": "code",
      "source": [
        "'python'[ 0 ]"
      ],
      "metadata": {
        "colab": {
          "base_uri": "https://localhost:8080/",
          "height": 35
        },
        "id": "mPpydoDOfgeQ",
        "outputId": "ed61a699-ef3e-4663-f963-2cfeab09332a"
      },
      "execution_count": null,
      "outputs": [
        {
          "output_type": "execute_result",
          "data": {
            "application/vnd.google.colaboratory.intrinsic+json": {
              "type": "string"
            },
            "text/plain": [
              "'p'"
            ]
          },
          "metadata": {},
          "execution_count": 96
        }
      ]
    },
    {
      "cell_type": "markdown",
      "source": [
        "# list\n",
        "\n",
        "## list 생성"
      ],
      "metadata": {
        "id": "mfc91ql6fij8"
      }
    },
    {
      "cell_type": "code",
      "source": [
        "# [] 기호를 이용한 list 생성\n",
        "l = [] # 빈 list 생성\n",
        "print( f'l = {l}\\t[ {type( l )} - {len( l )} ]' )"
      ],
      "metadata": {
        "colab": {
          "base_uri": "https://localhost:8080/"
        },
        "id": "n7zCAUSryAS5",
        "outputId": "4ba0b925-753e-4e3c-aad7-8e1c51173276"
      },
      "execution_count": null,
      "outputs": [
        {
          "output_type": "stream",
          "name": "stdout",
          "text": [
            "l = []\t[ <class 'list'> - 0 ]\n"
          ]
        }
      ]
    },
    {
      "cell_type": "code",
      "source": [
        "l = [ 10, 10.5, 'python', True ]\n",
        "print( f'l = {l}\\t[ {type( l )} - {len( l )} ]' )"
      ],
      "metadata": {
        "colab": {
          "base_uri": "https://localhost:8080/"
        },
        "id": "FIde0Jp2yNRZ",
        "outputId": "0553ff11-4e98-467a-f482-fcae8a2d1899"
      },
      "execution_count": null,
      "outputs": [
        {
          "output_type": "stream",
          "name": "stdout",
          "text": [
            "l = [10, 10.5, 'python', True]\t[ <class 'list'> - 4 ]\n"
          ]
        }
      ]
    },
    {
      "cell_type": "code",
      "source": [
        "# list() 함수를 이용한 list 생성\n",
        "l = list()\n",
        "print( f'l = {l}\\t[ {type( l )} - {len( l )} ]' )"
      ],
      "metadata": {
        "colab": {
          "base_uri": "https://localhost:8080/"
        },
        "id": "u3T3IbjBySol",
        "outputId": "dd748320-8381-41c7-aa4a-31d1dd4d54da"
      },
      "execution_count": null,
      "outputs": [
        {
          "output_type": "stream",
          "name": "stdout",
          "text": [
            "l = []\t[ <class 'list'> - 0 ]\n"
          ]
        }
      ]
    },
    {
      "cell_type": "code",
      "source": [
        "print( range( 1, 11 ) )"
      ],
      "metadata": {
        "colab": {
          "base_uri": "https://localhost:8080/"
        },
        "id": "kKwIMwQnzlhH",
        "outputId": "2df57193-c342-4756-ff40-ec88a06cd874"
      },
      "execution_count": null,
      "outputs": [
        {
          "output_type": "stream",
          "name": "stdout",
          "text": [
            "range(1, 11)\n"
          ]
        }
      ]
    },
    {
      "cell_type": "code",
      "source": [
        "l = list( range( 1, 11 ) )\n",
        "print( f'l = {l}\\t[ {type( l )} - {len( l )} ]' )"
      ],
      "metadata": {
        "colab": {
          "base_uri": "https://localhost:8080/"
        },
        "id": "LHlfq_Xty9YC",
        "outputId": "2c9dd60a-fd81-4336-90b2-cc6945497712"
      },
      "execution_count": null,
      "outputs": [
        {
          "output_type": "stream",
          "name": "stdout",
          "text": [
            "l = [1, 2, 3, 4, 5, 6, 7, 8, 9, 10]\t[ <class 'list'> - 10 ]\n"
          ]
        }
      ]
    },
    {
      "cell_type": "code",
      "source": [
        "t = ( 10, 10.5, 'python', True )\n",
        "l = list( t )\n",
        "print( f'l = {l}\\t[ {type( l )} - {len( l )} ]' )"
      ],
      "metadata": {
        "colab": {
          "base_uri": "https://localhost:8080/"
        },
        "id": "F7vq42yyzDNY",
        "outputId": "51ecdc2e-13dc-4c2e-9dbe-74155579bbcb"
      },
      "execution_count": null,
      "outputs": [
        {
          "output_type": "stream",
          "name": "stdout",
          "text": [
            "l = [10, 10.5, 'python', True]\t[ <class 'list'> - 4 ]\n"
          ]
        }
      ]
    },
    {
      "cell_type": "code",
      "source": [
        "# 특정 함수 결과로서 list 생성\n",
        "string = 'python programming. python is simple'\n",
        "l = string.split( ' ' )\n",
        "print( f'l = {l}\\t[ {type( l )} - {len( l )} ]' )"
      ],
      "metadata": {
        "colab": {
          "base_uri": "https://localhost:8080/"
        },
        "id": "dXEb1cabzN7S",
        "outputId": "d81b7b84-35fb-473f-98c3-4469726b2afb"
      },
      "execution_count": null,
      "outputs": [
        {
          "output_type": "stream",
          "name": "stdout",
          "text": [
            "l = ['python', 'programming.', 'python', 'is', 'simple']\t[ <class 'list'> - 5 ]\n"
          ]
        }
      ]
    },
    {
      "cell_type": "markdown",
      "source": [
        "## list - sequence 공통연산"
      ],
      "metadata": {
        "id": "P9Um4m-P0fbZ"
      }
    },
    {
      "cell_type": "code",
      "source": [
        "# indexing\n",
        "l = list( range( 1, 11 ) )\n",
        "print( f'l = {l}\\t[ {type( l )} - {len( l )} ]' )"
      ],
      "metadata": {
        "colab": {
          "base_uri": "https://localhost:8080/"
        },
        "id": "lFjM_AS71T14",
        "outputId": "4a6b5181-69e2-4596-da84-3c5978b96e0c"
      },
      "execution_count": null,
      "outputs": [
        {
          "output_type": "stream",
          "name": "stdout",
          "text": [
            "l = [1, 2, 3, 4, 5, 6, 7, 8, 9, 10]\t[ <class 'list'> - 10 ]\n"
          ]
        }
      ]
    },
    {
      "cell_type": "code",
      "source": [
        "# indexing을 이용한 값 읽기\n",
        "l[ 0 ]"
      ],
      "metadata": {
        "colab": {
          "base_uri": "https://localhost:8080/"
        },
        "id": "K4CJbr7e1Zo0",
        "outputId": "57f7b00f-bf81-4b9c-abd4-cca9144cb00f"
      },
      "execution_count": null,
      "outputs": [
        {
          "output_type": "execute_result",
          "data": {
            "text/plain": [
              "1"
            ]
          },
          "metadata": {},
          "execution_count": 108
        }
      ]
    },
    {
      "cell_type": "code",
      "source": [
        "l[ 5 ]"
      ],
      "metadata": {
        "colab": {
          "base_uri": "https://localhost:8080/"
        },
        "id": "wwKq1X3R1cy5",
        "outputId": "a9cfa89a-1287-418a-ad0b-b571addb2336"
      },
      "execution_count": null,
      "outputs": [
        {
          "output_type": "execute_result",
          "data": {
            "text/plain": [
              "6"
            ]
          },
          "metadata": {},
          "execution_count": 109
        }
      ]
    },
    {
      "cell_type": "code",
      "source": [
        "l[ -1 ]"
      ],
      "metadata": {
        "colab": {
          "base_uri": "https://localhost:8080/"
        },
        "id": "zyLUaT121eOr",
        "outputId": "41d517c4-6d9a-45bc-e01b-fb10176bf944"
      },
      "execution_count": null,
      "outputs": [
        {
          "output_type": "execute_result",
          "data": {
            "text/plain": [
              "10"
            ]
          },
          "metadata": {},
          "execution_count": 110
        }
      ]
    },
    {
      "cell_type": "code",
      "source": [
        "# indexing을 이용한 값 쓰기\n",
        "l[ 0 ] += 9\n",
        "print( f'l = {l}\\t[ {type( l )} - {len( l )} ]' ) "
      ],
      "metadata": {
        "colab": {
          "base_uri": "https://localhost:8080/"
        },
        "id": "Gc8QcRf-1fKw",
        "outputId": "606d7bdd-8dd6-43fe-d86a-e321ec1ea76c"
      },
      "execution_count": null,
      "outputs": [
        {
          "output_type": "stream",
          "name": "stdout",
          "text": [
            "l = [10, 2, 3, 4, 5, 6, 7, 8, 9, 10]\t[ <class 'list'> - 10 ]\n"
          ]
        }
      ]
    },
    {
      "cell_type": "code",
      "source": [
        "l[ -1 ] = 'python'\n",
        "print( f'l = {l}\\t[ {type( l )} - {len( l )} ]' )"
      ],
      "metadata": {
        "colab": {
          "base_uri": "https://localhost:8080/"
        },
        "id": "TLpFvt-z126L",
        "outputId": "b13c003e-e278-49c5-80d6-83e7163fca7f"
      },
      "execution_count": null,
      "outputs": [
        {
          "output_type": "stream",
          "name": "stdout",
          "text": [
            "l = [10, 2, 3, 4, 5, 6, 7, 8, 9, 'python']\t[ <class 'list'> - 10 ]\n"
          ]
        }
      ]
    },
    {
      "cell_type": "code",
      "source": [
        "print( f'l -> {id( l )}' )"
      ],
      "metadata": {
        "colab": {
          "base_uri": "https://localhost:8080/"
        },
        "id": "pkYGJHQh1-VK",
        "outputId": "6b74b1a7-e884-46d2-d6ee-af6088ee37a1"
      },
      "execution_count": null,
      "outputs": [
        {
          "output_type": "stream",
          "name": "stdout",
          "text": [
            "l -> 140140539214896\n"
          ]
        }
      ]
    },
    {
      "cell_type": "code",
      "source": [
        "l[ 5 ] = 10.9\n",
        "print( f'l = {l}\\t[ {type( l )} - {len( l )} ]' )"
      ],
      "metadata": {
        "colab": {
          "base_uri": "https://localhost:8080/"
        },
        "id": "yv_GYQK_2rXS",
        "outputId": "db571cf2-a512-49a0-a2b1-1da9fc3a84c3"
      },
      "execution_count": null,
      "outputs": [
        {
          "output_type": "stream",
          "name": "stdout",
          "text": [
            "l = [10, 2, 3, 4, 5, 10.9, 7, 8, 9, 'python']\t[ <class 'list'> - 10 ]\n"
          ]
        }
      ]
    },
    {
      "cell_type": "code",
      "source": [
        "print( f'l -> {id( l )}' )"
      ],
      "metadata": {
        "colab": {
          "base_uri": "https://localhost:8080/"
        },
        "id": "NvGL46cF2xTp",
        "outputId": "a7a101fb-1e1e-4db2-ddd6-a5a81add7dbe"
      },
      "execution_count": null,
      "outputs": [
        {
          "output_type": "stream",
          "name": "stdout",
          "text": [
            "l -> 140140539214896\n"
          ]
        }
      ]
    },
    {
      "cell_type": "code",
      "source": [
        "# slicing\n",
        "l[ 0:11:1 ]"
      ],
      "metadata": {
        "colab": {
          "base_uri": "https://localhost:8080/"
        },
        "id": "t5dph4Pj2zwx",
        "outputId": "70b1d59f-c0bb-4d5d-f1b6-0881e31344ee"
      },
      "execution_count": null,
      "outputs": [
        {
          "output_type": "execute_result",
          "data": {
            "text/plain": [
              "[10, 2, 3, 4, 5, 10.9, 7, 8, 9, 'python']"
            ]
          },
          "metadata": {},
          "execution_count": 116
        }
      ]
    },
    {
      "cell_type": "code",
      "source": [
        "l[ :11 ]"
      ],
      "metadata": {
        "colab": {
          "base_uri": "https://localhost:8080/"
        },
        "id": "bTv0FUpG3Xnf",
        "outputId": "b1e868f2-3f3f-4ba7-d51a-6358671bf320"
      },
      "execution_count": null,
      "outputs": [
        {
          "output_type": "execute_result",
          "data": {
            "text/plain": [
              "[10, 2, 3, 4, 5, 10.9, 7, 8, 9, 'python']"
            ]
          },
          "metadata": {},
          "execution_count": 117
        }
      ]
    },
    {
      "cell_type": "code",
      "source": [
        "l[ 3: ]"
      ],
      "metadata": {
        "colab": {
          "base_uri": "https://localhost:8080/"
        },
        "id": "0eS6BV373ZAw",
        "outputId": "964fa1c9-3f69-4b67-b102-e77fc32ad9af"
      },
      "execution_count": null,
      "outputs": [
        {
          "output_type": "execute_result",
          "data": {
            "text/plain": [
              "[4, 5, 10.9, 7, 8, 9, 'python']"
            ]
          },
          "metadata": {},
          "execution_count": 118
        }
      ]
    },
    {
      "cell_type": "code",
      "source": [
        "l[ :5 ]"
      ],
      "metadata": {
        "colab": {
          "base_uri": "https://localhost:8080/"
        },
        "id": "ePw8iSFc3aZa",
        "outputId": "4d6710be-d7cb-4289-d62b-de5e19c16c8e"
      },
      "execution_count": null,
      "outputs": [
        {
          "output_type": "execute_result",
          "data": {
            "text/plain": [
              "[10, 2, 3, 4, 5]"
            ]
          },
          "metadata": {},
          "execution_count": 119
        }
      ]
    },
    {
      "cell_type": "code",
      "source": [
        "l[ ::-1 ]"
      ],
      "metadata": {
        "colab": {
          "base_uri": "https://localhost:8080/"
        },
        "id": "lkZod1Ja3cHy",
        "outputId": "b9da1e50-db14-48a7-9d8f-3edf832c5c27"
      },
      "execution_count": null,
      "outputs": [
        {
          "output_type": "execute_result",
          "data": {
            "text/plain": [
              "['python', 9, 8, 7, 10.9, 5, 4, 3, 2, 10]"
            ]
          },
          "metadata": {},
          "execution_count": 120
        }
      ]
    },
    {
      "cell_type": "code",
      "source": [
        "l[ -3:-1 ]"
      ],
      "metadata": {
        "colab": {
          "base_uri": "https://localhost:8080/"
        },
        "id": "lyKd26Or3dli",
        "outputId": "570eddd0-7ca7-4e99-ac8a-66e98d408661"
      },
      "execution_count": null,
      "outputs": [
        {
          "output_type": "execute_result",
          "data": {
            "text/plain": [
              "[8, 9]"
            ]
          },
          "metadata": {},
          "execution_count": 121
        }
      ]
    },
    {
      "cell_type": "code",
      "source": [
        "# 연결\n",
        "l + l"
      ],
      "metadata": {
        "colab": {
          "base_uri": "https://localhost:8080/"
        },
        "id": "vgzY_SbZ3fP7",
        "outputId": "9ba48174-8e37-4dcb-ea6b-c2fbd801d863"
      },
      "execution_count": null,
      "outputs": [
        {
          "output_type": "execute_result",
          "data": {
            "text/plain": [
              "[10,\n",
              " 2,\n",
              " 3,\n",
              " 4,\n",
              " 5,\n",
              " 10.9,\n",
              " 7,\n",
              " 8,\n",
              " 9,\n",
              " 'python',\n",
              " 10,\n",
              " 2,\n",
              " 3,\n",
              " 4,\n",
              " 5,\n",
              " 10.9,\n",
              " 7,\n",
              " 8,\n",
              " 9,\n",
              " 'python']"
            ]
          },
          "metadata": {},
          "execution_count": 122
        }
      ]
    },
    {
      "cell_type": "code",
      "source": [
        "l + [ 3.14, 1.2424 ]"
      ],
      "metadata": {
        "colab": {
          "base_uri": "https://localhost:8080/"
        },
        "id": "88coAP-m38TH",
        "outputId": "cc39d737-093a-4f5a-eec7-273626b4e265"
      },
      "execution_count": null,
      "outputs": [
        {
          "output_type": "execute_result",
          "data": {
            "text/plain": [
              "[10, 2, 3, 4, 5, 10.9, 7, 8, 9, 'python', 3.14, 1.2424]"
            ]
          },
          "metadata": {},
          "execution_count": 123
        }
      ]
    },
    {
      "cell_type": "code",
      "source": [
        "l + list( ( 1, 'python', True ) )"
      ],
      "metadata": {
        "colab": {
          "base_uri": "https://localhost:8080/"
        },
        "id": "kUlKt5E64DwY",
        "outputId": "f1d282f7-cfeb-4722-bdf8-8115d817a0fe"
      },
      "execution_count": null,
      "outputs": [
        {
          "output_type": "execute_result",
          "data": {
            "text/plain": [
              "[10, 2, 3, 4, 5, 10.9, 7, 8, 9, 'python', 1, 'python', True]"
            ]
          },
          "metadata": {},
          "execution_count": 124
        }
      ]
    },
    {
      "cell_type": "code",
      "source": [
        "# 반복\n",
        "l * 3"
      ],
      "metadata": {
        "colab": {
          "base_uri": "https://localhost:8080/"
        },
        "id": "Mn0QKIrV4HZX",
        "outputId": "abc25895-c746-4a13-8365-87dd2bce9436"
      },
      "execution_count": null,
      "outputs": [
        {
          "output_type": "execute_result",
          "data": {
            "text/plain": [
              "[10,\n",
              " 2,\n",
              " 3,\n",
              " 4,\n",
              " 5,\n",
              " 10.9,\n",
              " 7,\n",
              " 8,\n",
              " 9,\n",
              " 'python',\n",
              " 10,\n",
              " 2,\n",
              " 3,\n",
              " 4,\n",
              " 5,\n",
              " 10.9,\n",
              " 7,\n",
              " 8,\n",
              " 9,\n",
              " 'python',\n",
              " 10,\n",
              " 2,\n",
              " 3,\n",
              " 4,\n",
              " 5,\n",
              " 10.9,\n",
              " 7,\n",
              " 8,\n",
              " 9,\n",
              " 'python']"
            ]
          },
          "metadata": {},
          "execution_count": 125
        }
      ]
    },
    {
      "cell_type": "code",
      "source": [
        "# 포함 유무 확인\n",
        "10 in l"
      ],
      "metadata": {
        "colab": {
          "base_uri": "https://localhost:8080/"
        },
        "id": "6RajBJPA4YDp",
        "outputId": "707b4455-59b0-425a-c8ef-3c57c0756344"
      },
      "execution_count": null,
      "outputs": [
        {
          "output_type": "execute_result",
          "data": {
            "text/plain": [
              "True"
            ]
          },
          "metadata": {},
          "execution_count": 126
        }
      ]
    },
    {
      "cell_type": "code",
      "source": [
        "10.5 in l"
      ],
      "metadata": {
        "colab": {
          "base_uri": "https://localhost:8080/"
        },
        "id": "rSd5-Fm64iZh",
        "outputId": "aac0e8e9-b409-40f9-9b43-7c779e60056e"
      },
      "execution_count": null,
      "outputs": [
        {
          "output_type": "execute_result",
          "data": {
            "text/plain": [
              "False"
            ]
          },
          "metadata": {},
          "execution_count": 127
        }
      ]
    },
    {
      "cell_type": "code",
      "source": [
        "'python' in l"
      ],
      "metadata": {
        "colab": {
          "base_uri": "https://localhost:8080/"
        },
        "id": "l3YBrKiy4jPt",
        "outputId": "bb2edf5d-7f68-4736-b92f-46eac0c6448b"
      },
      "execution_count": null,
      "outputs": [
        {
          "output_type": "execute_result",
          "data": {
            "text/plain": [
              "True"
            ]
          },
          "metadata": {},
          "execution_count": 128
        }
      ]
    },
    {
      "cell_type": "code",
      "source": [
        "# 길이 계산\n",
        "len( l )"
      ],
      "metadata": {
        "colab": {
          "base_uri": "https://localhost:8080/"
        },
        "id": "lKNReh7C4kmn",
        "outputId": "7df0f934-6b12-445a-9161-2ae085702bd8"
      },
      "execution_count": null,
      "outputs": [
        {
          "output_type": "execute_result",
          "data": {
            "text/plain": [
              "10"
            ]
          },
          "metadata": {},
          "execution_count": 129
        }
      ]
    },
    {
      "cell_type": "code",
      "source": [
        "len( [ 'python', True, 'programming' ] )"
      ],
      "metadata": {
        "colab": {
          "base_uri": "https://localhost:8080/"
        },
        "id": "YgsyAaV5427I",
        "outputId": "25db1b0c-41e3-4fdf-936a-403614b85808"
      },
      "execution_count": null,
      "outputs": [
        {
          "output_type": "execute_result",
          "data": {
            "text/plain": [
              "3"
            ]
          },
          "metadata": {},
          "execution_count": 130
        }
      ]
    },
    {
      "cell_type": "code",
      "source": [
        "# 값 변경\n",
        "l = list( range( 1, 6 ) )\n",
        "print( f'l = {l}\\t[ {type( l )} - {len( l )} ]' )"
      ],
      "metadata": {
        "colab": {
          "base_uri": "https://localhost:8080/"
        },
        "id": "wpoTONsi48mm",
        "outputId": "d2f1f523-1a83-4b58-84f8-ebac0bb17ede"
      },
      "execution_count": null,
      "outputs": [
        {
          "output_type": "stream",
          "name": "stdout",
          "text": [
            "l = [1, 2, 3, 4, 5]\t[ <class 'list'> - 5 ]\n"
          ]
        }
      ]
    },
    {
      "cell_type": "code",
      "source": [
        "# 하나의 값 변경\n",
        "l[ 3 ] *= 2\n",
        "print( f'l = {l}\\t[ {type( l )} - {len( l )} ]' )"
      ],
      "metadata": {
        "colab": {
          "base_uri": "https://localhost:8080/"
        },
        "id": "8vGQpSfy5YQj",
        "outputId": "4ce35443-7aa6-45c6-e707-17ec54eb7cf0"
      },
      "execution_count": null,
      "outputs": [
        {
          "output_type": "stream",
          "name": "stdout",
          "text": [
            "l = [1, 2, 3, 8, 5]\t[ <class 'list'> - 5 ]\n"
          ]
        }
      ]
    },
    {
      "cell_type": "code",
      "source": [
        "# slicing을 이용한 값 변경\n",
        "l[ 1:3 ] = [ 10, 20 ] # 1, 2 index 내용 변경\n",
        "print( f'l = {l}\\t[ {type( l )} - {len( l )} ]' )"
      ],
      "metadata": {
        "colab": {
          "base_uri": "https://localhost:8080/"
        },
        "id": "Wd-sHbNq5fUb",
        "outputId": "01886ba7-8ec0-406d-8917-d222c7203036"
      },
      "execution_count": null,
      "outputs": [
        {
          "output_type": "stream",
          "name": "stdout",
          "text": [
            "l = [1, 10, 20, 8, 5]\t[ <class 'list'> - 5 ]\n"
          ]
        }
      ]
    },
    {
      "cell_type": "code",
      "source": [
        "# slicing을 이용한 값 삭제\n",
        "l[ 1:3 ] = [] # 1, 2 index 내용 삭제\n",
        "print( f'l = {l}\\t[ {type( l )} - {len( l )} ]' )"
      ],
      "metadata": {
        "colab": {
          "base_uri": "https://localhost:8080/"
        },
        "id": "saTmEmDw5pMg",
        "outputId": "7880f359-f541-4419-bc77-45378a1a04cc"
      },
      "execution_count": null,
      "outputs": [
        {
          "output_type": "stream",
          "name": "stdout",
          "text": [
            "l = [1, 8, 5]\t[ <class 'list'> - 3 ]\n"
          ]
        }
      ]
    },
    {
      "cell_type": "markdown",
      "source": [
        "## list 메서드"
      ],
      "metadata": {
        "id": "0jxNu67f6GAj"
      }
    },
    {
      "cell_type": "code",
      "source": [
        "# append() : list에 요소 추가\n",
        "l = []"
      ],
      "metadata": {
        "id": "Sb6K_8zK69dH"
      },
      "execution_count": null,
      "outputs": []
    },
    {
      "cell_type": "code",
      "source": [
        "l.append( 10 )\n",
        "l.append( 20 )\n",
        "l.append( 30 )"
      ],
      "metadata": {
        "id": "G339R-7O6_Nt"
      },
      "execution_count": null,
      "outputs": []
    },
    {
      "cell_type": "code",
      "source": [
        "print( f'l = {l}\\t[ {type( l )} - {len( l )} ]' )"
      ],
      "metadata": {
        "colab": {
          "base_uri": "https://localhost:8080/"
        },
        "id": "w_t58Jb57F5J",
        "outputId": "beaec2f1-cd32-48c6-cd73-f58f29e30725"
      },
      "execution_count": null,
      "outputs": [
        {
          "output_type": "stream",
          "name": "stdout",
          "text": [
            "l = [10, 20, 30]\t[ <class 'list'> - 3 ]\n"
          ]
        }
      ]
    },
    {
      "cell_type": "code",
      "source": [
        "# insert() : list 특정 위치에 요소 추가\n",
        "# insert( 삽입위치 index, 값 )\n",
        "l.insert( 1, 15 )\n",
        "print( f'l = {l}\\t[ {type( l )} - {len( l )} ]' )"
      ],
      "metadata": {
        "colab": {
          "base_uri": "https://localhost:8080/"
        },
        "id": "B37cM7tj7GiY",
        "outputId": "7d905b87-22cb-46dc-8899-537ddf49e0a9"
      },
      "execution_count": null,
      "outputs": [
        {
          "output_type": "stream",
          "name": "stdout",
          "text": [
            "l = [10, 15, 20, 30]\t[ <class 'list'> - 4 ]\n"
          ]
        }
      ]
    },
    {
      "cell_type": "code",
      "source": [
        "l.insert( 2, 25 )\n",
        "print( f'l = {l}\\t[ {type( l )} - {len( l )} ]' )"
      ],
      "metadata": {
        "colab": {
          "base_uri": "https://localhost:8080/"
        },
        "id": "28e6IAlR-zR-",
        "outputId": "f2a38005-54ed-4425-d7ec-1b898f68ce00"
      },
      "execution_count": null,
      "outputs": [
        {
          "output_type": "stream",
          "name": "stdout",
          "text": [
            "l = [10, 15, 25, 20, 30]\t[ <class 'list'> - 5 ]\n"
          ]
        }
      ]
    },
    {
      "cell_type": "markdown",
      "source": [
        "### list 요소 삭제"
      ],
      "metadata": {
        "id": "eAof2mTn-_8m"
      }
    },
    {
      "cell_type": "code",
      "source": [
        "print( f'l = {l}\\t[ {type( l )} - {len( l )} ]' )"
      ],
      "metadata": {
        "colab": {
          "base_uri": "https://localhost:8080/"
        },
        "id": "qfPJBC39ADa9",
        "outputId": "23a20901-c6af-46c3-da42-22314303af80"
      },
      "execution_count": null,
      "outputs": [
        {
          "output_type": "stream",
          "name": "stdout",
          "text": [
            "l = [10, 15, 25, 20, 30]\t[ <class 'list'> - 5 ]\n"
          ]
        }
      ]
    },
    {
      "cell_type": "code",
      "source": [
        "# list 요소 삭제 - del 명령\n",
        "del l[ 1 ]"
      ],
      "metadata": {
        "id": "wzZx4OKzAIiW"
      },
      "execution_count": null,
      "outputs": []
    },
    {
      "cell_type": "code",
      "source": [
        "print( f'l = {l}\\t[ {type( l )} - {len( l )} ]' )"
      ],
      "metadata": {
        "colab": {
          "base_uri": "https://localhost:8080/"
        },
        "id": "irDuhgxyAKlA",
        "outputId": "5382409b-f915-4303-a8d4-66ffc1c07522"
      },
      "execution_count": null,
      "outputs": [
        {
          "output_type": "stream",
          "name": "stdout",
          "text": [
            "l = [10, 25, 20, 30]\t[ <class 'list'> - 4 ]\n"
          ]
        }
      ]
    },
    {
      "cell_type": "code",
      "source": [
        "del l[ 1 ]"
      ],
      "metadata": {
        "id": "VRt-VTn6ALCy"
      },
      "execution_count": null,
      "outputs": []
    },
    {
      "cell_type": "code",
      "source": [
        "print( f'l = {l}\\t[ {type( l )} - {len( l )} ]' )"
      ],
      "metadata": {
        "colab": {
          "base_uri": "https://localhost:8080/"
        },
        "id": "WNseJAclAMr2",
        "outputId": "2679de92-6e90-4022-d9c5-bd2e126af37c"
      },
      "execution_count": null,
      "outputs": [
        {
          "output_type": "stream",
          "name": "stdout",
          "text": [
            "l = [10, 20, 30]\t[ <class 'list'> - 3 ]\n"
          ]
        }
      ]
    },
    {
      "cell_type": "code",
      "source": [
        "# list 요소 삭제 - remove() 메서드\n",
        "l.remove( 10 )"
      ],
      "metadata": {
        "id": "WpqHDAJWAND6"
      },
      "execution_count": null,
      "outputs": []
    },
    {
      "cell_type": "code",
      "source": [
        "print( f'l = {l}\\t[ {type( l )} - {len( l )} ]' )"
      ],
      "metadata": {
        "colab": {
          "base_uri": "https://localhost:8080/"
        },
        "id": "Cpz18rDXAtHt",
        "outputId": "cd71bc73-7695-4db9-fd09-08b1896e3ffd"
      },
      "execution_count": null,
      "outputs": [
        {
          "output_type": "stream",
          "name": "stdout",
          "text": [
            "l = [20, 30]\t[ <class 'list'> - 2 ]\n"
          ]
        }
      ]
    },
    {
      "cell_type": "code",
      "source": [
        "l.remove( 30 )\n",
        "print( f'l = {l}\\t[ {type( l )} - {len( l )} ]' )"
      ],
      "metadata": {
        "colab": {
          "base_uri": "https://localhost:8080/"
        },
        "id": "IMULXIRoAtzX",
        "outputId": "1e298608-a9db-40ad-ae5c-ce022e9b81f8"
      },
      "execution_count": null,
      "outputs": [
        {
          "output_type": "stream",
          "name": "stdout",
          "text": [
            "l = [20]\t[ <class 'list'> - 1 ]\n"
          ]
        }
      ]
    },
    {
      "cell_type": "code",
      "source": [
        "l.remove( 10 )"
      ],
      "metadata": {
        "colab": {
          "base_uri": "https://localhost:8080/",
          "height": 172
        },
        "id": "zqYOp1pzAwgJ",
        "outputId": "38f8e1cf-44a0-4385-f3e3-79bb79f262c1"
      },
      "execution_count": null,
      "outputs": [
        {
          "output_type": "error",
          "ename": "ValueError",
          "evalue": "ignored",
          "traceback": [
            "\u001b[0;31m---------------------------------------------------------------------------\u001b[0m",
            "\u001b[0;31mValueError\u001b[0m                                Traceback (most recent call last)",
            "\u001b[0;32m<ipython-input-156-557ab8151909>\u001b[0m in \u001b[0;36m<module>\u001b[0;34m()\u001b[0m\n\u001b[0;32m----> 1\u001b[0;31m \u001b[0ml\u001b[0m\u001b[0;34m.\u001b[0m\u001b[0mremove\u001b[0m\u001b[0;34m(\u001b[0m \u001b[0;36m10\u001b[0m \u001b[0;34m)\u001b[0m\u001b[0;34m\u001b[0m\u001b[0;34m\u001b[0m\u001b[0m\n\u001b[0m",
            "\u001b[0;31mValueError\u001b[0m: list.remove(x): x not in list"
          ]
        }
      ]
    },
    {
      "cell_type": "code",
      "source": [
        "# list 요소 삭제 - pop 메서드\n",
        "l = list( range( 10, 60, 10 ) )\n",
        "print( f'l = {l}\\t[ {type( l )} - {len( l )} ]' )"
      ],
      "metadata": {
        "colab": {
          "base_uri": "https://localhost:8080/"
        },
        "id": "nDDLAsIgAzZQ",
        "outputId": "32dde943-0e3d-4c0a-8cbd-f730b68e3a5b"
      },
      "execution_count": null,
      "outputs": [
        {
          "output_type": "stream",
          "name": "stdout",
          "text": [
            "l = [10, 20, 30, 40, 50]\t[ <class 'list'> - 5 ]\n"
          ]
        }
      ]
    },
    {
      "cell_type": "code",
      "source": [
        "l.pop()\n",
        "l.pop()\n",
        "l.pop()"
      ],
      "metadata": {
        "colab": {
          "base_uri": "https://localhost:8080/"
        },
        "id": "-4EjzaTVBi7S",
        "outputId": "5119a97f-80da-470b-b41d-fda5f367acee"
      },
      "execution_count": null,
      "outputs": [
        {
          "output_type": "execute_result",
          "data": {
            "text/plain": [
              "30"
            ]
          },
          "metadata": {},
          "execution_count": 158
        }
      ]
    },
    {
      "cell_type": "code",
      "source": [
        "print( f'l = {l}\\t[ {type( l )} - {len( l )} ]' )"
      ],
      "metadata": {
        "colab": {
          "base_uri": "https://localhost:8080/"
        },
        "id": "jNJcywWdBnmz",
        "outputId": "14361419-bff5-4418-9927-5726e05113be"
      },
      "execution_count": null,
      "outputs": [
        {
          "output_type": "stream",
          "name": "stdout",
          "text": [
            "l = [10, 20]\t[ <class 'list'> - 2 ]\n"
          ]
        }
      ]
    },
    {
      "cell_type": "code",
      "source": [
        "value = l.pop()\n",
        "print( f'l = {l}\\t[ {type( l )} - {len( l )} ]' )"
      ],
      "metadata": {
        "colab": {
          "base_uri": "https://localhost:8080/"
        },
        "id": "LgHJsNBqBoB2",
        "outputId": "66477c44-a31d-49f6-972f-5a9314185fe2"
      },
      "execution_count": null,
      "outputs": [
        {
          "output_type": "stream",
          "name": "stdout",
          "text": [
            "l = [10]\t[ <class 'list'> - 1 ]\n"
          ]
        }
      ]
    },
    {
      "cell_type": "code",
      "source": [
        "print( f'delete value = {value}' ) "
      ],
      "metadata": {
        "colab": {
          "base_uri": "https://localhost:8080/"
        },
        "id": "RxrswKKRCH97",
        "outputId": "81487612-b4aa-4dea-e9af-a39aab8ddacb"
      },
      "execution_count": null,
      "outputs": [
        {
          "output_type": "stream",
          "name": "stdout",
          "text": [
            "delete value = 20\n"
          ]
        }
      ]
    },
    {
      "cell_type": "markdown",
      "source": [
        "#### list를 이용한 stack 구현"
      ],
      "metadata": {
        "id": "wQ1zPY7cCLXd"
      }
    },
    {
      "cell_type": "code",
      "source": [
        "stack = []\n",
        "\n",
        "# stack에 데이터 추가( push )\n",
        "data = 'python'\n",
        "print( f'data : {data}\\n' )\n",
        "\n",
        "for value in data:\n",
        "    stack.append( value ) # stack에 데이터 추가\n",
        "print( f'stack : {stack}\\n' )\n",
        "\n",
        "reverse_data = []\n",
        "for _ in range( len( stack ) ):\n",
        "    # stack에서 데이터 삭제( pop )\n",
        "    reverse_data.append( stack.pop() )\n",
        "print( f'reverse data : {reverse_data}' )\n",
        "print( f'stack : {stack}\\n' )"
      ],
      "metadata": {
        "colab": {
          "base_uri": "https://localhost:8080/"
        },
        "id": "EdfA2kD4ET-F",
        "outputId": "39d8520b-56a9-49dd-9728-edf4c0ae4ba1"
      },
      "execution_count": null,
      "outputs": [
        {
          "output_type": "stream",
          "name": "stdout",
          "text": [
            "data : python\n",
            "\n",
            "stack : ['p', 'y', 't', 'h', 'o', 'n']\n",
            "\n",
            "reverse data : ['n', 'o', 'h', 't', 'y', 'p']\n",
            "stack : []\n",
            "\n"
          ]
        }
      ]
    },
    {
      "cell_type": "markdown",
      "source": [
        "#### list를 이용한 queue 구현"
      ],
      "metadata": {
        "id": "-hD2k97GHI-R"
      }
    },
    {
      "cell_type": "code",
      "source": [
        "queue = []\n",
        "\n",
        "# queue에 데이터 입력( put )\n",
        "queue.insert( 0, 10 )\n",
        "queue.insert( 0, 20 )\n",
        "queue.insert( 0, 30 )\n",
        "print( f'queue : {queue}\\n' )\n",
        "\n",
        "# queue에서 데이터 삭제( get )\n",
        "for _ in range( len( queue ) ):\n",
        "    print( f'data : {queue.pop()} ')\n",
        "print( f'queue : {queue}\\n' )"
      ],
      "metadata": {
        "colab": {
          "base_uri": "https://localhost:8080/"
        },
        "id": "umfV_aADEzLp",
        "outputId": "437be9b2-bc42-42d3-ad3e-e779f98f482f"
      },
      "execution_count": null,
      "outputs": [
        {
          "output_type": "stream",
          "name": "stdout",
          "text": [
            "queue : [30, 20, 10]\n",
            "\n",
            "data : 10 \n",
            "data : 20 \n",
            "data : 30 \n",
            "queue : []\n",
            "\n"
          ]
        }
      ]
    },
    {
      "cell_type": "code",
      "source": [
        "# count() 메서드\n",
        "l = list( range( 10, 60, 10 ) )\n",
        "l.append( 10 )\n",
        "l.append( 20 )\n",
        "l.append( 10 )\n",
        "print( f'l = {l}\\t[ {type( l )} - {len( l )} ]' )"
      ],
      "metadata": {
        "colab": {
          "base_uri": "https://localhost:8080/"
        },
        "id": "JEJz0kkXHCRv",
        "outputId": "c8e96c1a-d0d0-4b41-d1e8-9eae68494a15"
      },
      "execution_count": null,
      "outputs": [
        {
          "output_type": "stream",
          "name": "stdout",
          "text": [
            "l = [10, 20, 30, 40, 50, 10, 20, 10]\t[ <class 'list'> - 8 ]\n"
          ]
        }
      ]
    },
    {
      "cell_type": "code",
      "source": [
        "l.count( 10 )"
      ],
      "metadata": {
        "colab": {
          "base_uri": "https://localhost:8080/"
        },
        "id": "rovgp022M2pm",
        "outputId": "a653f0cb-93ef-48f1-dc81-5fdb19c715ac"
      },
      "execution_count": null,
      "outputs": [
        {
          "output_type": "execute_result",
          "data": {
            "text/plain": [
              "3"
            ]
          },
          "metadata": {},
          "execution_count": 172
        }
      ]
    },
    {
      "cell_type": "code",
      "source": [
        "l.count( 20 )"
      ],
      "metadata": {
        "colab": {
          "base_uri": "https://localhost:8080/"
        },
        "id": "_k84XpvfM-K4",
        "outputId": "91c8dc54-4540-4ba3-ce06-bbc965cdb7b4"
      },
      "execution_count": null,
      "outputs": [
        {
          "output_type": "execute_result",
          "data": {
            "text/plain": [
              "2"
            ]
          },
          "metadata": {},
          "execution_count": 173
        }
      ]
    },
    {
      "cell_type": "code",
      "source": [
        "l.count( 30 )"
      ],
      "metadata": {
        "colab": {
          "base_uri": "https://localhost:8080/"
        },
        "id": "wnkqXS41M_25",
        "outputId": "8368b2a5-20f0-48a9-897a-6182a5580578"
      },
      "execution_count": null,
      "outputs": [
        {
          "output_type": "execute_result",
          "data": {
            "text/plain": [
              "1"
            ]
          },
          "metadata": {},
          "execution_count": 174
        }
      ]
    },
    {
      "cell_type": "code",
      "source": [
        "l.count( 70 )"
      ],
      "metadata": {
        "colab": {
          "base_uri": "https://localhost:8080/"
        },
        "id": "Wne2F_VrNA0f",
        "outputId": "47d11de0-9650-48a4-e95e-3ec13f932d77"
      },
      "execution_count": null,
      "outputs": [
        {
          "output_type": "execute_result",
          "data": {
            "text/plain": [
              "0"
            ]
          },
          "metadata": {},
          "execution_count": 175
        }
      ]
    },
    {
      "cell_type": "code",
      "source": [
        "# index() 메서드\n",
        "l.index( 10 )"
      ],
      "metadata": {
        "colab": {
          "base_uri": "https://localhost:8080/"
        },
        "id": "TDHkUzumNCQi",
        "outputId": "ab44f0d9-e342-406a-c0aa-e689e349e585"
      },
      "execution_count": null,
      "outputs": [
        {
          "output_type": "execute_result",
          "data": {
            "text/plain": [
              "0"
            ]
          },
          "metadata": {},
          "execution_count": 176
        }
      ]
    },
    {
      "cell_type": "code",
      "source": [
        "l.index( 10, 1 )"
      ],
      "metadata": {
        "colab": {
          "base_uri": "https://localhost:8080/"
        },
        "id": "rmgH9j8iOEz_",
        "outputId": "552eddfe-f9c6-4f70-c6c3-b133c8f0dba3"
      },
      "execution_count": null,
      "outputs": [
        {
          "output_type": "execute_result",
          "data": {
            "text/plain": [
              "5"
            ]
          },
          "metadata": {},
          "execution_count": 177
        }
      ]
    },
    {
      "cell_type": "code",
      "source": [
        "l.index( 10, 6 )"
      ],
      "metadata": {
        "colab": {
          "base_uri": "https://localhost:8080/"
        },
        "id": "Mi0ZEEL0OGpu",
        "outputId": "67ac2cb8-a346-4aae-90a9-fe227315bf38"
      },
      "execution_count": null,
      "outputs": [
        {
          "output_type": "execute_result",
          "data": {
            "text/plain": [
              "7"
            ]
          },
          "metadata": {},
          "execution_count": 179
        }
      ]
    },
    {
      "cell_type": "code",
      "source": [
        "l.index( 70 )"
      ],
      "metadata": {
        "colab": {
          "base_uri": "https://localhost:8080/",
          "height": 172
        },
        "id": "rnZMWcBtOIBY",
        "outputId": "104f1ed6-372e-4724-d40a-e65e07787764"
      },
      "execution_count": null,
      "outputs": [
        {
          "output_type": "error",
          "ename": "ValueError",
          "evalue": "ignored",
          "traceback": [
            "\u001b[0;31m---------------------------------------------------------------------------\u001b[0m",
            "\u001b[0;31mValueError\u001b[0m                                Traceback (most recent call last)",
            "\u001b[0;32m<ipython-input-180-ca7b595a2d02>\u001b[0m in \u001b[0;36m<module>\u001b[0;34m()\u001b[0m\n\u001b[0;32m----> 1\u001b[0;31m \u001b[0ml\u001b[0m\u001b[0;34m.\u001b[0m\u001b[0mindex\u001b[0m\u001b[0;34m(\u001b[0m \u001b[0;36m70\u001b[0m \u001b[0;34m)\u001b[0m\u001b[0;34m\u001b[0m\u001b[0;34m\u001b[0m\u001b[0m\n\u001b[0m",
            "\u001b[0;31mValueError\u001b[0m: 70 is not in list"
          ]
        }
      ]
    },
    {
      "cell_type": "code",
      "source": [
        "# reverse() 메서드\n",
        "l = list( range( 1, 6 ) )\n",
        "print( f'l = {l}\\t[ {type( l )} - {len( l )} ]' )"
      ],
      "metadata": {
        "colab": {
          "base_uri": "https://localhost:8080/"
        },
        "id": "6jCmGmI_OLLE",
        "outputId": "6b83e144-8989-458c-a582-efd02755d534"
      },
      "execution_count": null,
      "outputs": [
        {
          "output_type": "stream",
          "name": "stdout",
          "text": [
            "l = [1, 2, 3, 4, 5]\t[ <class 'list'> - 5 ]\n"
          ]
        }
      ]
    },
    {
      "cell_type": "code",
      "source": [
        "l.reverse()\n",
        "print( f'l = {l}\\t[ {type( l )} - {len( l )} ]' )"
      ],
      "metadata": {
        "colab": {
          "base_uri": "https://localhost:8080/"
        },
        "id": "cRRuLVYkOkPm",
        "outputId": "f5e5f8d5-c3b6-4575-8ffd-09c85a0aef84"
      },
      "execution_count": null,
      "outputs": [
        {
          "output_type": "stream",
          "name": "stdout",
          "text": [
            "l = [5, 4, 3, 2, 1]\t[ <class 'list'> - 5 ]\n"
          ]
        }
      ]
    },
    {
      "cell_type": "code",
      "source": [
        "l.reverse()\n",
        "print( f'l = {l}\\t[ {type( l )} - {len( l )} ]' )"
      ],
      "metadata": {
        "colab": {
          "base_uri": "https://localhost:8080/"
        },
        "id": "biRlYmEDOuoT",
        "outputId": "b0c1133c-9441-4921-ac46-5ae8002d2c89"
      },
      "execution_count": null,
      "outputs": [
        {
          "output_type": "stream",
          "name": "stdout",
          "text": [
            "l = [1, 2, 3, 4, 5]\t[ <class 'list'> - 5 ]\n"
          ]
        }
      ]
    },
    {
      "cell_type": "markdown",
      "source": [
        "#### list 요소 정렬( sort )"
      ],
      "metadata": {
        "id": "LTU3MDpxOxBJ"
      }
    },
    {
      "cell_type": "code",
      "source": [
        "l_org = [ 50, 40, 30, 10, 20 ]\n",
        "\n",
        "l_copy = []\n",
        "for value in l_org:\n",
        "    l_copy.append( value )\n",
        "\n",
        "print( f'l_org = {l_org}\\t[ {type( l_org )} - {len( l_org )} ]' )\n",
        "print( f'l_copy = {l_copy}\\t[ {type( l_copy )} - {len( l_copy )} ]' )"
      ],
      "metadata": {
        "colab": {
          "base_uri": "https://localhost:8080/"
        },
        "id": "XDqjCNN1PkRu",
        "outputId": "aa226ffc-7946-465e-97c2-ea4436b6726a"
      },
      "execution_count": null,
      "outputs": [
        {
          "output_type": "stream",
          "name": "stdout",
          "text": [
            "l_org = [50, 40, 30, 10, 20]\t[ <class 'list'> - 5 ]\n",
            "l_copy = [50, 40, 30, 10, 20]\t[ <class 'list'> - 5 ]\n"
          ]
        }
      ]
    },
    {
      "cell_type": "code",
      "source": [
        "l_copy.sort() # Ascending sort( 오름차순 )\n",
        "print( f'l_copy = {l_copy}\\t[ {type( l_copy )} - {len( l_copy )} ]' )"
      ],
      "metadata": {
        "colab": {
          "base_uri": "https://localhost:8080/"
        },
        "id": "0Bd6ANGSPsHO",
        "outputId": "ad09d95c-b449-450d-f967-63ba5a9de9ff"
      },
      "execution_count": null,
      "outputs": [
        {
          "output_type": "stream",
          "name": "stdout",
          "text": [
            "l_copy = [10, 20, 30, 40, 50]\t[ <class 'list'> - 5 ]\n"
          ]
        }
      ]
    },
    {
      "cell_type": "code",
      "source": [
        "l_copy.sort( reverse = True ) # Descending( 내림차순 )\n",
        "print( f'l_copy = {l_copy}\\t[ {type( l_copy )} - {len( l_copy )} ]' )"
      ],
      "metadata": {
        "colab": {
          "base_uri": "https://localhost:8080/"
        },
        "id": "NqR8SE91QZTG",
        "outputId": "9f22de3e-d7f9-4e63-fa06-c6707cbf29e7"
      },
      "execution_count": null,
      "outputs": [
        {
          "output_type": "stream",
          "name": "stdout",
          "text": [
            "l_copy = [50, 40, 30, 20, 10]\t[ <class 'list'> - 5 ]\n"
          ]
        }
      ]
    },
    {
      "cell_type": "code",
      "source": [
        "print( f'l_org = {l_org}\\t[ {type( l_org )} - {len( l_org )} ]' )"
      ],
      "metadata": {
        "colab": {
          "base_uri": "https://localhost:8080/"
        },
        "id": "qJ_1Y02BRXb5",
        "outputId": "fd3abc52-b5b7-4fb5-9749-8995a5e34b16"
      },
      "execution_count": null,
      "outputs": [
        {
          "output_type": "stream",
          "name": "stdout",
          "text": [
            "l_org = [50, 40, 30, 10, 20]\t[ <class 'list'> - 5 ]\n"
          ]
        }
      ]
    },
    {
      "cell_type": "code",
      "source": [
        "l_sort = sorted( l_org ) # Ascending( 오름차순 )\n",
        "print( f'l_org = {l_org}\\t[ {type( l_org )} - {len( l_org )} ]' )\n",
        "print( f'l_sort = {l_sort}\\t[ {type( l_sort )} - {len( l_sort )} ]' )"
      ],
      "metadata": {
        "colab": {
          "base_uri": "https://localhost:8080/"
        },
        "id": "05klphRzSPXt",
        "outputId": "462e4c3f-9bea-4e47-e869-dce0800d4dd4"
      },
      "execution_count": null,
      "outputs": [
        {
          "output_type": "stream",
          "name": "stdout",
          "text": [
            "l_org = [50, 40, 30, 10, 20]\t[ <class 'list'> - 5 ]\n",
            "l_sort = [10, 20, 30, 40, 50]\t[ <class 'list'> - 5 ]\n"
          ]
        }
      ]
    },
    {
      "cell_type": "code",
      "source": [
        "l_sort = sorted( l_org, reverse = True ) # Descending( 내림차순 )\n",
        "print( f'l_org = {l_org}\\t[ {type( l_org )} - {len( l_org )} ]' )\n",
        "print( f'l_sort = {l_sort}\\t[ {type( l_sort )} - {len( l_sort )} ]' )"
      ],
      "metadata": {
        "colab": {
          "base_uri": "https://localhost:8080/"
        },
        "id": "LrS0BwuqSZCe",
        "outputId": "e779a1b0-794e-4cac-f1cb-4a81bee1ec32"
      },
      "execution_count": null,
      "outputs": [
        {
          "output_type": "stream",
          "name": "stdout",
          "text": [
            "l_org = [50, 40, 30, 10, 20]\t[ <class 'list'> - 5 ]\n",
            "l_sort = [50, 40, 30, 20, 10]\t[ <class 'list'> - 5 ]\n"
          ]
        }
      ]
    },
    {
      "cell_type": "markdown",
      "source": [
        "### 중첩 list"
      ],
      "metadata": {
        "id": "hZFG8jigSpQt"
      }
    },
    {
      "cell_type": "code",
      "source": [
        "list1 = [ 1, 2, 3, 4 ]\n",
        "list2 = [ 10, 20, 30, 40 ]\n",
        "l = [ list1, list2 ]\n",
        "\n",
        "print( f'l      = {l}\\t( {len( l )} )' )\n",
        "print( f'l[ 0 ] = {l[ 0 ]}\\t( {len( l[ 0 ] )} )' )\n",
        "print( f'l[ 1 ] = {l[ 1 ]}\\t( {len( l[ 1 ] )} )' )"
      ],
      "metadata": {
        "colab": {
          "base_uri": "https://localhost:8080/"
        },
        "id": "WVYkxsmvUZpd",
        "outputId": "ffdf68a7-a595-4abf-e96b-d8fd0dfe8b2a"
      },
      "execution_count": null,
      "outputs": [
        {
          "output_type": "stream",
          "name": "stdout",
          "text": [
            "l      = [[1, 2, 3, 4], [10, 20, 30, 40]]\t( 2 )\n",
            "l[ 0 ] = [1, 2, 3, 4]\t( 4 )\n",
            "l[ 1 ] = [10, 20, 30, 40]\t( 4 )\n"
          ]
        }
      ]
    },
    {
      "cell_type": "code",
      "source": [
        "for i in range( len( l ) ):\n",
        "    print( f'l[{i:2}] : ', end = '' )\n",
        "    for j in range( len( l[ i ] ) ):\n",
        "        print( f'{l[ i ][ j ]:3}', end = '' )\n",
        "    print()"
      ],
      "metadata": {
        "colab": {
          "base_uri": "https://localhost:8080/"
        },
        "id": "xI3-C80hUx3K",
        "outputId": "d8fd67c7-0089-482a-88bd-3dc1d7e6933e"
      },
      "execution_count": null,
      "outputs": [
        {
          "output_type": "stream",
          "name": "stdout",
          "text": [
            "l[ 0] :   1  2  3  4\n",
            "l[ 1] :  10 20 30 40\n"
          ]
        }
      ]
    },
    {
      "cell_type": "code",
      "source": [
        "list1[ 0 ]"
      ],
      "metadata": {
        "colab": {
          "base_uri": "https://localhost:8080/"
        },
        "id": "DV3AigtiWE2S",
        "outputId": "2335b835-fd9b-42f3-8bf4-ee1aef28b02d"
      },
      "execution_count": null,
      "outputs": [
        {
          "output_type": "execute_result",
          "data": {
            "text/plain": [
              "1"
            ]
          },
          "metadata": {},
          "execution_count": 212
        }
      ]
    },
    {
      "cell_type": "code",
      "source": [
        "l[ 0 ]"
      ],
      "metadata": {
        "colab": {
          "base_uri": "https://localhost:8080/"
        },
        "id": "mzvMONjOavw4",
        "outputId": "a36d1d7e-b491-4c70-f04f-2488fe6ce97a"
      },
      "execution_count": null,
      "outputs": [
        {
          "output_type": "execute_result",
          "data": {
            "text/plain": [
              "[1, 2, 3, 4]"
            ]
          },
          "metadata": {},
          "execution_count": 213
        }
      ]
    },
    {
      "cell_type": "code",
      "source": [
        "l[ 0 ][ 0 ]"
      ],
      "metadata": {
        "colab": {
          "base_uri": "https://localhost:8080/"
        },
        "id": "dmnCRvh9ax6T",
        "outputId": "6af002cb-2cc7-4e5c-b851-ce57d9cd8e33"
      },
      "execution_count": null,
      "outputs": [
        {
          "output_type": "execute_result",
          "data": {
            "text/plain": [
              "1"
            ]
          },
          "metadata": {},
          "execution_count": 214
        }
      ]
    },
    {
      "cell_type": "code",
      "source": [
        "l = [ \n",
        "      [ 1, 2, 3, 4 ],\n",
        "      [ 10, 20 ] \n",
        "    ]"
      ],
      "metadata": {
        "id": "K_yPzb1ua4Ri"
      },
      "execution_count": null,
      "outputs": []
    },
    {
      "cell_type": "code",
      "source": [
        "print( f'l      = {l} ( {len( l )} )' )\n",
        "print( f'l[ 0 ] = {l[ 0 ]} ( {len( l[ 0 ] )} )' )\n",
        "print( f'l[ 1 ] = {l[ 1 ]} ( {len( l[ 1 ] )} )' )"
      ],
      "metadata": {
        "colab": {
          "base_uri": "https://localhost:8080/"
        },
        "id": "8XIIhIkUbis9",
        "outputId": "26d485fb-2be0-454b-fb25-8babf1020f2e"
      },
      "execution_count": null,
      "outputs": [
        {
          "output_type": "stream",
          "name": "stdout",
          "text": [
            "l      = [[1, 2, 3, 4], [10, 20]] ( 2 )\n",
            "l[ 0 ] = [1, 2, 3, 4] ( 4 )\n",
            "l[ 1 ] = [10, 20] ( 2 )\n"
          ]
        }
      ]
    },
    {
      "cell_type": "code",
      "source": [
        "for i in range( len( l ) ):\n",
        "    for j in range( len( l[ i ] ) ):\n",
        "        print( f'{l[ i ][ j ]:3}', end = '' )\n",
        "    print()"
      ],
      "metadata": {
        "colab": {
          "base_uri": "https://localhost:8080/"
        },
        "id": "OmQ77u_Zb0U2",
        "outputId": "f0cfe24c-d41a-417c-fed8-33f4bc918cdc"
      },
      "execution_count": null,
      "outputs": [
        {
          "output_type": "stream",
          "name": "stdout",
          "text": [
            "  1  2  3  4\n",
            " 10 20\n"
          ]
        }
      ]
    },
    {
      "cell_type": "markdown",
      "source": [
        "#### 실습) 10개의 정수를 입력받아 평균을 구하고 평균과의 차이를 출력하는 파이썬 스크립트"
      ],
      "metadata": {
        "id": "TFmHff4GckTn"
      }
    },
    {
      "cell_type": "code",
      "source": [
        "MAX_DATA = 10\n",
        "numbers = []\n",
        "total = 0\n",
        "\n",
        "# 1. 10개의 정수 입력\n",
        "for i in range( MAX_DATA ):\n",
        "    number = int( float( input( f'[{i+1:2}]번째 정수 입력 ' ) ) )\n",
        "    numbers.append( number )\n",
        "    total += number\n",
        "\n",
        "# 2. 평균 계산\n",
        "average = total / MAX_DATA\n",
        "\n",
        "# 3. 평균과의 차이 출력\n",
        "print()\n",
        "for i in range( MAX_DATA ):\n",
        "    diffrence = average - numbers[ i ]\n",
        "    print( f'{average:7.2f} {numbers[ i ]:5} {diffrence:6.2f}' )"
      ],
      "metadata": {
        "colab": {
          "base_uri": "https://localhost:8080/"
        },
        "id": "aCTZiPR3dFCY",
        "outputId": "9156960a-bbe1-41ff-8f04-cd516c993764"
      },
      "execution_count": null,
      "outputs": [
        {
          "output_type": "stream",
          "name": "stdout",
          "text": [
            "[ 1]번째 정수 입력 10\n",
            "[ 2]번째 정수 입력 20\n",
            "[ 3]번째 정수 입력 30\n",
            "[ 4]번째 정수 입력 40\n",
            "[ 5]번째 정수 입력 50\n",
            "[ 6]번째 정수 입력 60\n",
            "[ 7]번째 정수 입력 70\n",
            "[ 8]번째 정수 입력 80\n",
            "[ 9]번째 정수 입력 90\n",
            "[10]번째 정수 입력 100\n",
            "\n",
            "  55.00    10  45.00\n",
            "  55.00    20  35.00\n",
            "  55.00    30  25.00\n",
            "  55.00    40  15.00\n",
            "  55.00    50   5.00\n",
            "  55.00    60  -5.00\n",
            "  55.00    70 -15.00\n",
            "  55.00    80 -25.00\n",
            "  55.00    90 -35.00\n",
            "  55.00   100 -45.00\n"
          ]
        }
      ]
    },
    {
      "cell_type": "markdown",
      "source": [
        "## 실습) 3명의 이름, 점수1, 점수2, 점수3을 입력 받아 총점, 평균, 등급 출력 파이썬 스크립트\n",
        "\n",
        "* 등급\n",
        "    * A : 90 ~ 100\n",
        "    * B : 80 ~ 89\n",
        "    * C : 70 ~ 79\n",
        "    * D : 60 ~ 69\n",
        "    * F : 0 ~ 59"
      ],
      "metadata": {
        "id": "6SX5MIZefibi"
      }
    },
    {
      "cell_type": "code",
      "source": [
        "MAX_DATA = 3\n",
        "MAX_SCORE = 3\n",
        "students = [] # 학생 성적 정보 목록\n",
        " \n",
        "for i in range( MAX_DATA ):\n",
        "    name = input( f'[ {i+1:2} ] 번째 이름 입력 : ' )\n",
        "    score1 = int( float( input( f'[ {i+1:2} ] 번째 점수1 입력 : ' ) ) )\n",
        "    score2 = int( float( input( f'[ {i+1:2} ] 번째 점수2 입력 : ' ) ) )\n",
        "    score3 = int( float( input( f'[ {i+1:2} ] 번째 점수3 입력 : ' ) ) )\n",
        "    \n",
        "    student = [] # 학생 정보\n",
        "    student.append( name )\n",
        "    student.append( score1 )\n",
        "    student.append( score2 )\n",
        "    student.append( score3 )\n",
        "    student.append( score1 + score2 + score3 )\n",
        "    student.append( student[ 4 ] / MAX_SCORE )\n",
        "    if student[ len( student ) - 1 ] >= 90:\n",
        "        student.append( 'A' )\n",
        "    elif student[ len( student ) - 1 ] >= 80:\n",
        "        student.append( 'B' )\n",
        "    elif student[ len( student ) - 1 ] >= 70:\n",
        "        student.append( 'C' )\n",
        "    elif student[ len( student ) - 1 ] >= 60:\n",
        "        student.append( 'D' )\n",
        "    else:\n",
        "        student.append( 'F' )\n",
        "\n",
        "    students.append( student )\n",
        "\n",
        "print()\n",
        "for student in students:\n",
        "    print( f'\\n{student[ 0 ]:<20} {student[ 1 ]:3} {student[ 2 ]:3} {student[ 3 ]:3} \\\n",
        "               {student[ 4 ]:5} {student[ 5 ]:6.2f} {student[ 6 ]:^3}' )"
      ],
      "metadata": {
        "colab": {
          "base_uri": "https://localhost:8080/"
        },
        "id": "Uw8TEvfxhJ9H",
        "outputId": "baadd590-2bd5-44af-80d3-f793ab9ae244"
      },
      "execution_count": null,
      "outputs": [
        {
          "output_type": "stream",
          "name": "stdout",
          "text": [
            "[  1 ] 번째 이름 입력 : hong\n",
            "[  1 ] 번째 점수1 입력 : 50\n",
            "[  1 ] 번째 점수2 입력 : 50\n",
            "[  1 ] 번째 점수3 입력 : 50\n",
            "[  2 ] 번째 이름 입력 : kim\n",
            "[  2 ] 번째 점수1 입력 : 90\n",
            "[  2 ] 번째 점수2 입력 : 90\n",
            "[  2 ] 번째 점수3 입력 : 90\n",
            "[  3 ] 번째 이름 입력 : lee\n",
            "[  3 ] 번째 점수1 입력 : 70\n",
            "[  3 ] 번째 점수2 입력 : 70\n",
            "[  3 ] 번째 점수3 입력 : 70\n",
            "\n",
            "\n",
            "hong                  50  50  50                  150  50.00  F \n",
            "\n",
            "kim                   90  90  90                  270  90.00  A \n",
            "\n",
            "lee                   70  70  70                  210  70.00  C \n"
          ]
        }
      ]
    },
    {
      "cell_type": "code",
      "source": [
        ""
      ],
      "metadata": {
        "id": "XqobdSdekn36"
      },
      "execution_count": null,
      "outputs": []
    }
  ]
}