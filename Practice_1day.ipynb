{
  "nbformat": 4,
  "nbformat_minor": 0,
  "metadata": {
    "colab": {
      "name": "Teach_1day.ipynb",
      "provenance": [],
      "collapsed_sections": [],
      "include_colab_link": true
    },
    "kernelspec": {
      "name": "python3",
      "display_name": "Python 3"
    },
    "language_info": {
      "name": "python"
    }
  },
  "cells": [
    {
      "cell_type": "markdown",
      "metadata": {
        "id": "view-in-github",
        "colab_type": "text"
      },
      "source": [
        "<a href=\"https://colab.research.google.com/github/Ogaang/Python-Practice/blob/master/Practice_1day.ipynb\" target=\"_parent\"><img src=\"https://colab.research.google.com/assets/colab-badge.svg\" alt=\"Open In Colab\"/></a>"
      ]
    },
    {
      "cell_type": "markdown",
      "source": [
        "# Markdown 제목 1\n",
        "## Markdown 제목 2\n",
        "### Markdown 제목 3\n",
        "#### Markdown 제목 4\n",
        "\n",
        "* 내용1\n",
        "    * 내용 1-1\n",
        "    * 내용 1-2\n",
        "        * 내용 1-1-1\n",
        "\n",
        "* Markdown은 ***문서 작성***을 위한 mark up이다.\n",
        "\n",
        "* 표작성\n",
        "\n",
        "|표제목|항목1|항목2|항목3|\n",
        "|---|:---|:---:|---:|\n",
        "|1|내용1-1|내용2-1|내용3-1|\n",
        "|2|50|90|70|\n",
        "|3|100|100|100|"
      ],
      "metadata": {
        "id": "aTfXVn5RHn_-"
      }
    },
    {
      "cell_type": "code",
      "execution_count": null,
      "metadata": {
        "colab": {
          "base_uri": "https://localhost:8080/"
        },
        "id": "F4vRshHX-64T",
        "outputId": "718f183d-9f2d-4506-a338-1e244b82b712"
      },
      "outputs": [
        {
          "output_type": "stream",
          "name": "stdout",
          "text": [
            "Hello, World!!!\n",
            "Hello, World!!!\n",
            "Hello, World!!!\n",
            "Hello, World!!!\n",
            "Hello, World!!!\n"
          ]
        }
      ],
      "source": [
        "for _ in range( 5 ):\n",
        "    print( 'Hello, World!!!' )"
      ]
    },
    {
      "cell_type": "code",
      "source": [
        "print( 'Hello, World!!!' ) # 함수, 내장 함수\n",
        "print( \"Hello, World!!!\" )"
      ],
      "metadata": {
        "colab": {
          "base_uri": "https://localhost:8080/"
        },
        "id": "wID2rC8mdGHP",
        "outputId": "72a34782-f58d-4d1c-a3a3-4dbe96690bc1"
      },
      "execution_count": null,
      "outputs": [
        {
          "output_type": "stream",
          "name": "stdout",
          "text": [
            "Hello, World!!!\n",
            "Hello, World!!!\n"
          ]
        }
      ]
    },
    {
      "cell_type": "code",
      "source": [
        "print( 'Hello, World!!!' ) \n",
        " print( \"Hello, World!!!\" ) # indentation이 윗줄과 다르다."
      ],
      "metadata": {
        "colab": {
          "base_uri": "https://localhost:8080/",
          "height": 136
        },
        "id": "FncpruYVfopT",
        "outputId": "d52b3347-8605-4fc2-ec67-28e9b3d112c9"
      },
      "execution_count": null,
      "outputs": [
        {
          "output_type": "error",
          "ename": "IndentationError",
          "evalue": "ignored",
          "traceback": [
            "\u001b[0;36m  File \u001b[0;32m\"<ipython-input-5-aca3133ef2ce>\"\u001b[0;36m, line \u001b[0;32m2\u001b[0m\n\u001b[0;31m    print( \"Hello, World!!!\" )\u001b[0m\n\u001b[0m    ^\u001b[0m\n\u001b[0;31mIndentationError\u001b[0m\u001b[0;31m:\u001b[0m unexpected indent\n"
          ]
        }
      ]
    },
    {
      "cell_type": "code",
      "source": [
        "    print( 'Hello, World!!!' ) # 함수, 내장 함수\n",
        "    print( \"Hello, World!!!\" )"
      ],
      "metadata": {
        "colab": {
          "base_uri": "https://localhost:8080/"
        },
        "id": "tST_yKSxgLyv",
        "outputId": "93047fa3-30e9-41f9-add2-6de3a4bdd51f"
      },
      "execution_count": null,
      "outputs": [
        {
          "output_type": "stream",
          "name": "stdout",
          "text": [
            "Hello, World!!!\n",
            "Hello, World!!!\n"
          ]
        }
      ]
    },
    {
      "cell_type": "code",
      "source": [
        "for i in range( 1, 6 ):\n",
        "print( i )"
      ],
      "metadata": {
        "colab": {
          "base_uri": "https://localhost:8080/",
          "height": 136
        },
        "id": "5DZa47pcgaZw",
        "outputId": "01835e88-2584-4221-88a3-e86a75471e17"
      },
      "execution_count": null,
      "outputs": [
        {
          "output_type": "error",
          "ename": "IndentationError",
          "evalue": "ignored",
          "traceback": [
            "\u001b[0;36m  File \u001b[0;32m\"<ipython-input-7-13c35d70e354>\"\u001b[0;36m, line \u001b[0;32m2\u001b[0m\n\u001b[0;31m    print( i )\u001b[0m\n\u001b[0m        ^\u001b[0m\n\u001b[0;31mIndentationError\u001b[0m\u001b[0;31m:\u001b[0m expected an indented block\n"
          ]
        }
      ]
    },
    {
      "cell_type": "code",
      "source": [
        "for i in range( 1, 6 ):\n",
        "    print( i ) # for문에 대한 코드 블럭 내용\n",
        "print( 'stop script' )"
      ],
      "metadata": {
        "colab": {
          "base_uri": "https://localhost:8080/"
        },
        "id": "9lL7vbV7g9yE",
        "outputId": "c88b4936-a8c6-4e7a-9622-ad6a0b0f6779"
      },
      "execution_count": null,
      "outputs": [
        {
          "output_type": "stream",
          "name": "stdout",
          "text": [
            "1\n",
            "2\n",
            "3\n",
            "4\n",
            "5\n",
            "stop script\n"
          ]
        }
      ]
    },
    {
      "cell_type": "code",
      "source": [
        "for i in range( 1, 6 ):\n",
        "    print( i ) # for문에 대한 코드 블럭 내용\n",
        "    print( 'stop script' )"
      ],
      "metadata": {
        "colab": {
          "base_uri": "https://localhost:8080/"
        },
        "id": "DYhxAy26hQXf",
        "outputId": "39cc341a-fcc7-4440-ea67-e8f872c51d22"
      },
      "execution_count": null,
      "outputs": [
        {
          "output_type": "stream",
          "name": "stdout",
          "text": [
            "1\n",
            "stop script\n",
            "2\n",
            "stop script\n",
            "3\n",
            "stop script\n",
            "4\n",
            "stop script\n",
            "5\n",
            "stop script\n"
          ]
        }
      ]
    },
    {
      "cell_type": "markdown",
      "source": [
        "# 파이썬 기본 자료형"
      ],
      "metadata": {
        "id": "txpvr-lzpgfj"
      }
    },
    {
      "cell_type": "code",
      "source": [
        "# 기본 자료형의 값을 저장하는 변수 정의\n",
        "# 변수명 = 값\n",
        "int_number = 10\n",
        "float_number = 10.5\n",
        "complex_number = 2 + 3j\n",
        "byte_data = b'hello'\n",
        "boolean_data = True"
      ],
      "metadata": {
        "id": "rOhGQ38rhrwR"
      },
      "execution_count": null,
      "outputs": []
    },
    {
      "cell_type": "code",
      "source": [
        "# type() 함수 : 자료형 확인용 파이썬 내장 함수\n",
        "print( type( int_number ) )\n",
        "print( type( float_number ) )\n",
        "print( type( complex_number ) )\n",
        "print( type( byte_data ) )\n",
        "print( type( boolean_data ) )"
      ],
      "metadata": {
        "colab": {
          "base_uri": "https://localhost:8080/"
        },
        "id": "8ULC5XeepsaC",
        "outputId": "da29866b-d457-4c42-d85b-0eb7c2931239"
      },
      "execution_count": null,
      "outputs": [
        {
          "output_type": "stream",
          "name": "stdout",
          "text": [
            "<class 'int'>\n",
            "<class 'float'>\n",
            "<class 'complex'>\n",
            "<class 'bytes'>\n",
            "<class 'bool'>\n"
          ]
        }
      ]
    },
    {
      "cell_type": "code",
      "source": [
        "# id() 함수 : 변수/리터럴의 메모리 위치값( reference ) 확인 내장 함수\n",
        "id( int_number ) "
      ],
      "metadata": {
        "colab": {
          "base_uri": "https://localhost:8080/"
        },
        "id": "sQnfTJ52p38I",
        "outputId": "92a584ac-43cc-4467-b33e-8bddb29b0ae9"
      },
      "execution_count": null,
      "outputs": [
        {
          "output_type": "execute_result",
          "data": {
            "text/plain": [
              "93941141977888"
            ]
          },
          "metadata": {},
          "execution_count": 12
        }
      ]
    },
    {
      "cell_type": "code",
      "source": [
        "int_number = 10.5\n",
        "print( type( int_number ) )\n",
        "print( id( int_number ) )"
      ],
      "metadata": {
        "colab": {
          "base_uri": "https://localhost:8080/"
        },
        "id": "inqqkNc0uInx",
        "outputId": "7cf0c7d9-2758-4f06-8fd3-3d5a467579dd"
      },
      "execution_count": null,
      "outputs": [
        {
          "output_type": "stream",
          "name": "stdout",
          "text": [
            "<class 'float'>\n",
            "140414794144720\n"
          ]
        }
      ]
    },
    {
      "cell_type": "code",
      "source": [
        "print( id( 10 ) ) # 10 이라는 리터럴의 id값\n",
        "print( id( 10.5 ) ) # 10.5 라는 리터럴의 id값"
      ],
      "metadata": {
        "colab": {
          "base_uri": "https://localhost:8080/"
        },
        "id": "EAOppNqWvCx6",
        "outputId": "8d103ce7-447a-4f06-80b1-072654e2516c"
      },
      "execution_count": null,
      "outputs": [
        {
          "output_type": "stream",
          "name": "stdout",
          "text": [
            "93941141977888\n",
            "140414793654896\n"
          ]
        }
      ]
    },
    {
      "cell_type": "markdown",
      "source": [
        "## 변수 사용\n",
        "\n",
        "* 변수 생성\n",
        "* 변수 내용 변경"
      ],
      "metadata": {
        "id": "nlb0AUcowDO6"
      }
    },
    {
      "cell_type": "code",
      "source": [
        "# 변수 생성 : 0 저장\n",
        "# 변수를 처음 생성할 때 저장한 값을 초기값이라 한다.\n",
        "number = 0 "
      ],
      "metadata": {
        "id": "bT7myep51nEe"
      },
      "execution_count": null,
      "outputs": []
    },
    {
      "cell_type": "code",
      "source": [
        "number"
      ],
      "metadata": {
        "colab": {
          "base_uri": "https://localhost:8080/"
        },
        "id": "UiUVmSZU1pQg",
        "outputId": "76c490a6-2012-41e4-f364-b4ab1985236f"
      },
      "execution_count": null,
      "outputs": [
        {
          "output_type": "execute_result",
          "data": {
            "text/plain": [
              "0"
            ]
          },
          "metadata": {},
          "execution_count": 16
        }
      ]
    },
    {
      "cell_type": "code",
      "source": [
        "number = 20 # 변수 내용 변경( 치환 ) : 20으로 변경"
      ],
      "metadata": {
        "id": "1zIPZ-yU1qhK"
      },
      "execution_count": null,
      "outputs": []
    },
    {
      "cell_type": "code",
      "source": [
        "number"
      ],
      "metadata": {
        "colab": {
          "base_uri": "https://localhost:8080/"
        },
        "id": "7KCZw7hu1tlx",
        "outputId": "dfca397f-0726-4dda-86d8-1d97b56bf787"
      },
      "execution_count": null,
      "outputs": [
        {
          "output_type": "execute_result",
          "data": {
            "text/plain": [
              "20"
            ]
          },
          "metadata": {},
          "execution_count": 18
        }
      ]
    },
    {
      "cell_type": "code",
      "source": [
        "# L value   R value\n",
        "number2   = 15\n",
        "number3 = 30\n",
        "# number2 변수 내용과 number3 변수 내용을 더한값을\n",
        "# number 변수에 저장( 치환 ) \n",
        "number = number2 + number3 "
      ],
      "metadata": {
        "id": "Oc5Ta5Uw1uTF"
      },
      "execution_count": null,
      "outputs": []
    },
    {
      "cell_type": "code",
      "source": [
        "number"
      ],
      "metadata": {
        "colab": {
          "base_uri": "https://localhost:8080/"
        },
        "id": "iIYi0Wao1v_x",
        "outputId": "ea1ef835-8a46-4e34-eb9a-f13faee903ae"
      },
      "execution_count": null,
      "outputs": [
        {
          "output_type": "execute_result",
          "data": {
            "text/plain": [
              "45"
            ]
          },
          "metadata": {},
          "execution_count": 22
        }
      ]
    },
    {
      "cell_type": "code",
      "source": [
        "number = number + 1\n",
        "number"
      ],
      "metadata": {
        "colab": {
          "base_uri": "https://localhost:8080/"
        },
        "id": "Jy-qffHV1wn7",
        "outputId": "d4ba1159-5bf9-422e-bd27-9ab8b7d47850"
      },
      "execution_count": null,
      "outputs": [
        {
          "output_type": "execute_result",
          "data": {
            "text/plain": [
              "46"
            ]
          },
          "metadata": {},
          "execution_count": 23
        }
      ]
    },
    {
      "cell_type": "code",
      "source": [
        "number = number + 1\n",
        "number"
      ],
      "metadata": {
        "colab": {
          "base_uri": "https://localhost:8080/"
        },
        "id": "jFsdt2423upv",
        "outputId": "21af3720-2677-430c-f0b6-cb4ee2b55539"
      },
      "execution_count": null,
      "outputs": [
        {
          "output_type": "execute_result",
          "data": {
            "text/plain": [
              "47"
            ]
          },
          "metadata": {},
          "execution_count": 24
        }
      ]
    },
    {
      "cell_type": "code",
      "source": [
        "number = number + 2\n",
        "number"
      ],
      "metadata": {
        "colab": {
          "base_uri": "https://localhost:8080/"
        },
        "id": "rSTBKMhY3wqt",
        "outputId": "1665cefa-3d29-4309-d670-aa28056ba158"
      },
      "execution_count": null,
      "outputs": [
        {
          "output_type": "execute_result",
          "data": {
            "text/plain": [
              "49"
            ]
          },
          "metadata": {},
          "execution_count": 25
        }
      ]
    },
    {
      "cell_type": "markdown",
      "source": [
        "## 표준 입출력"
      ],
      "metadata": {
        "id": "mga_8HsC4uq0"
      }
    },
    {
      "cell_type": "code",
      "source": [
        "value = input() # 표준 입력 장치로 부터 입력\n",
        "print( value ) # 표준 출력 장치에 출력"
      ],
      "metadata": {
        "colab": {
          "base_uri": "https://localhost:8080/"
        },
        "id": "73ktGRTH9gUH",
        "outputId": "286f3e7d-427b-4d3c-862b-abb0a8d970e5"
      },
      "execution_count": null,
      "outputs": [
        {
          "output_type": "stream",
          "name": "stdout",
          "text": [
            "50\n",
            "50\n"
          ]
        }
      ]
    },
    {
      "cell_type": "code",
      "source": [
        "value = input( '숫자를 입력하세요 : ' )\n",
        "print( value )"
      ],
      "metadata": {
        "colab": {
          "base_uri": "https://localhost:8080/"
        },
        "id": "jtBjT_rP9nJe",
        "outputId": "bb548342-a2ac-4202-ef76-3ce4d0b54919"
      },
      "execution_count": null,
      "outputs": [
        {
          "output_type": "stream",
          "name": "stdout",
          "text": [
            "숫자를 입력하세요 : 10\n",
            "10\n"
          ]
        }
      ]
    },
    {
      "cell_type": "code",
      "source": [
        "value = input( \"숫자를 입력하세요 : \" )\n",
        "print( value )"
      ],
      "metadata": {
        "colab": {
          "base_uri": "https://localhost:8080/"
        },
        "id": "RY3VQVgL_D62",
        "outputId": "05d78958-15e6-4e1a-deb1-235286613a76"
      },
      "execution_count": null,
      "outputs": [
        {
          "output_type": "stream",
          "name": "stdout",
          "text": [
            "숫자를 입력하세요 : 100\n",
            "100\n"
          ]
        }
      ]
    },
    {
      "cell_type": "code",
      "source": [
        "number1 = input( '첫번째 숫자를 입력하세요 : ' )\n",
        "number2 = input( '두번째 숫자를 입력하세요 : ' )\n",
        "add = number1 + number2\n",
        "print( add )"
      ],
      "metadata": {
        "colab": {
          "base_uri": "https://localhost:8080/"
        },
        "id": "w1eI2-i__bAA",
        "outputId": "d7e970ab-e2ef-4b67-e0f4-b02493c202a9"
      },
      "execution_count": null,
      "outputs": [
        {
          "output_type": "stream",
          "name": "stdout",
          "text": [
            "첫번째 숫자를 입력하세요 : 10\n",
            "두번째 숫자를 입력하세요 : 20\n",
            "1020\n"
          ]
        }
      ]
    },
    {
      "cell_type": "code",
      "source": [
        "print( type( number1 ) )\n",
        "print( type( number2 ) )\n",
        "print( type( add ) )"
      ],
      "metadata": {
        "colab": {
          "base_uri": "https://localhost:8080/"
        },
        "id": "MOt9t1WE_wzQ",
        "outputId": "1afa19ab-bae6-4b99-9b99-562f8f3cf0b1"
      },
      "execution_count": null,
      "outputs": [
        {
          "output_type": "stream",
          "name": "stdout",
          "text": [
            "<class 'str'>\n",
            "<class 'str'>\n",
            "<class 'str'>\n"
          ]
        }
      ]
    },
    {
      "cell_type": "code",
      "source": [
        "number1 = int( input( '첫번째 숫자를 입력하세요 : ' ) )\n",
        "number2 = int( input( '두번째 숫자를 입력하세요 : ' ) )\n",
        "add = number1 + number2\n",
        "print( add )"
      ],
      "metadata": {
        "colab": {
          "base_uri": "https://localhost:8080/"
        },
        "id": "gjZijtEBAVeH",
        "outputId": "d6bc9e35-4a85-4cc0-9d40-5ac192682fc9"
      },
      "execution_count": null,
      "outputs": [
        {
          "output_type": "stream",
          "name": "stdout",
          "text": [
            "첫번째 숫자를 입력하세요 : 10\n",
            "두번째 숫자를 입력하세요 : 20\n",
            "30\n"
          ]
        }
      ]
    },
    {
      "cell_type": "code",
      "source": [
        "print( type( number1 ) )\n",
        "print( type( number2 ) )\n",
        "print( type( add ) )"
      ],
      "metadata": {
        "colab": {
          "base_uri": "https://localhost:8080/"
        },
        "id": "M87tRPt-BgHI",
        "outputId": "7700a078-0ee8-48b3-899f-e8cbd38aa525"
      },
      "execution_count": null,
      "outputs": [
        {
          "output_type": "stream",
          "name": "stdout",
          "text": [
            "<class 'int'>\n",
            "<class 'int'>\n",
            "<class 'int'>\n"
          ]
        }
      ]
    },
    {
      "cell_type": "code",
      "source": [
        "number1 = int( input( '첫번째 숫자를 입력하세요 : ' ) )\n",
        "number2 = int( input( '두번째 숫자를 입력하세요 : ' ) )\n",
        "add = number1 + number2\n",
        "print( add )"
      ],
      "metadata": {
        "colab": {
          "base_uri": "https://localhost:8080/",
          "height": 245
        },
        "id": "td6cS3tLBjdy",
        "outputId": "a184d5f2-84a8-4853-a3a5-2bb636f7a44e"
      },
      "execution_count": null,
      "outputs": [
        {
          "name": "stdout",
          "output_type": "stream",
          "text": [
            "첫번째 숫자를 입력하세요 : 10.5\n"
          ]
        },
        {
          "output_type": "error",
          "ename": "ValueError",
          "evalue": "ignored",
          "traceback": [
            "\u001b[0;31m---------------------------------------------------------------------------\u001b[0m",
            "\u001b[0;31mValueError\u001b[0m                                Traceback (most recent call last)",
            "\u001b[0;32m<ipython-input-34-c85e2ad83f2a>\u001b[0m in \u001b[0;36m<module>\u001b[0;34m()\u001b[0m\n\u001b[0;32m----> 1\u001b[0;31m \u001b[0mnumber1\u001b[0m \u001b[0;34m=\u001b[0m \u001b[0mint\u001b[0m\u001b[0;34m(\u001b[0m \u001b[0minput\u001b[0m\u001b[0;34m(\u001b[0m \u001b[0;34m'첫번째 숫자를 입력하세요 : '\u001b[0m \u001b[0;34m)\u001b[0m \u001b[0;34m)\u001b[0m\u001b[0;34m\u001b[0m\u001b[0;34m\u001b[0m\u001b[0m\n\u001b[0m\u001b[1;32m      2\u001b[0m \u001b[0mnumber2\u001b[0m \u001b[0;34m=\u001b[0m \u001b[0mint\u001b[0m\u001b[0;34m(\u001b[0m \u001b[0minput\u001b[0m\u001b[0;34m(\u001b[0m \u001b[0;34m'두번째 숫자를 입력하세요 : '\u001b[0m \u001b[0;34m)\u001b[0m \u001b[0;34m)\u001b[0m\u001b[0;34m\u001b[0m\u001b[0;34m\u001b[0m\u001b[0m\n\u001b[1;32m      3\u001b[0m \u001b[0madd\u001b[0m \u001b[0;34m=\u001b[0m \u001b[0mnumber1\u001b[0m \u001b[0;34m+\u001b[0m \u001b[0mnumber2\u001b[0m\u001b[0;34m\u001b[0m\u001b[0;34m\u001b[0m\u001b[0m\n\u001b[1;32m      4\u001b[0m \u001b[0mprint\u001b[0m\u001b[0;34m(\u001b[0m \u001b[0madd\u001b[0m \u001b[0;34m)\u001b[0m\u001b[0;34m\u001b[0m\u001b[0;34m\u001b[0m\u001b[0m\n",
            "\u001b[0;31mValueError\u001b[0m: invalid literal for int() with base 10: '10.5'"
          ]
        }
      ]
    },
    {
      "cell_type": "code",
      "source": [
        "number1 = int( float( input( '첫번째 숫자를 입력하세요 : ' ) ) )\n",
        "number2 = int( float( input( '두번째 숫자를 입력하세요 : ' ) ) )\n",
        "add = number1 + number2\n",
        "print( add )"
      ],
      "metadata": {
        "colab": {
          "base_uri": "https://localhost:8080/"
        },
        "id": "0NZ6bgb4CE59",
        "outputId": "05cffb17-da3f-4413-ee51-093352e4093d"
      },
      "execution_count": null,
      "outputs": [
        {
          "output_type": "stream",
          "name": "stdout",
          "text": [
            "첫번째 숫자를 입력하세요 : 10.5\n",
            "두번째 숫자를 입력하세요 : 20.9\n",
            "30\n"
          ]
        }
      ]
    },
    {
      "cell_type": "code",
      "source": [
        "number1 = int( float( input( '첫번째 숫자를 입력하세요 : ' ) ) )\n",
        "number2 = int( float( input( '두번째 숫자를 입력하세요 : ' ) ) )\n",
        "add = number1 + number2\n",
        "print( add )"
      ],
      "metadata": {
        "colab": {
          "base_uri": "https://localhost:8080/"
        },
        "id": "RyJdyu8lCl1Y",
        "outputId": "dc389b90-db96-449c-cdea-b7c0aa5fdd04"
      },
      "execution_count": null,
      "outputs": [
        {
          "output_type": "stream",
          "name": "stdout",
          "text": [
            "첫번째 숫자를 입력하세요 : 0.1e+2\n",
            "두번째 숫자를 입력하세요 : 0.2e+2\n",
            "30\n"
          ]
        }
      ]
    },
    {
      "cell_type": "code",
      "source": [
        "number1 = int( float( input( '첫번째 숫자를 입력하세요 : ' ) ) )\n",
        "number2 = int( float( input( '두번째 숫자를 입력하세요 : ' ) ) )\n",
        "add = number1 + number2\n",
        "print( add )"
      ],
      "metadata": {
        "colab": {
          "base_uri": "https://localhost:8080/",
          "height": 245
        },
        "id": "H4eBScx-DSXy",
        "outputId": "ed0649d9-f4bc-4250-a246-c80a8f9a153f"
      },
      "execution_count": null,
      "outputs": [
        {
          "name": "stdout",
          "output_type": "stream",
          "text": [
            "첫번째 숫자를 입력하세요 : 10a5\n"
          ]
        },
        {
          "output_type": "error",
          "ename": "ValueError",
          "evalue": "ignored",
          "traceback": [
            "\u001b[0;31m---------------------------------------------------------------------------\u001b[0m",
            "\u001b[0;31mValueError\u001b[0m                                Traceback (most recent call last)",
            "\u001b[0;32m<ipython-input-37-30d86e6ebf54>\u001b[0m in \u001b[0;36m<module>\u001b[0;34m()\u001b[0m\n\u001b[0;32m----> 1\u001b[0;31m \u001b[0mnumber1\u001b[0m \u001b[0;34m=\u001b[0m \u001b[0mint\u001b[0m\u001b[0;34m(\u001b[0m \u001b[0mfloat\u001b[0m\u001b[0;34m(\u001b[0m \u001b[0minput\u001b[0m\u001b[0;34m(\u001b[0m \u001b[0;34m'첫번째 숫자를 입력하세요 : '\u001b[0m \u001b[0;34m)\u001b[0m \u001b[0;34m)\u001b[0m \u001b[0;34m)\u001b[0m\u001b[0;34m\u001b[0m\u001b[0;34m\u001b[0m\u001b[0m\n\u001b[0m\u001b[1;32m      2\u001b[0m \u001b[0mnumber2\u001b[0m \u001b[0;34m=\u001b[0m \u001b[0mint\u001b[0m\u001b[0;34m(\u001b[0m \u001b[0mfloat\u001b[0m\u001b[0;34m(\u001b[0m \u001b[0minput\u001b[0m\u001b[0;34m(\u001b[0m \u001b[0;34m'두번째 숫자를 입력하세요 : '\u001b[0m \u001b[0;34m)\u001b[0m \u001b[0;34m)\u001b[0m \u001b[0;34m)\u001b[0m\u001b[0;34m\u001b[0m\u001b[0;34m\u001b[0m\u001b[0m\n\u001b[1;32m      3\u001b[0m \u001b[0madd\u001b[0m \u001b[0;34m=\u001b[0m \u001b[0mnumber1\u001b[0m \u001b[0;34m+\u001b[0m \u001b[0mnumber2\u001b[0m\u001b[0;34m\u001b[0m\u001b[0;34m\u001b[0m\u001b[0m\n\u001b[1;32m      4\u001b[0m \u001b[0mprint\u001b[0m\u001b[0;34m(\u001b[0m \u001b[0madd\u001b[0m \u001b[0;34m)\u001b[0m\u001b[0;34m\u001b[0m\u001b[0;34m\u001b[0m\u001b[0m\n",
            "\u001b[0;31mValueError\u001b[0m: could not convert string to float: '10a5'"
          ]
        }
      ]
    },
    {
      "cell_type": "markdown",
      "source": [
        "### print() 함수"
      ],
      "metadata": {
        "id": "WXf8OEm1Da_p"
      }
    },
    {
      "cell_type": "code",
      "source": [
        "print( number1 ) # number1 변수 내용 출력"
      ],
      "metadata": {
        "colab": {
          "base_uri": "https://localhost:8080/"
        },
        "id": "6Iv2yDqnDw0b",
        "outputId": "493d82db-3764-466b-8721-c82d267d1d58"
      },
      "execution_count": null,
      "outputs": [
        {
          "output_type": "stream",
          "name": "stdout",
          "text": [
            "10\n"
          ]
        }
      ]
    },
    {
      "cell_type": "code",
      "source": [
        "print( 'number1 = ', number1 ) # 문자열과 number1 변수 출력"
      ],
      "metadata": {
        "colab": {
          "base_uri": "https://localhost:8080/"
        },
        "id": "ErKirK5_DyWQ",
        "outputId": "d0111554-c3ba-4320-ce0b-56e913405fce"
      },
      "execution_count": null,
      "outputs": [
        {
          "output_type": "stream",
          "name": "stdout",
          "text": [
            "number1 =  10\n"
          ]
        }
      ]
    },
    {
      "cell_type": "code",
      "source": [
        "print( 'number1 = \\n', number1 )"
      ],
      "metadata": {
        "colab": {
          "base_uri": "https://localhost:8080/"
        },
        "id": "X1VBzjqtD1TF",
        "outputId": "2fdfc330-048f-4a9b-b1a6-9baaacaec3de"
      },
      "execution_count": null,
      "outputs": [
        {
          "output_type": "stream",
          "name": "stdout",
          "text": [
            "number1 = \n",
            " 10\n"
          ]
        }
      ]
    },
    {
      "cell_type": "code",
      "source": [
        "print( 'number1 = \\t', number1 )"
      ],
      "metadata": {
        "colab": {
          "base_uri": "https://localhost:8080/"
        },
        "id": "Z-gRMW1ZD4M0",
        "outputId": "7f8417f0-692e-4386-f1e3-700702774daf"
      },
      "execution_count": null,
      "outputs": [
        {
          "output_type": "stream",
          "name": "stdout",
          "text": [
            "number1 = \t 10\n"
          ]
        }
      ]
    },
    {
      "cell_type": "code",
      "source": [
        "print( 'number1 = ', number1, '\\n', 'number2 = ', number2 )"
      ],
      "metadata": {
        "colab": {
          "base_uri": "https://localhost:8080/"
        },
        "id": "Pd0z8LF2Ez_N",
        "outputId": "56ee9503-0850-4c15-869a-d7a255e0ff97"
      },
      "execution_count": null,
      "outputs": [
        {
          "output_type": "stream",
          "name": "stdout",
          "text": [
            "number1 =  10 \n",
            " number2 =  20\n"
          ]
        }
      ]
    },
    {
      "cell_type": "code",
      "source": [
        "print( 'number1 = ', number1 )\n",
        "print( 'number2 = ', number2 )"
      ],
      "metadata": {
        "colab": {
          "base_uri": "https://localhost:8080/"
        },
        "id": "R2UymWAqE_KI",
        "outputId": "6e51c926-e941-4af0-b31f-48243434a4f9"
      },
      "execution_count": null,
      "outputs": [
        {
          "output_type": "stream",
          "name": "stdout",
          "text": [
            "number1 =  10\n",
            "number2 =  20\n"
          ]
        }
      ]
    },
    {
      "cell_type": "code",
      "source": [
        "print( 'number1 = ', number1, end = '\\t' )\n",
        "print( 'number2 = ', number2 )"
      ],
      "metadata": {
        "colab": {
          "base_uri": "https://localhost:8080/"
        },
        "id": "cCknx4XRFOPS",
        "outputId": "245c96af-c2f9-4353-f2ef-0d2f9878e855"
      },
      "execution_count": null,
      "outputs": [
        {
          "output_type": "stream",
          "name": "stdout",
          "text": [
            "number1 =  10\tnumber2 =  20\n"
          ]
        }
      ]
    },
    {
      "cell_type": "code",
      "source": [
        "print( 'number1 = ', number1, end = '|' )\n",
        "print( 'number2 = ', number2 )"
      ],
      "metadata": {
        "colab": {
          "base_uri": "https://localhost:8080/"
        },
        "id": "ugIO4ZSwFh-E",
        "outputId": "14731957-425b-4148-e3eb-553098430c33"
      },
      "execution_count": null,
      "outputs": [
        {
          "output_type": "stream",
          "name": "stdout",
          "text": [
            "number1 =  10|number2 =  20\n"
          ]
        }
      ]
    },
    {
      "cell_type": "code",
      "source": [
        "print( 'number1 = ', number1, end = ' ' )\n",
        "print( 'number2 = ', number2 )"
      ],
      "metadata": {
        "colab": {
          "base_uri": "https://localhost:8080/"
        },
        "id": "AUTjShpIF5DG",
        "outputId": "b31e419e-7a93-4dd7-afce-ea1a6486d8c5"
      },
      "execution_count": null,
      "outputs": [
        {
          "output_type": "stream",
          "name": "stdout",
          "text": [
            "number1 =  10 number2 =  20\n"
          ]
        }
      ]
    },
    {
      "cell_type": "code",
      "source": [
        "print( 'number1 = ', number1, end = '\\n' )\n",
        "print( 'number2 = ', number2 )"
      ],
      "metadata": {
        "colab": {
          "base_uri": "https://localhost:8080/"
        },
        "id": "D-SbVy4UF6zq",
        "outputId": "fcc8b430-3fa8-48ef-cac3-90fd58a2a912"
      },
      "execution_count": null,
      "outputs": [
        {
          "output_type": "stream",
          "name": "stdout",
          "text": [
            "number1 =  10\n",
            "number2 =  20\n"
          ]
        }
      ]
    },
    {
      "cell_type": "markdown",
      "source": [
        "### 연산자\n",
        "\n",
        "#### 산술 연산"
      ],
      "metadata": {
        "id": "ZTvuKYNPGBos"
      }
    },
    {
      "cell_type": "code",
      "source": [
        "number1 = 10\n",
        "number2 = 20\n",
        "fnumber1 = 10.5\n",
        "fnumber2 = 20.9"
      ],
      "metadata": {
        "id": "XkqIBARoIyih"
      },
      "execution_count": null,
      "outputs": []
    },
    {
      "cell_type": "code",
      "source": [
        "# 정수에 대한 산술 연산\n",
        "print( number1, ' + ', number2, ' = ', number1 + number2 )\n",
        "print( number1, ' - ', number2, ' = ', number1 - number2 )\n",
        "print( number1, ' * ', number2, ' = ', number1 * number2 )\n",
        "print( number1, ' / ', number2, ' = ', number1 / number2 )\n",
        "\n",
        "# 정수 나눗셈\n",
        "print( number1, ' // ', number2, ' = ', number1 // number2 ) \n",
        "# 나머지 연산\n",
        "print( number1, ' % ', number2, ' = ', number1 % number2 )"
      ],
      "metadata": {
        "colab": {
          "base_uri": "https://localhost:8080/"
        },
        "id": "cWYgt2qXI7nM",
        "outputId": "fe1bd5e5-a4f2-40f6-9de5-0cb9f5e443eb"
      },
      "execution_count": null,
      "outputs": [
        {
          "output_type": "stream",
          "name": "stdout",
          "text": [
            "10  +  20  =  30\n",
            "10  -  20  =  -10\n",
            "10  *  20  =  200\n",
            "10  /  20  =  0.5\n",
            "10  //  20  =  0\n",
            "10  %  20  =  10\n"
          ]
        }
      ]
    },
    {
      "cell_type": "code",
      "source": [
        "print( fnumber1, ' + ', fnumber2, ' = ', fnumber1 + fnumber2 )\n",
        "print( fnumber1, ' - ', fnumber2, ' = ', fnumber1 - fnumber2 )\n",
        "print( fnumber1, ' * ', fnumber2, ' = ', fnumber1 * fnumber2 )\n",
        "print( fnumber1, ' / ', fnumber2, ' = ', fnumber1 / fnumber2 )"
      ],
      "metadata": {
        "colab": {
          "base_uri": "https://localhost:8080/"
        },
        "id": "wovU4hBTJIZE",
        "outputId": "924e902b-339b-4942-9362-9b961f178b8a"
      },
      "execution_count": null,
      "outputs": [
        {
          "output_type": "stream",
          "name": "stdout",
          "text": [
            "10.5  +  20.9  =  31.4\n",
            "10.5  -  20.9  =  -10.399999999999999\n",
            "10.5  *  20.9  =  219.45\n",
            "10.5  /  20.9  =  0.5023923444976077\n"
          ]
        }
      ]
    },
    {
      "cell_type": "code",
      "source": [
        "print( number1, ' * ', fnumber1, ' = ', number1 * fnumber2 )"
      ],
      "metadata": {
        "colab": {
          "base_uri": "https://localhost:8080/"
        },
        "id": "Qt_1UGtsJQqP",
        "outputId": "67141566-6f84-4d11-cdef-5b61aa82da3a"
      },
      "execution_count": null,
      "outputs": [
        {
          "output_type": "stream",
          "name": "stdout",
          "text": [
            "10  *  10.5  =  209.0\n"
          ]
        }
      ]
    },
    {
      "cell_type": "code",
      "source": [
        "# 제곱 연산\n",
        "print( number1, ' ** ', 1000, ' = ', number1 ** 1000 )"
      ],
      "metadata": {
        "colab": {
          "base_uri": "https://localhost:8080/"
        },
        "id": "zc0v-B0zK8dn",
        "outputId": "67d8c5b1-ab09-4cf9-fa46-8678bd292daf"
      },
      "execution_count": null,
      "outputs": [
        {
          "output_type": "stream",
          "name": "stdout",
          "text": [
            "10  **  1000  =  10000000000000000000000000000000000000000000000000000000000000000000000000000000000000000000000000000000000000000000000000000000000000000000000000000000000000000000000000000000000000000000000000000000000000000000000000000000000000000000000000000000000000000000000000000000000000000000000000000000000000000000000000000000000000000000000000000000000000000000000000000000000000000000000000000000000000000000000000000000000000000000000000000000000000000000000000000000000000000000000000000000000000000000000000000000000000000000000000000000000000000000000000000000000000000000000000000000000000000000000000000000000000000000000000000000000000000000000000000000000000000000000000000000000000000000000000000000000000000000000000000000000000000000000000000000000000000000000000000000000000000000000000000000000000000000000000000000000000000000000000000000000000000000000000000000000000000000000000000000000000000000000000000000000000000000000000000000000000000000000000000000000000000000000000000000000000000\n"
          ]
        }
      ]
    },
    {
      "cell_type": "code",
      "source": [
        "print( 'number1 = ', number1 )\n",
        "number1 = number1 + 1\n",
        "print( 'number1 = ', number1 )\n",
        "# 누적 단축 연산자\n",
        "number1 += 1\n",
        "print( 'number1 = ', number1 )"
      ],
      "metadata": {
        "colab": {
          "base_uri": "https://localhost:8080/"
        },
        "id": "JEe-YiPHLiUu",
        "outputId": "9daf8c86-36bd-4670-9095-544f1d2c7f54"
      },
      "execution_count": null,
      "outputs": [
        {
          "output_type": "stream",
          "name": "stdout",
          "text": [
            "number1 =  10\n",
            "number1 =  11\n",
            "number1 =  12\n"
          ]
        }
      ]
    },
    {
      "cell_type": "markdown",
      "source": [
        "#### 관계연산"
      ],
      "metadata": {
        "id": "_Cg8ipT0MDLn"
      }
    },
    {
      "cell_type": "code",
      "source": [
        "number1 > number2"
      ],
      "metadata": {
        "colab": {
          "base_uri": "https://localhost:8080/"
        },
        "id": "89pzE9__M2LI",
        "outputId": "aec0fc0b-c27a-4222-9baa-2118d92e058d"
      },
      "execution_count": null,
      "outputs": [
        {
          "output_type": "execute_result",
          "data": {
            "text/plain": [
              "False"
            ]
          },
          "metadata": {},
          "execution_count": 57
        }
      ]
    },
    {
      "cell_type": "code",
      "source": [
        "number1 < number2"
      ],
      "metadata": {
        "colab": {
          "base_uri": "https://localhost:8080/"
        },
        "id": "IvOY8k7DM4E6",
        "outputId": "0cd833fd-f1e9-4d47-f2ad-5277e6e1e995"
      },
      "execution_count": null,
      "outputs": [
        {
          "output_type": "execute_result",
          "data": {
            "text/plain": [
              "True"
            ]
          },
          "metadata": {},
          "execution_count": 58
        }
      ]
    },
    {
      "cell_type": "code",
      "source": [
        "number1 != number2"
      ],
      "metadata": {
        "colab": {
          "base_uri": "https://localhost:8080/"
        },
        "id": "kOfSorI6M6KA",
        "outputId": "4d2feafc-835c-4c3e-e34c-a851200a4260"
      },
      "execution_count": null,
      "outputs": [
        {
          "output_type": "execute_result",
          "data": {
            "text/plain": [
              "True"
            ]
          },
          "metadata": {},
          "execution_count": 59
        }
      ]
    },
    {
      "cell_type": "code",
      "source": [
        "number1 == number2"
      ],
      "metadata": {
        "colab": {
          "base_uri": "https://localhost:8080/"
        },
        "id": "dB7o-fqdM-zY",
        "outputId": "115e7e97-4855-435d-f9da-4020feb9a4de"
      },
      "execution_count": null,
      "outputs": [
        {
          "output_type": "execute_result",
          "data": {
            "text/plain": [
              "False"
            ]
          },
          "metadata": {},
          "execution_count": 60
        }
      ]
    },
    {
      "cell_type": "code",
      "source": [
        "True > False"
      ],
      "metadata": {
        "colab": {
          "base_uri": "https://localhost:8080/"
        },
        "id": "0zm4bjB8NAfl",
        "outputId": "12a621c9-c29e-4a0d-baa0-cf261d0aed87"
      },
      "execution_count": null,
      "outputs": [
        {
          "output_type": "execute_result",
          "data": {
            "text/plain": [
              "True"
            ]
          },
          "metadata": {},
          "execution_count": 61
        }
      ]
    },
    {
      "cell_type": "code",
      "source": [
        "True < False"
      ],
      "metadata": {
        "colab": {
          "base_uri": "https://localhost:8080/"
        },
        "id": "u6ij2F3aNKX9",
        "outputId": "4abb946e-cd6e-468d-b85d-583e9935f8dd"
      },
      "execution_count": null,
      "outputs": [
        {
          "output_type": "execute_result",
          "data": {
            "text/plain": [
              "False"
            ]
          },
          "metadata": {},
          "execution_count": 62
        }
      ]
    },
    {
      "cell_type": "code",
      "source": [
        "print( 'True + False = ', True + False )"
      ],
      "metadata": {
        "colab": {
          "base_uri": "https://localhost:8080/"
        },
        "id": "nPX6arqdNMCT",
        "outputId": "d79656c7-5626-4b95-c0a1-47456d0e3df8"
      },
      "execution_count": null,
      "outputs": [
        {
          "output_type": "stream",
          "name": "stdout",
          "text": [
            "True + False =  1\n"
          ]
        }
      ]
    },
    {
      "cell_type": "code",
      "source": [
        "True + True + True"
      ],
      "metadata": {
        "colab": {
          "base_uri": "https://localhost:8080/"
        },
        "id": "a11PM1NZNnIb",
        "outputId": "fe240a07-5e30-4531-8d52-91c5ac7cd3e4"
      },
      "execution_count": null,
      "outputs": [
        {
          "output_type": "execute_result",
          "data": {
            "text/plain": [
              "3"
            ]
          },
          "metadata": {},
          "execution_count": 64
        }
      ]
    },
    {
      "cell_type": "markdown",
      "source": [
        "#### 논리 연산"
      ],
      "metadata": {
        "id": "Ey4fkETnNvTW"
      }
    },
    {
      "cell_type": "code",
      "source": [
        "number1 > 5 and number1 < 20 "
      ],
      "metadata": {
        "colab": {
          "base_uri": "https://localhost:8080/"
        },
        "id": "yecC-vpTOEkK",
        "outputId": "75f44971-12d5-4013-b437-fbee9d8d6ff2"
      },
      "execution_count": null,
      "outputs": [
        {
          "output_type": "execute_result",
          "data": {
            "text/plain": [
              "True"
            ]
          },
          "metadata": {},
          "execution_count": 66
        }
      ]
    },
    {
      "cell_type": "code",
      "source": [
        "5 < number1 < 20"
      ],
      "metadata": {
        "colab": {
          "base_uri": "https://localhost:8080/"
        },
        "id": "rLAGYCv2OL8x",
        "outputId": "121b8fe6-2753-4234-c9f9-bfa161a17ef4"
      },
      "execution_count": null,
      "outputs": [
        {
          "output_type": "execute_result",
          "data": {
            "text/plain": [
              "True"
            ]
          },
          "metadata": {},
          "execution_count": 67
        }
      ]
    },
    {
      "cell_type": "code",
      "source": [
        "number1 > 10"
      ],
      "metadata": {
        "colab": {
          "base_uri": "https://localhost:8080/"
        },
        "id": "ipNmSGzSOT6F",
        "outputId": "75fd5811-ea0b-4a65-bd45-820a12898fc5"
      },
      "execution_count": null,
      "outputs": [
        {
          "output_type": "execute_result",
          "data": {
            "text/plain": [
              "True"
            ]
          },
          "metadata": {},
          "execution_count": 69
        }
      ]
    },
    {
      "cell_type": "code",
      "source": [
        "not number1 > 10"
      ],
      "metadata": {
        "colab": {
          "base_uri": "https://localhost:8080/"
        },
        "id": "pNBqI2YXOwtS",
        "outputId": "47930bec-9269-4d79-9f3a-348239354691"
      },
      "execution_count": null,
      "outputs": [
        {
          "output_type": "execute_result",
          "data": {
            "text/plain": [
              "False"
            ]
          },
          "metadata": {},
          "execution_count": 70
        }
      ]
    },
    {
      "cell_type": "markdown",
      "source": [
        "## 실습) 2개의 정수를 입력받아 사칙연산 결과를 출력하는 파이썬 스크립트"
      ],
      "metadata": {
        "id": "mS6zNohPO3t3"
      }
    },
    {
      "cell_type": "code",
      "source": [
        "number1 = int( float( input( '첫번째 정수 입력 : ' ) ) )\n",
        "number2 = int( float( input( '두번째 정수 입력 : ' ) ) )\n",
        "\n",
        "add = number1 + number2\n",
        "subtract = number1 - number2\n",
        "multiple = number1 * number2\n",
        "divide = number1 / number2\n",
        "\n",
        "print( number1, ' + ', number2, ' = ', add )\n",
        "print( number1, ' - ', number2, ' = ', subtract )\n",
        "print( number1, ' * ', number2, ' = ', multiple )\n",
        "print( number1, ' / ', number2, ' = ', divide )"
      ],
      "metadata": {
        "colab": {
          "base_uri": "https://localhost:8080/"
        },
        "id": "je3eqSuzPXRb",
        "outputId": "701e1daa-2b06-429f-8a1d-a6e8bd93c0bd"
      },
      "execution_count": null,
      "outputs": [
        {
          "output_type": "stream",
          "name": "stdout",
          "text": [
            "첫번째 정수 입력 : 29\n",
            "두번째 정수 입력 : 3\n",
            "29  +  3  =  32\n",
            "29  -  3  =  26\n",
            "29  *  3  =  87\n",
            "29  /  3  =  9.666666666666666\n"
          ]
        }
      ]
    },
    {
      "cell_type": "code",
      "source": [
        ""
      ],
      "metadata": {
        "id": "E60SZGpeP_-5"
      },
      "execution_count": null,
      "outputs": []
    }
  ]
}