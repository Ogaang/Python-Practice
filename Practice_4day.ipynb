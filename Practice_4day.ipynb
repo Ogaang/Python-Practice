{
  "nbformat": 4,
  "nbformat_minor": 0,
  "metadata": {
    "colab": {
      "name": "Teach_4day.ipynb",
      "provenance": [],
      "collapsed_sections": [],
      "include_colab_link": true
    },
    "kernelspec": {
      "name": "python3",
      "display_name": "Python 3"
    },
    "language_info": {
      "name": "python"
    }
  },
  "cells": [
    {
      "cell_type": "markdown",
      "metadata": {
        "id": "view-in-github",
        "colab_type": "text"
      },
      "source": [
        "<a href=\"https://colab.research.google.com/github/Ogaang/Python-Practice/blob/master/Practice_4day.ipynb\" target=\"_parent\"><img src=\"https://colab.research.google.com/assets/colab-badge.svg\" alt=\"Open In Colab\"/></a>"
      ]
    },
    {
      "cell_type": "markdown",
      "source": [
        "# list\n",
        "\n",
        "## 산술 내장 함수\n",
        "\n",
        "* 5개의 데이터에 대한 최대값/최소값/합계 계산 파이썬 스크립트"
      ],
      "metadata": {
        "id": "Gv99bTL_zDLw"
      }
    },
    {
      "cell_type": "code",
      "source": [
        "l = [ 32.515, 62.718, 82.638, 71.376, -53.995 ]\n",
        "\n",
        "print( f'l = {l} ( {len( l )} )' )"
      ],
      "metadata": {
        "colab": {
          "base_uri": "https://localhost:8080/"
        },
        "id": "49TIDDl-Dv3F",
        "outputId": "07f03325-18e4-4495-e75b-62d6bf26e4bb"
      },
      "execution_count": null,
      "outputs": [
        {
          "output_type": "stream",
          "name": "stdout",
          "text": [
            "l = [32.515, 62.718, 82.638, 71.376, -53.995] ( 5 )\n"
          ]
        }
      ]
    },
    {
      "cell_type": "markdown",
      "source": [
        "* 알고리즘을 직접 적용하여 최대값/최소값/합계 계산"
      ],
      "metadata": {
        "id": "oRwm5kQNEEcC"
      }
    },
    {
      "cell_type": "code",
      "source": [
        "max_number = l[ 0 ]\n",
        "min_number = l[ 0 ]\n",
        "total = 0\n",
        "\n",
        "for value in l:\n",
        "    if value > max_number:\n",
        "        max_number = value\n",
        "\n",
        "    if value < min_number:\n",
        "        min_number = value\n",
        "\n",
        "    total += value\n",
        "\n",
        "print( f'max : {max_number:7.3f}' )\n",
        "print( f'min : {min_number:7.3f}' )\n",
        "print( f'sum : {total:7.3f}' )"
      ],
      "metadata": {
        "colab": {
          "base_uri": "https://localhost:8080/"
        },
        "id": "d6GPbwHmETy8",
        "outputId": "61092c33-1e4f-48f4-d8a0-f8f30f28632b"
      },
      "execution_count": null,
      "outputs": [
        {
          "output_type": "stream",
          "name": "stdout",
          "text": [
            "max :  82.638\n",
            "min : -53.995\n",
            "sum : 195.252\n"
          ]
        }
      ]
    },
    {
      "cell_type": "markdown",
      "source": [
        "* 내장함수를 이용한 최대값/최소값/합계 계산"
      ],
      "metadata": {
        "id": "CydZYKWVFnXo"
      }
    },
    {
      "cell_type": "code",
      "source": [
        "print( f'max : {max( l ):7.3f}' ) # 최대값\n",
        "print( f'min : {min( l ):7.3f}' ) # 최소값\n",
        "print( f'sum : {sum( l ):7.3f}' ) # 합계"
      ],
      "metadata": {
        "colab": {
          "base_uri": "https://localhost:8080/"
        },
        "id": "ykuAAqsHGL7G",
        "outputId": "7a4fda4a-150b-4545-e1f9-0514d269f705"
      },
      "execution_count": null,
      "outputs": [
        {
          "output_type": "stream",
          "name": "stdout",
          "text": [
            "max :  82.638\n",
            "min : -53.995\n",
            "sum : 195.252\n"
          ]
        }
      ]
    },
    {
      "cell_type": "code",
      "source": [
        "print( f'average : {sum( l ) / len( l ):7.3f}' )"
      ],
      "metadata": {
        "colab": {
          "base_uri": "https://localhost:8080/"
        },
        "id": "LJMqkf1AGSlL",
        "outputId": "6d403ffd-980e-4317-eb8f-8c7c552aa974"
      },
      "execution_count": null,
      "outputs": [
        {
          "output_type": "stream",
          "name": "stdout",
          "text": [
            "average :  39.050\n"
          ]
        }
      ]
    },
    {
      "cell_type": "code",
      "source": [
        "print( f'{l[ len( l ) - 1 ]}의 절대값 :  \\\n",
        "{abs( l[ len( l ) - 1 ] )}' )"
      ],
      "metadata": {
        "colab": {
          "base_uri": "https://localhost:8080/"
        },
        "id": "yVgxxUzQHq0J",
        "outputId": "dccde033-cbaa-4dc6-ec75-f253511bea43"
      },
      "execution_count": null,
      "outputs": [
        {
          "output_type": "stream",
          "name": "stdout",
          "text": [
            "-53.995의 절대값 :  53.995\n"
          ]
        }
      ]
    },
    {
      "cell_type": "code",
      "source": [
        "for value in l:\n",
        "    print( f'{value}\\t{value:7.2f}\\t{value:7.4f}' )"
      ],
      "metadata": {
        "colab": {
          "base_uri": "https://localhost:8080/"
        },
        "id": "FLup1qkIIWbR",
        "outputId": "137b8291-7bd4-4b32-be75-f3aacd4f0229"
      },
      "execution_count": null,
      "outputs": [
        {
          "output_type": "stream",
          "name": "stdout",
          "text": [
            "32.515\t  32.52\t32.5150\n",
            "62.718\t  62.72\t62.7180\n",
            "82.638\t  82.64\t82.6380\n",
            "71.376\t  71.38\t71.3760\n",
            "-53.995\t -53.99\t-53.9950\n"
          ]
        }
      ]
    },
    {
      "cell_type": "code",
      "source": [
        "print( f'round() : {round( l[ 0 ], 2 )}' )"
      ],
      "metadata": {
        "colab": {
          "base_uri": "https://localhost:8080/"
        },
        "id": "ZZlYOOIOIlfX",
        "outputId": "b8b99578-eb86-4b46-b075-700fa1d37f04"
      },
      "execution_count": null,
      "outputs": [
        {
          "output_type": "stream",
          "name": "stdout",
          "text": [
            "round() : 32.52\n"
          ]
        }
      ]
    },
    {
      "cell_type": "markdown",
      "source": [
        "## list 복사"
      ],
      "metadata": {
        "id": "eFmzkjoUJI6l"
      }
    },
    {
      "cell_type": "code",
      "source": [
        "print( f'l = {l} ( {len( l )} ) [ {id( l )} ]' )"
      ],
      "metadata": {
        "colab": {
          "base_uri": "https://localhost:8080/"
        },
        "id": "52BUVv5KKOhr",
        "outputId": "28d32fff-5b1a-4c60-a8b6-8514a04fc7e7"
      },
      "execution_count": null,
      "outputs": [
        {
          "output_type": "stream",
          "name": "stdout",
          "text": [
            "l = [32.515, 62.718, 82.638, 71.376, -53.995] ( 5 ) [ 139911745105024 ]\n"
          ]
        }
      ]
    },
    {
      "cell_type": "code",
      "source": [
        "# list 내용을 복사하는 것이 아니고\n",
        "# list의 reference를 복사한다.\n",
        "l_copy = l \n",
        "\n",
        "print( f'l_copy = {l_copy} ( {len( l_copy )} ) [ {id( l_copy )} ]' )"
      ],
      "metadata": {
        "colab": {
          "base_uri": "https://localhost:8080/"
        },
        "id": "1ybCHzfIKSYk",
        "outputId": "019ec71a-afd1-4351-b991-5fb2bb82ebbf"
      },
      "execution_count": null,
      "outputs": [
        {
          "output_type": "stream",
          "name": "stdout",
          "text": [
            "l_copy = [32.515, 62.718, 82.638, 71.376, -53.995] ( 5 ) [ 139911745105024 ]\n"
          ]
        }
      ]
    },
    {
      "cell_type": "code",
      "source": [
        "l_copy[ 1 ] = 3.141592"
      ],
      "metadata": {
        "id": "TscM5WNmKo9N"
      },
      "execution_count": null,
      "outputs": []
    },
    {
      "cell_type": "code",
      "source": [
        "print( f'l = {l} ( {len( l )} ) [ {id( l )} ]' )\n",
        "print( f'l_copy = {l_copy} ( {len( l_copy )} ) [ {id( l_copy )} ]' )"
      ],
      "metadata": {
        "colab": {
          "base_uri": "https://localhost:8080/"
        },
        "id": "Gcj_cykyLS3A",
        "outputId": "7a1d8d90-f3b4-4e55-a4e2-3718f838e10d"
      },
      "execution_count": null,
      "outputs": [
        {
          "output_type": "stream",
          "name": "stdout",
          "text": [
            "l = [32.515, 3.141592, 82.638, 71.376, -53.995] ( 5 ) [ 139911745105024 ]\n",
            "l_copy = [32.515, 3.141592, 82.638, 71.376, -53.995] ( 5 ) [ 139911745105024 ]\n"
          ]
        }
      ]
    },
    {
      "cell_type": "markdown",
      "source": [
        "* copy 모듈의 copy() 함수를 이용한 list 복사"
      ],
      "metadata": {
        "id": "hAcUh9beLWob"
      }
    },
    {
      "cell_type": "code",
      "source": [
        "import copy # 모듈 로드\n",
        "\n",
        "# 새로운 list 생성후 원본 list 내용을 복사\n",
        "l_copy2 = copy.copy( l ) "
      ],
      "metadata": {
        "id": "qSvqUC81Msy2"
      },
      "execution_count": null,
      "outputs": []
    },
    {
      "cell_type": "code",
      "source": [
        "print( f'l = {l} ( {len( l )} ) [ {id( l )} ]' )\n",
        "print( f'l_copy2 = {l_copy2} ( {len( l_copy2 )} ) [ {id( l_copy2 )} ]' )"
      ],
      "metadata": {
        "colab": {
          "base_uri": "https://localhost:8080/"
        },
        "id": "T5QQxXHiM0SI",
        "outputId": "01913c79-4137-4f1c-d2bc-8858aeb71d76"
      },
      "execution_count": null,
      "outputs": [
        {
          "output_type": "stream",
          "name": "stdout",
          "text": [
            "l = [32.515, 3.141592, 82.638, 71.376, -53.995] ( 5 ) [ 139911745105024 ]\n",
            "l_copy2 = [32.515, 3.141592, 82.638, 71.376, -53.995] ( 5 ) [ 139911614817216 ]\n"
          ]
        }
      ]
    },
    {
      "cell_type": "code",
      "source": [
        "l_copy2[ 1 ] = 350"
      ],
      "metadata": {
        "id": "SxoLgPfaM7dU"
      },
      "execution_count": null,
      "outputs": []
    },
    {
      "cell_type": "code",
      "source": [
        "print( f'l = {l} ( {len( l )} ) [ {id( l )} ]' )\n",
        "print( f'l_copy2 = {l_copy2} ( {len( l_copy2 )} ) [ {id( l_copy2 )} ]' )"
      ],
      "metadata": {
        "colab": {
          "base_uri": "https://localhost:8080/"
        },
        "id": "7UzPOp0NNBNJ",
        "outputId": "c0f057b2-7a1c-4303-efd4-6cb7fe1feb3d"
      },
      "execution_count": null,
      "outputs": [
        {
          "output_type": "stream",
          "name": "stdout",
          "text": [
            "l = [32.515, 3.141592, 82.638, 71.376, -53.995] ( 5 ) [ 139911745105024 ]\n",
            "l_copy2 = [32.515, 350, 82.638, 71.376, -53.995] ( 5 ) [ 139911614817216 ]\n"
          ]
        }
      ]
    },
    {
      "cell_type": "markdown",
      "source": [
        "## list comprehension"
      ],
      "metadata": {
        "id": "WBBAMeuHNESC"
      }
    },
    {
      "cell_type": "code",
      "source": [
        "# 1 ~ 100사이의 짝수를 저장하는 list 생성\n",
        "l = []\n",
        "\n",
        "for i in range( 2, 101, 2 ):\n",
        "    l.append( i )\n",
        "\n",
        "print( f'l = {l} ( {len( l )} ) [ {id( l )} ]' )"
      ],
      "metadata": {
        "colab": {
          "base_uri": "https://localhost:8080/"
        },
        "id": "JgUDcFbzRViN",
        "outputId": "c6d52b0b-5f51-41b5-c81f-6f38cef8c0d1"
      },
      "execution_count": null,
      "outputs": [
        {
          "output_type": "stream",
          "name": "stdout",
          "text": [
            "l = [2, 4, 6, 8, 10, 12, 14, 16, 18, 20, 22, 24, 26, 28, 30, 32, 34, 36, 38, 40, 42, 44, 46, 48, 50, 52, 54, 56, 58, 60, 62, 64, 66, 68, 70, 72, 74, 76, 78, 80, 82, 84, 86, 88, 90, 92, 94, 96, 98, 100] ( 50 ) [ 139911614108768 ]\n"
          ]
        }
      ]
    },
    {
      "cell_type": "code",
      "source": [
        "# 1 ~ 100사이의 짝수를 저장하는 list 생성\n",
        "# list comprehension 이용\n",
        "l = [ value for value in range( 2, 101, 2 ) ]\n",
        "\n",
        "print( f'l = {l} ( {len( l )} ) [ {id( l )} ]' )"
      ],
      "metadata": {
        "colab": {
          "base_uri": "https://localhost:8080/"
        },
        "id": "D_aV8yBdRfrY",
        "outputId": "37e24b25-8234-4d2f-81af-0c1976556e47"
      },
      "execution_count": null,
      "outputs": [
        {
          "output_type": "stream",
          "name": "stdout",
          "text": [
            "l = [2, 4, 6, 8, 10, 12, 14, 16, 18, 20, 22, 24, 26, 28, 30, 32, 34, 36, 38, 40, 42, 44, 46, 48, 50, 52, 54, 56, 58, 60, 62, 64, 66, 68, 70, 72, 74, 76, 78, 80, 82, 84, 86, 88, 90, 92, 94, 96, 98, 100] ( 50 ) [ 139911613646800 ]\n"
          ]
        }
      ]
    },
    {
      "cell_type": "code",
      "source": [
        "# 1 ~ 100사이의 짝수를 저장하는 list 생성\n",
        "l = []\n",
        "\n",
        "for i in range( 1, 101 ):\n",
        "    if i % 2 == 0:\n",
        "        l.append( i )\n",
        "\n",
        "print( f'l = {l} ( {len( l )} ) [ {id( l )} ]' )"
      ],
      "metadata": {
        "colab": {
          "base_uri": "https://localhost:8080/"
        },
        "id": "mbdnCGYESfQy",
        "outputId": "cec0811f-7045-458b-8e07-920fe8ddd1b5"
      },
      "execution_count": null,
      "outputs": [
        {
          "output_type": "stream",
          "name": "stdout",
          "text": [
            "l = [2, 4, 6, 8, 10, 12, 14, 16, 18, 20, 22, 24, 26, 28, 30, 32, 34, 36, 38, 40, 42, 44, 46, 48, 50, 52, 54, 56, 58, 60, 62, 64, 66, 68, 70, 72, 74, 76, 78, 80, 82, 84, 86, 88, 90, 92, 94, 96, 98, 100] ( 50 ) [ 139911613792496 ]\n"
          ]
        }
      ]
    },
    {
      "cell_type": "code",
      "source": [
        "# 1 ~ 100사이의 짝수를 저장하는 list 생성\n",
        "# list comprehension 이용\n",
        "l = [ value for value in range( 1, 101 ) if value % 2 == 0 ]\n",
        "\n",
        "print( f'l = {l} ( {len( l )} ) [ {id( l )} ]' )"
      ],
      "metadata": {
        "colab": {
          "base_uri": "https://localhost:8080/"
        },
        "id": "e_zAA_nATocc",
        "outputId": "fee39fd4-3d70-45cb-81e3-b8dd3a223045"
      },
      "execution_count": null,
      "outputs": [
        {
          "output_type": "stream",
          "name": "stdout",
          "text": [
            "l = [2, 4, 6, 8, 10, 12, 14, 16, 18, 20, 22, 24, 26, 28, 30, 32, 34, 36, 38, 40, 42, 44, 46, 48, 50, 52, 54, 56, 58, 60, 62, 64, 66, 68, 70, 72, 74, 76, 78, 80, 82, 84, 86, 88, 90, 92, 94, 96, 98, 100] ( 50 ) [ 139911613545440 ]\n"
          ]
        }
      ]
    },
    {
      "cell_type": "markdown",
      "source": [
        "# dict\n",
        "\n",
        "* list를 이용한 검색 프로그램"
      ],
      "metadata": {
        "id": "w5JheAsFUBIR"
      }
    },
    {
      "cell_type": "code",
      "source": [
        "data = [ 5, 10, 1, 2, 4, 7, 6, 8, 9, 3 ]\n",
        "\n",
        "search_key = int( float( input( '검색어 입력 ( 종료 : -1 ): ' ) ) )\n",
        "while search_key != -1:\n",
        "    count = data.count( search_key )\n",
        "    if count == 0:\n",
        "        search_ok = False\n",
        "    else:\n",
        "        position = data.index( search_key )\n",
        "        search_ok = True\n",
        "\n",
        "    if search_ok:\n",
        "        print( f'{search_key}값은 {position}번째에 존재' )\n",
        "    else:\n",
        "        print( f'Error : {search_key}값은 없음!!!' )\n",
        "    search_key = int( float( input( '검색어 입력 ( 종료 : -1 ): ' ) ) )"
      ],
      "metadata": {
        "colab": {
          "base_uri": "https://localhost:8080/"
        },
        "id": "1QfbeUNlVpd8",
        "outputId": "c87c97a1-f281-4e38-f46a-e5c01742a4c5"
      },
      "execution_count": null,
      "outputs": [
        {
          "name": "stdout",
          "output_type": "stream",
          "text": [
            "검색어 입력 ( 종료 : -1 ): 5\n",
            "5값은 0번째에 존재\n",
            "검색어 입력 ( 종료 : -1 ): 10\n",
            "10값은 1번째에 존재\n",
            "검색어 입력 ( 종료 : -1 ): 11\n",
            "Error : 11값은 없음!!!\n",
            "검색어 입력 ( 종료 : -1 ): -1\n"
          ]
        }
      ]
    },
    {
      "cell_type": "markdown",
      "source": [
        "## dict 생성"
      ],
      "metadata": {
        "id": "lRrX65NKW34Q"
      }
    },
    {
      "cell_type": "code",
      "source": [
        "# 빈 dict 생성\n",
        "d = {}\n",
        "\n",
        "print( f'd = {d} ( {type( d )} - {len( d )} )' )"
      ],
      "metadata": {
        "colab": {
          "base_uri": "https://localhost:8080/"
        },
        "id": "TQvOxABfegnM",
        "outputId": "33c33e0a-b289-4c4e-b29d-6e19a3674624"
      },
      "execution_count": null,
      "outputs": [
        {
          "output_type": "stream",
          "name": "stdout",
          "text": [
            "d = {} ( <class 'dict'> - 0 )\n"
          ]
        }
      ]
    },
    {
      "cell_type": "code",
      "source": [
        "d = dict()\n",
        "\n",
        "print( f'd = {d} ( {type( d )} - {len( d )} )' )"
      ],
      "metadata": {
        "colab": {
          "base_uri": "https://localhost:8080/"
        },
        "id": "6u1QeQFGeqve",
        "outputId": "71ea3457-a029-41ab-8a6f-13786b7e2c65"
      },
      "execution_count": null,
      "outputs": [
        {
          "output_type": "stream",
          "name": "stdout",
          "text": [
            "d = {} ( <class 'dict'> - 0 )\n"
          ]
        }
      ]
    },
    {
      "cell_type": "code",
      "source": [
        "# 초기값을 부여한 dict 생성\n",
        "d = { 'name': 'hong', 'tel': '010-1234-5678', \n",
        "      'email': 'hong@korea.com' }\n",
        "\n",
        "print( f'd = {d} ( {type( d )} - {len( d )} )' )"
      ],
      "metadata": {
        "colab": {
          "base_uri": "https://localhost:8080/"
        },
        "id": "f39dZSHCe2gf",
        "outputId": "77d195b4-71a8-4e2c-c27a-0543728e3e80"
      },
      "execution_count": null,
      "outputs": [
        {
          "output_type": "stream",
          "name": "stdout",
          "text": [
            "d = {'name': 'hong', 'tel': '010-1234-5678', 'email': 'hong@korea.com'} ( <class 'dict'> - 3 )\n"
          ]
        }
      ]
    },
    {
      "cell_type": "code",
      "source": [
        "d = { 'hong': [ 50, 50, 50, 150, 50.0 ],\n",
        "      'kim': [ 90, 90, 90, 270, 90.0 ],\n",
        "      'lee': [ 70, 70, 70, 210, 70.0 ] }\n",
        "\n",
        "print( f'd = {d} ( {type( d )} - {len( d )} )' )"
      ],
      "metadata": {
        "colab": {
          "base_uri": "https://localhost:8080/"
        },
        "id": "ZOP-ZZvYfQBs",
        "outputId": "6996dc20-e572-41de-9b48-b67a664f3d54"
      },
      "execution_count": null,
      "outputs": [
        {
          "output_type": "stream",
          "name": "stdout",
          "text": [
            "d = {'hong': [50, 50, 50, 150, 50.0], 'kim': [90, 90, 90, 270, 90.0], 'lee': [70, 70, 70, 210, 70.0]} ( <class 'dict'> - 3 )\n"
          ]
        }
      ]
    },
    {
      "cell_type": "code",
      "source": [
        "d = dict( name = 'hong', tel = '010-1234-5678',\n",
        "          email = 'hong@korea.com' )\n",
        "\n",
        "print( f'd = {d} ( {type( d )} - {len( d )} )' )"
      ],
      "metadata": {
        "colab": {
          "base_uri": "https://localhost:8080/"
        },
        "id": "FYgSndscfxh5",
        "outputId": "bbf88faf-447a-45d5-a796-c5c5423fdb52"
      },
      "execution_count": null,
      "outputs": [
        {
          "output_type": "stream",
          "name": "stdout",
          "text": [
            "d = {'name': 'hong', 'tel': '010-1234-5678', 'email': 'hong@korea.com'} ( <class 'dict'> - 3 )\n"
          ]
        }
      ]
    },
    {
      "cell_type": "code",
      "source": [
        "l = [ [ 'name', 'hong' ], \n",
        "      [ 'tel', '010-1234-5678' ], \n",
        "      [ 'email', 'hong@korea.com' ] ]\n",
        "d = dict( l )\n",
        "\n",
        "print( f'd = {d} ( {type( d )} - {len( d )} )' )"
      ],
      "metadata": {
        "colab": {
          "base_uri": "https://localhost:8080/"
        },
        "id": "kfe-8OlLgZX1",
        "outputId": "82343581-6f7d-4a88-a916-0e1b0a3fe004"
      },
      "execution_count": null,
      "outputs": [
        {
          "output_type": "stream",
          "name": "stdout",
          "text": [
            "d = {'name': 'hong', 'tel': '010-1234-5678', 'email': 'hong@korea.com'} ( <class 'dict'> - 3 )\n"
          ]
        }
      ]
    },
    {
      "cell_type": "markdown",
      "source": [
        "## sequence 자료형 공통 연산"
      ],
      "metadata": {
        "id": "K8GzM1fQg26D"
      }
    },
    {
      "cell_type": "code",
      "source": [
        "# indexing\n",
        "d[ 0 ]"
      ],
      "metadata": {
        "colab": {
          "base_uri": "https://localhost:8080/",
          "height": 190
        },
        "id": "VC7rPhFXh17F",
        "outputId": "c4d700ab-4274-4cad-d264-d48550abb22f"
      },
      "execution_count": null,
      "outputs": [
        {
          "output_type": "error",
          "ename": "KeyError",
          "evalue": "ignored",
          "traceback": [
            "\u001b[0;31m---------------------------------------------------------------------------\u001b[0m",
            "\u001b[0;31mKeyError\u001b[0m                                  Traceback (most recent call last)",
            "\u001b[0;32m<ipython-input-34-1ffae94849f4>\u001b[0m in \u001b[0;36m<module>\u001b[0;34m()\u001b[0m\n\u001b[1;32m      1\u001b[0m \u001b[0;31m# indexing\u001b[0m\u001b[0;34m\u001b[0m\u001b[0;34m\u001b[0m\u001b[0;34m\u001b[0m\u001b[0m\n\u001b[0;32m----> 2\u001b[0;31m \u001b[0md\u001b[0m\u001b[0;34m[\u001b[0m \u001b[0;36m0\u001b[0m \u001b[0;34m]\u001b[0m\u001b[0;34m\u001b[0m\u001b[0;34m\u001b[0m\u001b[0m\n\u001b[0m",
            "\u001b[0;31mKeyError\u001b[0m: 0"
          ]
        }
      ]
    },
    {
      "cell_type": "code",
      "source": [
        "# slicing\n",
        "d[ :2 ]"
      ],
      "metadata": {
        "colab": {
          "base_uri": "https://localhost:8080/",
          "height": 172
        },
        "id": "ZJ-TPkKOh5d8",
        "outputId": "5eef6ef7-ad0f-4bf3-b4f5-4761fd800465"
      },
      "execution_count": null,
      "outputs": [
        {
          "output_type": "error",
          "ename": "TypeError",
          "evalue": "ignored",
          "traceback": [
            "\u001b[0;31m---------------------------------------------------------------------------\u001b[0m",
            "\u001b[0;31mTypeError\u001b[0m                                 Traceback (most recent call last)",
            "\u001b[0;32m<ipython-input-35-fdd20a1bbd83>\u001b[0m in \u001b[0;36m<module>\u001b[0;34m()\u001b[0m\n\u001b[0;32m----> 1\u001b[0;31m \u001b[0md\u001b[0m\u001b[0;34m[\u001b[0m \u001b[0;34m:\u001b[0m\u001b[0;36m2\u001b[0m \u001b[0;34m]\u001b[0m\u001b[0;34m\u001b[0m\u001b[0;34m\u001b[0m\u001b[0m\n\u001b[0m",
            "\u001b[0;31mTypeError\u001b[0m: unhashable type: 'slice'"
          ]
        }
      ]
    },
    {
      "cell_type": "code",
      "source": [
        "# 연결\n",
        "d + d"
      ],
      "metadata": {
        "colab": {
          "base_uri": "https://localhost:8080/",
          "height": 190
        },
        "id": "tgZrPRBGi79k",
        "outputId": "0041f80d-0acb-474d-a82b-ef171953a502"
      },
      "execution_count": null,
      "outputs": [
        {
          "output_type": "error",
          "ename": "TypeError",
          "evalue": "ignored",
          "traceback": [
            "\u001b[0;31m---------------------------------------------------------------------------\u001b[0m",
            "\u001b[0;31mTypeError\u001b[0m                                 Traceback (most recent call last)",
            "\u001b[0;32m<ipython-input-36-75de35b66718>\u001b[0m in \u001b[0;36m<module>\u001b[0;34m()\u001b[0m\n\u001b[1;32m      1\u001b[0m \u001b[0;31m# 연결\u001b[0m\u001b[0;34m\u001b[0m\u001b[0;34m\u001b[0m\u001b[0;34m\u001b[0m\u001b[0m\n\u001b[0;32m----> 2\u001b[0;31m \u001b[0md\u001b[0m \u001b[0;34m+\u001b[0m \u001b[0md\u001b[0m\u001b[0;34m\u001b[0m\u001b[0;34m\u001b[0m\u001b[0m\n\u001b[0m",
            "\u001b[0;31mTypeError\u001b[0m: unsupported operand type(s) for +: 'dict' and 'dict'"
          ]
        }
      ]
    },
    {
      "cell_type": "code",
      "source": [
        "# 반복\n",
        "d * 5"
      ],
      "metadata": {
        "colab": {
          "base_uri": "https://localhost:8080/",
          "height": 190
        },
        "id": "SS_6a4oxjJuj",
        "outputId": "b57a54a3-ff40-4e15-f207-f167b8e3393c"
      },
      "execution_count": null,
      "outputs": [
        {
          "output_type": "error",
          "ename": "TypeError",
          "evalue": "ignored",
          "traceback": [
            "\u001b[0;31m---------------------------------------------------------------------------\u001b[0m",
            "\u001b[0;31mTypeError\u001b[0m                                 Traceback (most recent call last)",
            "\u001b[0;32m<ipython-input-37-3ee8703b11b6>\u001b[0m in \u001b[0;36m<module>\u001b[0;34m()\u001b[0m\n\u001b[1;32m      1\u001b[0m \u001b[0;31m# 반복\u001b[0m\u001b[0;34m\u001b[0m\u001b[0;34m\u001b[0m\u001b[0;34m\u001b[0m\u001b[0m\n\u001b[0;32m----> 2\u001b[0;31m \u001b[0md\u001b[0m \u001b[0;34m*\u001b[0m \u001b[0;36m5\u001b[0m\u001b[0;34m\u001b[0m\u001b[0;34m\u001b[0m\u001b[0m\n\u001b[0m",
            "\u001b[0;31mTypeError\u001b[0m: unsupported operand type(s) for *: 'dict' and 'int'"
          ]
        }
      ]
    },
    {
      "cell_type": "code",
      "source": [
        "# 포함 유무 확인 - key를 대상으로 확인\n",
        "'name' in d"
      ],
      "metadata": {
        "colab": {
          "base_uri": "https://localhost:8080/"
        },
        "id": "1UGkkUxtjNhT",
        "outputId": "119d6c5f-9527-4b90-92d2-5fc274d8d814"
      },
      "execution_count": null,
      "outputs": [
        {
          "output_type": "execute_result",
          "data": {
            "text/plain": [
              "True"
            ]
          },
          "metadata": {},
          "execution_count": 38
        }
      ]
    },
    {
      "cell_type": "code",
      "source": [
        "'hong' in d"
      ],
      "metadata": {
        "colab": {
          "base_uri": "https://localhost:8080/"
        },
        "id": "CBw1qFcjjpEN",
        "outputId": "0a9129a4-268d-4225-d409-679555f5e103"
      },
      "execution_count": null,
      "outputs": [
        {
          "output_type": "execute_result",
          "data": {
            "text/plain": [
              "False"
            ]
          },
          "metadata": {},
          "execution_count": 39
        }
      ]
    },
    {
      "cell_type": "code",
      "source": [
        "# 길이 계산\n",
        "len( d )"
      ],
      "metadata": {
        "colab": {
          "base_uri": "https://localhost:8080/"
        },
        "id": "nn4huwvRjqvl",
        "outputId": "646183d0-cfe7-4c23-fd91-0052173d8fd4"
      },
      "execution_count": null,
      "outputs": [
        {
          "output_type": "execute_result",
          "data": {
            "text/plain": [
              "3"
            ]
          },
          "metadata": {},
          "execution_count": 40
        }
      ]
    },
    {
      "cell_type": "markdown",
      "source": [
        "## dict 값 읽기 및 쓰기"
      ],
      "metadata": {
        "id": "ShOipbwSkFws"
      }
    },
    {
      "cell_type": "code",
      "source": [
        "print( f'd의 name key 내용 : {d[ \"name\" ]}' )"
      ],
      "metadata": {
        "colab": {
          "base_uri": "https://localhost:8080/"
        },
        "id": "gN_C4Jalk38X",
        "outputId": "27cd695c-af2b-4aa0-d746-3270e054739c"
      },
      "execution_count": null,
      "outputs": [
        {
          "output_type": "stream",
          "name": "stdout",
          "text": [
            "d의 name key 내용 : hong\n"
          ]
        }
      ]
    },
    {
      "cell_type": "code",
      "source": [
        "d[ 'name' ] = 'kim'\n",
        "d[ 'tel' ] = '010-9876-5432'\n",
        "d[ 'email' ] = 'kim@korea.com'\n",
        "\n",
        "print( f'd = {d} ( {type( d )} - {len( d )} )' )"
      ],
      "metadata": {
        "colab": {
          "base_uri": "https://localhost:8080/"
        },
        "id": "J8fdkp82lByL",
        "outputId": "28924c03-aad7-4b26-98e0-f5b1c49bace5"
      },
      "execution_count": null,
      "outputs": [
        {
          "output_type": "stream",
          "name": "stdout",
          "text": [
            "d = {'name': 'kim', 'tel': '010-9876-5432', 'email': 'kim@korea.com'} ( <class 'dict'> - 3 )\n"
          ]
        }
      ]
    },
    {
      "cell_type": "markdown",
      "source": [
        "## dict에 값 추가"
      ],
      "metadata": {
        "id": "MQ7iV4wnlNlm"
      }
    },
    {
      "cell_type": "code",
      "source": [
        "# age key는 존재하지 않기 때문에 새로운 값으로 dict에 추가\n",
        "d[ 'age' ] = 25\n",
        "\n",
        "print( f'd = {d} ( {type( d )} - {len( d )} )' )"
      ],
      "metadata": {
        "colab": {
          "base_uri": "https://localhost:8080/"
        },
        "id": "npMak_P2mSNd",
        "outputId": "bc5120d2-2f2e-42da-d8c1-27965ef11bda"
      },
      "execution_count": null,
      "outputs": [
        {
          "output_type": "stream",
          "name": "stdout",
          "text": [
            "d = {'name': 'kim', 'tel': '010-9876-5432', 'email': 'kim@korea.com', 'age': 25} ( <class 'dict'> - 4 )\n"
          ]
        }
      ]
    },
    {
      "cell_type": "code",
      "source": [
        "d[ 'age' ] = 35 # 값 쓰기\n",
        "\n",
        "print( f'd = {d} ( {type( d )} - {len( d )} )' )"
      ],
      "metadata": {
        "colab": {
          "base_uri": "https://localhost:8080/"
        },
        "id": "2c2g71L9mW7d",
        "outputId": "24db3548-8dc6-4a4d-efae-fe10db0c62f3"
      },
      "execution_count": null,
      "outputs": [
        {
          "output_type": "stream",
          "name": "stdout",
          "text": [
            "d = {'name': 'kim', 'tel': '010-9876-5432', 'email': 'kim@korea.com', 'age': 35} ( <class 'dict'> - 4 )\n"
          ]
        }
      ]
    },
    {
      "cell_type": "markdown",
      "source": [
        "## dict 메서드"
      ],
      "metadata": {
        "id": "pEynseQwm6c-"
      }
    },
    {
      "cell_type": "code",
      "source": [
        "d[ 'name' ] # dict의 요소 읽기"
      ],
      "metadata": {
        "colab": {
          "base_uri": "https://localhost:8080/",
          "height": 35
        },
        "id": "N2HNeC0mnuxS",
        "outputId": "b80460be-3580-48e2-ea2d-57e17ae66208"
      },
      "execution_count": null,
      "outputs": [
        {
          "output_type": "execute_result",
          "data": {
            "application/vnd.google.colaboratory.intrinsic+json": {
              "type": "string"
            },
            "text/plain": [
              "'kim'"
            ]
          },
          "metadata": {},
          "execution_count": 45
        }
      ]
    },
    {
      "cell_type": "code",
      "source": [
        "# 존재하지 않는 key로 읽기 하면 error\n",
        "d[ 'address' ] "
      ],
      "metadata": {
        "colab": {
          "base_uri": "https://localhost:8080/",
          "height": 172
        },
        "id": "_NoWKJZInxBe",
        "outputId": "fbac6333-48a9-4ae3-d920-4c8774b3e02c"
      },
      "execution_count": null,
      "outputs": [
        {
          "output_type": "error",
          "ename": "KeyError",
          "evalue": "ignored",
          "traceback": [
            "\u001b[0;31m---------------------------------------------------------------------------\u001b[0m",
            "\u001b[0;31mKeyError\u001b[0m                                  Traceback (most recent call last)",
            "\u001b[0;32m<ipython-input-46-0cb455446e9c>\u001b[0m in \u001b[0;36m<module>\u001b[0;34m()\u001b[0m\n\u001b[0;32m----> 1\u001b[0;31m \u001b[0md\u001b[0m\u001b[0;34m[\u001b[0m \u001b[0;34m'address'\u001b[0m \u001b[0;34m]\u001b[0m\u001b[0;34m\u001b[0m\u001b[0;34m\u001b[0m\u001b[0m\n\u001b[0m",
            "\u001b[0;31mKeyError\u001b[0m: 'address'"
          ]
        }
      ]
    },
    {
      "cell_type": "code",
      "source": [
        "# dict.get( key [ , 검색 실패시 반환값 ] )\n",
        "result = d.get( 'address', False )\n",
        "if result:\n",
        "    print( f'addres : {result}' )\n",
        "else:\n",
        "    print( f'addres key는 존재하지 않음' )"
      ],
      "metadata": {
        "colab": {
          "base_uri": "https://localhost:8080/"
        },
        "id": "CKFHCa2dn4B4",
        "outputId": "6cb62d60-8487-4139-a7b5-96cb88bda846"
      },
      "execution_count": null,
      "outputs": [
        {
          "output_type": "stream",
          "name": "stdout",
          "text": [
            "addres key는 존재하지 않음\n"
          ]
        }
      ]
    },
    {
      "cell_type": "code",
      "source": [
        "result = d.get( 'age', False )\n",
        "if result:\n",
        "    print( f'age : {result}' )\n",
        "else:\n",
        "    print( f'age key는 존재하지 않음' )"
      ],
      "metadata": {
        "colab": {
          "base_uri": "https://localhost:8080/"
        },
        "id": "RMg0U4gzoUbg",
        "outputId": "cdfa610b-4ee0-4f42-cd30-a06319e57ec1"
      },
      "execution_count": null,
      "outputs": [
        {
          "output_type": "stream",
          "name": "stdout",
          "text": [
            "age : 35\n"
          ]
        }
      ]
    },
    {
      "cell_type": "code",
      "source": [
        "d.get( 'age' )"
      ],
      "metadata": {
        "colab": {
          "base_uri": "https://localhost:8080/"
        },
        "id": "8XJeIFy7oaGk",
        "outputId": "c0ec8031-63f8-4b25-b851-6ba3b9352cb7"
      },
      "execution_count": null,
      "outputs": [
        {
          "output_type": "execute_result",
          "data": {
            "text/plain": [
              "35"
            ]
          },
          "metadata": {},
          "execution_count": 49
        }
      ]
    },
    {
      "cell_type": "code",
      "source": [
        "d.get( 'address' )"
      ],
      "metadata": {
        "id": "m15e253Uom03"
      },
      "execution_count": null,
      "outputs": []
    },
    {
      "cell_type": "code",
      "source": [
        "# update() 메서드 : dict 요소 갱신\n",
        "d1 = { 'sun': 0, 'mon': 1, 'tue': 2 }\n",
        "d2 = { 'wed': 3, 'thu': 4, 'fri': 5 }"
      ],
      "metadata": {
        "id": "NfGME0P4oq7z"
      },
      "execution_count": null,
      "outputs": []
    },
    {
      "cell_type": "code",
      "source": [
        "print( f'd1 = {d1} ( {type( d1 )} - {len( d1 )} )' )\n",
        "print( f'd2 = {d2} ( {type( d2 )} - {len( d2 )} )' )"
      ],
      "metadata": {
        "colab": {
          "base_uri": "https://localhost:8080/"
        },
        "id": "tZSNhLcX9iX2",
        "outputId": "2d7f5370-f8c4-4a12-a234-655fba813ed1"
      },
      "execution_count": null,
      "outputs": [
        {
          "output_type": "stream",
          "name": "stdout",
          "text": [
            "d1 = {'sun': 0, 'mon': 1, 'tue': 2} ( <class 'dict'> - 3 )\n",
            "d2 = {'wed': 3, 'thu': 4, 'fri': 5} ( <class 'dict'> - 3 )\n"
          ]
        }
      ]
    },
    {
      "cell_type": "code",
      "source": [
        "d1.update( d2 )\n",
        "print( f'd1 = {d1} ( {type( d1 )} - {len( d1 )} )' )"
      ],
      "metadata": {
        "colab": {
          "base_uri": "https://localhost:8080/"
        },
        "id": "k_OYlIZI9qgo",
        "outputId": "26ccdd96-0cc2-4df9-d5fe-23abf5c4fa43"
      },
      "execution_count": null,
      "outputs": [
        {
          "output_type": "stream",
          "name": "stdout",
          "text": [
            "d1 = {'sun': 0, 'mon': 1, 'tue': 2, 'wed': 3, 'thu': 4, 'fri': 5} ( <class 'dict'> - 6 )\n"
          ]
        }
      ]
    },
    {
      "cell_type": "code",
      "source": [
        "# update() 메서드 대신에 ** 기호를 사용한 dict 생성\n",
        "d3 = { **d1, **d2 }\n",
        "print( f'd3 = {d3} ( {type( d3 )} - {len( d3 )} )' )"
      ],
      "metadata": {
        "colab": {
          "base_uri": "https://localhost:8080/"
        },
        "id": "cMxXRZ_Y99RV",
        "outputId": "554c0c73-8311-4299-8cb1-c0d7dda15f7d"
      },
      "execution_count": null,
      "outputs": [
        {
          "output_type": "stream",
          "name": "stdout",
          "text": [
            "d3 = {'sun': 0, 'mon': 1, 'tue': 2, 'wed': 3, 'thu': 4, 'fri': 5} ( <class 'dict'> - 6 )\n"
          ]
        }
      ]
    },
    {
      "cell_type": "code",
      "source": [
        "d4 = { **d1, **d2, **d3 }\n",
        "print( f'd4 = {d4} ( {type( d4 )} - {len( d4 )} )' )"
      ],
      "metadata": {
        "colab": {
          "base_uri": "https://localhost:8080/"
        },
        "id": "bFkOlEyU-hIj",
        "outputId": "4bee4e6f-cf50-4c69-c03a-70ba27104270"
      },
      "execution_count": null,
      "outputs": [
        {
          "output_type": "stream",
          "name": "stdout",
          "text": [
            "d4 = {'sun': 0, 'mon': 1, 'tue': 2, 'wed': 3, 'thu': 4, 'fri': 5} ( <class 'dict'> - 6 )\n"
          ]
        }
      ]
    },
    {
      "cell_type": "markdown",
      "source": [
        "### 삭제"
      ],
      "metadata": {
        "id": "-ibWz6oU-4Sm"
      }
    },
    {
      "cell_type": "code",
      "source": [
        "# del 명령\n",
        "del d4[ 'sun' ]"
      ],
      "metadata": {
        "id": "YyEuPkfm_ebr"
      },
      "execution_count": null,
      "outputs": []
    },
    {
      "cell_type": "code",
      "source": [
        "print( f'd4 = {d4} ( {type( d4 )} - {len( d4 )} )' )"
      ],
      "metadata": {
        "colab": {
          "base_uri": "https://localhost:8080/"
        },
        "id": "Efdke5U-_m_r",
        "outputId": "7e224fe7-9e75-4a35-9e0f-27b0a3aa27c2"
      },
      "execution_count": null,
      "outputs": [
        {
          "output_type": "stream",
          "name": "stdout",
          "text": [
            "d4 = {'mon': 1, 'tue': 2, 'wed': 3, 'thu': 4, 'fri': 5} ( <class 'dict'> - 5 )\n"
          ]
        }
      ]
    },
    {
      "cell_type": "code",
      "source": [
        "# pop 메서드\n",
        "result = d4.pop( 'thu' )\n",
        "print( f'd4 = {d4} ( {type( d4 )} - {len( d4 )} )' )\n",
        "print( f'result : {result}' )"
      ],
      "metadata": {
        "colab": {
          "base_uri": "https://localhost:8080/"
        },
        "id": "6aqP80FO_n1b",
        "outputId": "af88792b-d84c-4239-8cff-d4b9700d0e51"
      },
      "execution_count": null,
      "outputs": [
        {
          "output_type": "stream",
          "name": "stdout",
          "text": [
            "d4 = {'mon': 1, 'tue': 2, 'wed': 3, 'fri': 5} ( <class 'dict'> - 4 )\n",
            "result : 4\n"
          ]
        }
      ]
    },
    {
      "cell_type": "code",
      "source": [
        "result = d4.popitem()\n",
        "print( f'd4 = {d4} ( {type( d4 )} - {len( d4 )} )' )\n",
        "print( f'result : {result}' )"
      ],
      "metadata": {
        "colab": {
          "base_uri": "https://localhost:8080/"
        },
        "id": "ReBKV04i_6Ml",
        "outputId": "303a371c-b1b6-498d-97d1-c6888a60c796"
      },
      "execution_count": null,
      "outputs": [
        {
          "output_type": "stream",
          "name": "stdout",
          "text": [
            "d4 = {'mon': 1, 'tue': 2, 'wed': 3} ( <class 'dict'> - 3 )\n",
            "result : ('fri', 5)\n"
          ]
        }
      ]
    },
    {
      "cell_type": "code",
      "source": [
        "result = d4.popitem()\n",
        "print( f'd4 = {d4} ( {type( d4 )} - {len( d4 )} )' )\n",
        "print( f'result : {result}' )"
      ],
      "metadata": {
        "colab": {
          "base_uri": "https://localhost:8080/"
        },
        "id": "l-NW67MqBGb0",
        "outputId": "5585f122-74f3-4511-b2ee-7a4c1b0374f5"
      },
      "execution_count": null,
      "outputs": [
        {
          "output_type": "stream",
          "name": "stdout",
          "text": [
            "d4 = {'mon': 1, 'tue': 2} ( <class 'dict'> - 2 )\n",
            "result : ('wed', 3)\n"
          ]
        }
      ]
    },
    {
      "cell_type": "code",
      "source": [
        "# clear()\n",
        "d4.clear()\n",
        "print( f'd4 = {d4} ( {type( d4 )} - {len( d4 )} )' )"
      ],
      "metadata": {
        "colab": {
          "base_uri": "https://localhost:8080/"
        },
        "id": "Z75_Omq-BOLx",
        "outputId": "4a2d103b-799b-44e9-b883-e00ffb6c39f2"
      },
      "execution_count": null,
      "outputs": [
        {
          "output_type": "stream",
          "name": "stdout",
          "text": [
            "d4 = {} ( <class 'dict'> - 0 )\n"
          ]
        }
      ]
    },
    {
      "cell_type": "markdown",
      "source": [
        "### 순회"
      ],
      "metadata": {
        "id": "ytYzn-j-B30F"
      }
    },
    {
      "cell_type": "code",
      "source": [
        "d = { 'name': 'hong', 'tel': '010-1234-5678', \n",
        "      'email': 'hong@korea.com' }\n",
        "\n",
        "print( f'd = {d} ( {type( d )} - {len( d )} )' )"
      ],
      "metadata": {
        "colab": {
          "base_uri": "https://localhost:8080/"
        },
        "id": "fNnTuonLCjHe",
        "outputId": "efbb195c-cd4f-4573-fbeb-8cf3c149281f"
      },
      "execution_count": null,
      "outputs": [
        {
          "output_type": "stream",
          "name": "stdout",
          "text": [
            "d = {'name': 'hong', 'tel': '010-1234-5678', 'email': 'hong@korea.com'} ( <class 'dict'> - 3 )\n"
          ]
        }
      ]
    },
    {
      "cell_type": "code",
      "source": [
        "# dict의 key에 대한 순회\n",
        "for key in d: # dict 순회시 기본 반환값 key\n",
        "    print( f'key : {key}' )"
      ],
      "metadata": {
        "colab": {
          "base_uri": "https://localhost:8080/"
        },
        "id": "XxdMWeXWCwXp",
        "outputId": "6c4ef5b6-551d-41d8-bcbb-d313790c951c"
      },
      "execution_count": null,
      "outputs": [
        {
          "output_type": "stream",
          "name": "stdout",
          "text": [
            "key : name\n",
            "key : tel\n",
            "key : email\n"
          ]
        }
      ]
    },
    {
      "cell_type": "code",
      "source": [
        "for key in d.keys():\n",
        "    print( f'key : {key}' )"
      ],
      "metadata": {
        "colab": {
          "base_uri": "https://localhost:8080/"
        },
        "id": "-FhWpffCDSI5",
        "outputId": "8d54a360-95ca-4590-dee9-8190fedd32a0"
      },
      "execution_count": null,
      "outputs": [
        {
          "output_type": "stream",
          "name": "stdout",
          "text": [
            "key : name\n",
            "key : tel\n",
            "key : email\n"
          ]
        }
      ]
    },
    {
      "cell_type": "code",
      "source": [
        "# dict의 value에 대한 순회\n",
        "for value in d.values():\n",
        "    print( f'value : {value}' )"
      ],
      "metadata": {
        "colab": {
          "base_uri": "https://localhost:8080/"
        },
        "id": "fVoiuyCPDV7t",
        "outputId": "84b012f6-56e8-4962-9d17-dbf944e1d70c"
      },
      "execution_count": null,
      "outputs": [
        {
          "output_type": "stream",
          "name": "stdout",
          "text": [
            "value : hong\n",
            "value : 010-1234-5678\n",
            "value : hong@korea.com\n"
          ]
        }
      ]
    },
    {
      "cell_type": "code",
      "source": [
        "# dict의 ( key, value )에 대한 순회\n",
        "for key, value in d.items():\n",
        "    print( f'{key} : [ {value} ]' )"
      ],
      "metadata": {
        "colab": {
          "base_uri": "https://localhost:8080/"
        },
        "id": "xSKTw47REBl2",
        "outputId": "302db031-1a07-408b-ed17-ca06f0065154"
      },
      "execution_count": null,
      "outputs": [
        {
          "output_type": "stream",
          "name": "stdout",
          "text": [
            "name : [ hong ]\n",
            "tel : [ 010-1234-5678 ]\n",
            "email : [ hong@korea.com ]\n"
          ]
        }
      ]
    },
    {
      "cell_type": "code",
      "source": [
        "d = { 'hong': [ 50, 50, 50, 150, 50.0 ],\n",
        "      'kim': [ 90, 90, 90, 270, 90.0 ],\n",
        "      'lee': [ 70, 70, 70, 210, 70.0 ] }\n",
        "\n",
        "for key, value in d.items():\n",
        "    print( f'{key:<5}', end = '' )\n",
        "    for v in value:\n",
        "        print( f'{v} ', end = '' )\n",
        "    print()"
      ],
      "metadata": {
        "colab": {
          "base_uri": "https://localhost:8080/"
        },
        "id": "whHleanhEizK",
        "outputId": "342ca38d-3530-48ff-efe2-a17a44a869d8"
      },
      "execution_count": null,
      "outputs": [
        {
          "output_type": "stream",
          "name": "stdout",
          "text": [
            "hong 50 50 50 150 50.0 \n",
            "kim  90 90 90 270 90.0 \n",
            "lee  70 70 70 210 70.0 \n"
          ]
        }
      ]
    },
    {
      "cell_type": "markdown",
      "source": [
        "### 복사"
      ],
      "metadata": {
        "id": "CCEXKXSQFgwx"
      }
    },
    {
      "cell_type": "code",
      "source": [
        "d_copy = d\n",
        "\n",
        "print( f'd      : {d} ( {len( d )} ) [ {id( d )} ]' )\n",
        "print( f'd_copy : {d_copy} ( {len( d_copy )} ) [ {id( d_copy )} ]' )"
      ],
      "metadata": {
        "colab": {
          "base_uri": "https://localhost:8080/"
        },
        "id": "TYnHzBpwKHzF",
        "outputId": "b3a129e2-9cbb-4667-d002-067717c1394b"
      },
      "execution_count": null,
      "outputs": [
        {
          "output_type": "stream",
          "name": "stdout",
          "text": [
            "d      : {'hong': [50, 50, 50, 150, 50.0], 'kim': [90, 90, 90, 270, 90.0], 'lee': [70, 70, 70, 210, 70.0]} ( 3 ) [ 139911612967824 ]\n",
            "d_copy : {'hong': [50, 50, 50, 150, 50.0], 'kim': [90, 90, 90, 270, 90.0], 'lee': [70, 70, 70, 210, 70.0]} ( 3 ) [ 139911612967824 ]\n"
          ]
        }
      ]
    },
    {
      "cell_type": "code",
      "source": [
        "d_copy[ 'name' ] = 'HONG'"
      ],
      "metadata": {
        "id": "ZYCSe7EqKXgK"
      },
      "execution_count": null,
      "outputs": []
    },
    {
      "cell_type": "code",
      "source": [
        "print( f'd      : {d} ( {len( d )} ) [ {id( d )} ]' )\n",
        "print( f'd_copy : {d_copy} ( {len( d_copy )} ) [ {id( d_copy )} ]' )"
      ],
      "metadata": {
        "colab": {
          "base_uri": "https://localhost:8080/"
        },
        "id": "4pkXUdYtKyJ-",
        "outputId": "e22d08bd-858d-40ad-a45c-0f822b50c456"
      },
      "execution_count": null,
      "outputs": [
        {
          "output_type": "stream",
          "name": "stdout",
          "text": [
            "d      : {'hong': [50, 50, 50, 150, 50.0], 'kim': [90, 90, 90, 270, 90.0], 'lee': [70, 70, 70, 210, 70.0], 'name': 'HONG'} ( 4 ) [ 139911612967824 ]\n",
            "d_copy : {'hong': [50, 50, 50, 150, 50.0], 'kim': [90, 90, 90, 270, 90.0], 'lee': [70, 70, 70, 210, 70.0], 'name': 'HONG'} ( 4 ) [ 139911612967824 ]\n"
          ]
        }
      ]
    },
    {
      "cell_type": "code",
      "source": [
        "import copy\n",
        "\n",
        "d_copy = copy.copy( d )\n",
        "\n",
        "print( f'd      : {d} ( {len( d )} ) [ {id( d )} ]' )\n",
        "print( f'd_copy : {d_copy} ( {len( d_copy )} ) [ {id( d_copy )} ]' )"
      ],
      "metadata": {
        "colab": {
          "base_uri": "https://localhost:8080/"
        },
        "id": "YY-QZ-cTKy9a",
        "outputId": "c210ec8e-643c-4b09-f5fa-1d091f1a7762"
      },
      "execution_count": null,
      "outputs": [
        {
          "output_type": "stream",
          "name": "stdout",
          "text": [
            "d      : {'hong': [50, 50, 50, 150, 50.0], 'kim': [90, 90, 90, 270, 90.0], 'lee': [70, 70, 70, 210, 70.0], 'name': 'HONG'} ( 4 ) [ 139911612967824 ]\n",
            "d_copy : {'hong': [50, 50, 50, 150, 50.0], 'kim': [90, 90, 90, 270, 90.0], 'lee': [70, 70, 70, 210, 70.0], 'name': 'HONG'} ( 4 ) [ 139911612897472 ]\n"
          ]
        }
      ]
    },
    {
      "cell_type": "code",
      "source": [
        "d_copy[ 'name' ] = 'Hong gil dong'\n",
        "\n",
        "print( f'd      : {d} ( {len( d )} ) [ {id( d )} ]' )\n",
        "print( f'd_copy : {d_copy} ( {len( d_copy )} ) [ {id( d_copy )} ]' )"
      ],
      "metadata": {
        "colab": {
          "base_uri": "https://localhost:8080/"
        },
        "id": "3kvyIQxoLNg1",
        "outputId": "6b9e5584-e042-44cf-8027-6cfa4987db4b"
      },
      "execution_count": null,
      "outputs": [
        {
          "output_type": "stream",
          "name": "stdout",
          "text": [
            "d      : {'hong': [50, 50, 50, 150, 50.0], 'kim': [90, 90, 90, 270, 90.0], 'lee': [70, 70, 70, 210, 70.0], 'name': 'HONG'} ( 4 ) [ 139911612967824 ]\n",
            "d_copy : {'hong': [50, 50, 50, 150, 50.0], 'kim': [90, 90, 90, 270, 90.0], 'lee': [70, 70, 70, 210, 70.0], 'name': 'Hong gil dong'} ( 4 ) [ 139911612897472 ]\n"
          ]
        }
      ]
    },
    {
      "cell_type": "markdown",
      "source": [
        "## dict comprehension"
      ],
      "metadata": {
        "id": "yx8RuHt7LZqT"
      }
    },
    {
      "cell_type": "code",
      "source": [
        "# dict comprehension 적용하지 않는 경우\n",
        "# 문자 빈도수 저장 dict 생성\n",
        "word = 'letters'\n",
        "d = {}\n",
        "\n",
        "for letter in word:\n",
        "    d[ letter ] = word.count( letter )\n",
        "\n",
        "print( f'd : {d} ( {len( d )} )' )"
      ],
      "metadata": {
        "colab": {
          "base_uri": "https://localhost:8080/"
        },
        "id": "4i6RO9uEMrul",
        "outputId": "f147dcb1-8465-46ea-f0a7-7d45efe6e735"
      },
      "execution_count": null,
      "outputs": [
        {
          "output_type": "stream",
          "name": "stdout",
          "text": [
            "d : {'l': 1, 'e': 2, 't': 2, 'r': 1, 's': 1} ( 5 )\n"
          ]
        }
      ]
    },
    {
      "cell_type": "code",
      "source": [
        "# dict comprehension 적용\n",
        "d = { letter:word.count( letter ) for letter in word }\n",
        "\n",
        "print( f'd : {d} ( {len( d )} )' )"
      ],
      "metadata": {
        "colab": {
          "base_uri": "https://localhost:8080/"
        },
        "id": "ha0fQ3h3NBoV",
        "outputId": "75b27df5-6d4b-4d03-83c0-269c2ce15271"
      },
      "execution_count": null,
      "outputs": [
        {
          "output_type": "stream",
          "name": "stdout",
          "text": [
            "d : {'l': 1, 'e': 2, 't': 2, 'r': 1, 's': 1} ( 5 )\n"
          ]
        }
      ]
    },
    {
      "cell_type": "markdown",
      "source": [
        "### 실습) 3명의 이름, 점수1, 점수2를 입력받아 총점, 평균 출력 파이썬 스크립트"
      ],
      "metadata": {
        "id": "UyrNv5_5N-Xh"
      }
    },
    {
      "cell_type": "code",
      "source": [
        "MAX_STUDENT = 3\n",
        "MAX_SUBJECT = 2\n",
        "LOW_SCORE = 0\n",
        "HIGH_SCORE = 100\n",
        "\n",
        "students = {}\n",
        "\n",
        "for i in range( MAX_STUDENT ):\n",
        "    name = input( f'[ {i+1:2} ]번째 학생 이름 입력 : ' ) # key 사용할 값\n",
        "\n",
        "    student =  [] # value 사용할 값\n",
        "    for j in range( MAX_SUBJECT ):\n",
        "        score = int( float( input( f'[ {j+1:2} ]번째 점수 입력 : ' ) ) )\n",
        "        while score < LOW_SCORE or score > HIGH_SCORE:\n",
        "            print( f'\\t\\tError : 점수는 {LOW_SCORE} ~ {HIGH_SCORE} 범위만 가능' )\n",
        "            score = int( float( input( f'[ {j+1:2} ]번째 점수 입력 : ' ) ) )\n",
        "        student.append( score )\n",
        "\n",
        "    student.append( sum( student ) )\n",
        "    student.append( student[ len( student ) - 1 ] / MAX_SUBJECT )\n",
        "\n",
        "    students[ name ] = student\n",
        "    print()\n",
        "\n",
        "print()\n",
        "for name, student in students.items():\n",
        "    print( f'{name:<20}', end = '' )\n",
        "    for i in range( MAX_SUBJECT ):\n",
        "        print( f'{student[ i ]:5}', end = '' )\n",
        "    print( f'{student[ MAX_SUBJECT ]: 6}{student[ MAX_SUBJECT + 1 ]:8.2f}' )"
      ],
      "metadata": {
        "colab": {
          "base_uri": "https://localhost:8080/"
        },
        "id": "GGuzjrT6OqQI",
        "outputId": "60d99124-f58e-4aa0-dc5c-5bc3bff0189a"
      },
      "execution_count": null,
      "outputs": [
        {
          "output_type": "stream",
          "name": "stdout",
          "text": [
            "[  1 ]번째 학생 이름 입력 : hong\n",
            "[  1 ]번째 점수 입력 : 50\n",
            "[  2 ]번째 점수 입력 : 50\n",
            "\n",
            "[  2 ]번째 학생 이름 입력 : kim\n",
            "[  1 ]번째 점수 입력 : 90\n",
            "[  2 ]번째 점수 입력 : 90\n",
            "\n",
            "[  3 ]번째 학생 이름 입력 : lee\n",
            "[  1 ]번째 점수 입력 : 70\n",
            "[  2 ]번째 점수 입력 : 70\n",
            "\n",
            "\n",
            "hong                   50   50   100   50.00\n",
            "kim                    90   90   180   90.00\n",
            "lee                    70   70   140   70.00\n"
          ]
        }
      ]
    },
    {
      "cell_type": "markdown",
      "source": [
        "### 실습) 이전 코드에서 생성된 학생 성적 정보를 이용한 검색 기능을 갖는 파이썬 스크립트"
      ],
      "metadata": {
        "id": "3jEXetnaTmTS"
      }
    },
    {
      "cell_type": "code",
      "source": [
        "END = 'end'\n",
        "\n",
        "search_name = input( '검색할 학생 이름 입력( 종료 : \"end\" ) : ' )\n",
        "while search_name != END:\n",
        "    result = students.get( search_name, False )\n",
        "    if result:\n",
        "        print( f'{search_name:<20}', end = '' )\n",
        "        for i in range( MAX_SUBJECT ):\n",
        "            print( f'{result[ i ]:5}', end = '' )\n",
        "        print( f'{result[ MAX_SUBJECT ]: 6}{result[ MAX_SUBJECT + 1 ]:8.2f}' )\n",
        "    else:\n",
        "        print( f'Error : {search_name:<20} 학생의 성적 정보는 없습니다.' )\n",
        "    \n",
        "    search_name = input( '\\n검색할 학생 이름 입력( 종료 : \"end\" ) : ' )"
      ],
      "metadata": {
        "colab": {
          "base_uri": "https://localhost:8080/"
        },
        "id": "u8D1-dUCYBt4",
        "outputId": "0aa784dc-6030-4967-e724-602fa8649ba6"
      },
      "execution_count": null,
      "outputs": [
        {
          "name": "stdout",
          "output_type": "stream",
          "text": [
            "검색할 학생 이름 입력( 종료 : \"end\" ) : hong\n",
            "hong                   50   50   100   50.00\n",
            "\n",
            "검색할 학생 이름 입력( 종료 : \"end\" ) : lee\n",
            "lee                    70   70   140   70.00\n",
            "\n",
            "검색할 학생 이름 입력( 종료 : \"end\" ) : park\n",
            "Error : park                 학생의 성적 정보는 없습니다.\n",
            "\n",
            "검색할 학생 이름 입력( 종료 : \"end\" ) : kim\n",
            "kim                    90   90   180   90.00\n",
            "\n",
            "검색할 학생 이름 입력( 종료 : \"end\" ) : end\n"
          ]
        }
      ]
    },
    {
      "cell_type": "markdown",
      "source": [
        "# set\n",
        "\n",
        "## set 생성"
      ],
      "metadata": {
        "id": "AmhjBdMvZEHZ"
      }
    },
    {
      "cell_type": "code",
      "source": [
        "# 빈 set 생성\n",
        "s = set()\n",
        "\n",
        "print( f's : {s} ( {type( s )} - {len( s )} )' ) "
      ],
      "metadata": {
        "colab": {
          "base_uri": "https://localhost:8080/"
        },
        "id": "fDGAobEMdgMH",
        "outputId": "a4fdf665-62bd-4753-a826-fe2cbd3d5831"
      },
      "execution_count": null,
      "outputs": [
        {
          "output_type": "stream",
          "name": "stdout",
          "text": [
            "s : set() ( <class 'set'> - 0 )\n"
          ]
        }
      ]
    },
    {
      "cell_type": "code",
      "source": [
        "# {}를 이용한 set 생성\n",
        "s = { 1, 2, 3, 2, 4, 2 }\n",
        "print( f's : {s} ( {type( s )} - {len( s )} )' ) "
      ],
      "metadata": {
        "colab": {
          "base_uri": "https://localhost:8080/"
        },
        "id": "ziMU_nlCdraf",
        "outputId": "0569dffd-569a-4d29-8c81-f6b28452eac0"
      },
      "execution_count": null,
      "outputs": [
        {
          "output_type": "stream",
          "name": "stdout",
          "text": [
            "s : {1, 2, 3, 4} ( <class 'set'> - 4 )\n"
          ]
        }
      ]
    },
    {
      "cell_type": "code",
      "source": [
        "# set() 함수를 이용한 set 생성\n",
        "s = set( [ 1, 2, 3, 2, 4, 2 ] )\n",
        "print( f's : {s} ( {len( s )} )' ) "
      ],
      "metadata": {
        "colab": {
          "base_uri": "https://localhost:8080/"
        },
        "id": "tt7QxvBWeCRX",
        "outputId": "496c330b-41ce-494d-e513-f77e6a314eaf"
      },
      "execution_count": null,
      "outputs": [
        {
          "output_type": "stream",
          "name": "stdout",
          "text": [
            "s : {1, 2, 3, 4} ( 4 )\n"
          ]
        }
      ]
    },
    {
      "cell_type": "code",
      "source": [
        "s = set( ( 1, 2, 3, 2, 4, 2 ) )\n",
        "print( f's : {s} ( {len( s )} )' ) "
      ],
      "metadata": {
        "colab": {
          "base_uri": "https://localhost:8080/"
        },
        "id": "2ObXhMSXe-17",
        "outputId": "2b323dbb-0033-4711-c69a-02b41869fca9"
      },
      "execution_count": null,
      "outputs": [
        {
          "output_type": "stream",
          "name": "stdout",
          "text": [
            "s : {1, 2, 3, 4} ( 4 )\n"
          ]
        }
      ]
    },
    {
      "cell_type": "code",
      "source": [
        "s = set( { 'sun': 0, 'mon': 1, 'tue': 2, 'mon': 3 } )\n",
        "print( f's : {s} ( {len( s )} )' ) "
      ],
      "metadata": {
        "colab": {
          "base_uri": "https://localhost:8080/"
        },
        "id": "e4uq8BPCfDH-",
        "outputId": "3b5bf7aa-d4ee-4b57-94b6-c0b6b2c9afbb"
      },
      "execution_count": null,
      "outputs": [
        {
          "output_type": "stream",
          "name": "stdout",
          "text": [
            "s : {'mon', 'sun', 'tue'} ( 3 )\n"
          ]
        }
      ]
    },
    {
      "cell_type": "code",
      "source": [
        "# 불변 자료형 요소만 갖을 수 있다.\n",
        "s = set( ( [ 1, 2, 3 ], [ 1, 2, 3 ] ) )\n",
        "print( f's : {s} ( {len( s )} )' ) "
      ],
      "metadata": {
        "colab": {
          "base_uri": "https://localhost:8080/",
          "height": 190
        },
        "id": "7Sxt3b6-fLpE",
        "outputId": "a9df3d3b-0103-47b3-a34d-d33d3352c71a"
      },
      "execution_count": null,
      "outputs": [
        {
          "output_type": "error",
          "ename": "TypeError",
          "evalue": "ignored",
          "traceback": [
            "\u001b[0;31m---------------------------------------------------------------------------\u001b[0m",
            "\u001b[0;31mTypeError\u001b[0m                                 Traceback (most recent call last)",
            "\u001b[0;32m<ipython-input-89-5e2582452756>\u001b[0m in \u001b[0;36m<module>\u001b[0;34m()\u001b[0m\n\u001b[0;32m----> 1\u001b[0;31m \u001b[0ms\u001b[0m \u001b[0;34m=\u001b[0m \u001b[0mset\u001b[0m\u001b[0;34m(\u001b[0m \u001b[0;34m(\u001b[0m \u001b[0;34m[\u001b[0m \u001b[0;36m1\u001b[0m\u001b[0;34m,\u001b[0m \u001b[0;36m2\u001b[0m\u001b[0;34m,\u001b[0m \u001b[0;36m3\u001b[0m \u001b[0;34m]\u001b[0m\u001b[0;34m,\u001b[0m \u001b[0;34m[\u001b[0m \u001b[0;36m1\u001b[0m\u001b[0;34m,\u001b[0m \u001b[0;36m2\u001b[0m\u001b[0;34m,\u001b[0m \u001b[0;36m3\u001b[0m \u001b[0;34m]\u001b[0m \u001b[0;34m)\u001b[0m \u001b[0;34m)\u001b[0m\u001b[0;34m\u001b[0m\u001b[0;34m\u001b[0m\u001b[0m\n\u001b[0m\u001b[1;32m      2\u001b[0m \u001b[0mprint\u001b[0m\u001b[0;34m(\u001b[0m \u001b[0;34mf's : {s} ( {len( s )} )'\u001b[0m \u001b[0;34m)\u001b[0m\u001b[0;34m\u001b[0m\u001b[0;34m\u001b[0m\u001b[0m\n",
            "\u001b[0;31mTypeError\u001b[0m: unhashable type: 'list'"
          ]
        }
      ]
    },
    {
      "cell_type": "markdown",
      "source": [
        "### sequence 공통 연산"
      ],
      "metadata": {
        "id": "67dYd8sCfSei"
      }
    },
    {
      "cell_type": "code",
      "source": [
        "s = { 1, 2, 3, 2, 4, 2 }\n",
        "print( f's : {s} ( {len( s )} )' ) "
      ],
      "metadata": {
        "colab": {
          "base_uri": "https://localhost:8080/"
        },
        "id": "xZEFN8MCjC_D",
        "outputId": "6691ba1b-86f3-47d2-f905-707cbd66edd7"
      },
      "execution_count": null,
      "outputs": [
        {
          "output_type": "stream",
          "name": "stdout",
          "text": [
            "s : {1, 2, 3, 4} ( 4 )\n"
          ]
        }
      ]
    },
    {
      "cell_type": "code",
      "source": [
        "# indexing\n",
        "s[ 0 ]"
      ],
      "metadata": {
        "colab": {
          "base_uri": "https://localhost:8080/",
          "height": 190
        },
        "id": "KEVBD4wTjHZf",
        "outputId": "9df2d8f3-bf53-4322-8bd6-f0e3d213c879"
      },
      "execution_count": null,
      "outputs": [
        {
          "output_type": "error",
          "ename": "TypeError",
          "evalue": "ignored",
          "traceback": [
            "\u001b[0;31m---------------------------------------------------------------------------\u001b[0m",
            "\u001b[0;31mTypeError\u001b[0m                                 Traceback (most recent call last)",
            "\u001b[0;32m<ipython-input-91-2f351853391a>\u001b[0m in \u001b[0;36m<module>\u001b[0;34m()\u001b[0m\n\u001b[1;32m      1\u001b[0m \u001b[0;31m# indexing\u001b[0m\u001b[0;34m\u001b[0m\u001b[0;34m\u001b[0m\u001b[0;34m\u001b[0m\u001b[0m\n\u001b[0;32m----> 2\u001b[0;31m \u001b[0ms\u001b[0m\u001b[0;34m[\u001b[0m \u001b[0;36m0\u001b[0m \u001b[0;34m]\u001b[0m\u001b[0;34m\u001b[0m\u001b[0;34m\u001b[0m\u001b[0m\n\u001b[0m",
            "\u001b[0;31mTypeError\u001b[0m: 'set' object is not subscriptable"
          ]
        }
      ]
    },
    {
      "cell_type": "code",
      "source": [
        "# slicing\n",
        "s[ :2 ]"
      ],
      "metadata": {
        "colab": {
          "base_uri": "https://localhost:8080/",
          "height": 190
        },
        "id": "mThWqb9EjWGb",
        "outputId": "9d697598-e3e7-4fe6-ae6c-b888f33b1e1b"
      },
      "execution_count": null,
      "outputs": [
        {
          "output_type": "error",
          "ename": "TypeError",
          "evalue": "ignored",
          "traceback": [
            "\u001b[0;31m---------------------------------------------------------------------------\u001b[0m",
            "\u001b[0;31mTypeError\u001b[0m                                 Traceback (most recent call last)",
            "\u001b[0;32m<ipython-input-92-5bcb3b66bfd4>\u001b[0m in \u001b[0;36m<module>\u001b[0;34m()\u001b[0m\n\u001b[1;32m      1\u001b[0m \u001b[0;31m# slicing\u001b[0m\u001b[0;34m\u001b[0m\u001b[0;34m\u001b[0m\u001b[0;34m\u001b[0m\u001b[0m\n\u001b[0;32m----> 2\u001b[0;31m \u001b[0ms\u001b[0m\u001b[0;34m[\u001b[0m \u001b[0;34m:\u001b[0m\u001b[0;36m2\u001b[0m \u001b[0;34m]\u001b[0m\u001b[0;34m\u001b[0m\u001b[0;34m\u001b[0m\u001b[0m\n\u001b[0m",
            "\u001b[0;31mTypeError\u001b[0m: 'set' object is not subscriptable"
          ]
        }
      ]
    },
    {
      "cell_type": "code",
      "source": [
        "# 연결\n",
        "s + s"
      ],
      "metadata": {
        "colab": {
          "base_uri": "https://localhost:8080/",
          "height": 172
        },
        "id": "vL6sNXJTjYvR",
        "outputId": "ad3531b3-6f68-4043-adf5-914a32f9b1bd"
      },
      "execution_count": null,
      "outputs": [
        {
          "output_type": "error",
          "ename": "TypeError",
          "evalue": "ignored",
          "traceback": [
            "\u001b[0;31m---------------------------------------------------------------------------\u001b[0m",
            "\u001b[0;31mTypeError\u001b[0m                                 Traceback (most recent call last)",
            "\u001b[0;32m<ipython-input-93-7c61698a88fb>\u001b[0m in \u001b[0;36m<module>\u001b[0;34m()\u001b[0m\n\u001b[0;32m----> 1\u001b[0;31m \u001b[0ms\u001b[0m \u001b[0;34m+\u001b[0m \u001b[0ms\u001b[0m\u001b[0;34m\u001b[0m\u001b[0;34m\u001b[0m\u001b[0m\n\u001b[0m",
            "\u001b[0;31mTypeError\u001b[0m: unsupported operand type(s) for +: 'set' and 'set'"
          ]
        }
      ]
    },
    {
      "cell_type": "code",
      "source": [
        "# 반복\n",
        "s * 2"
      ],
      "metadata": {
        "colab": {
          "base_uri": "https://localhost:8080/",
          "height": 172
        },
        "id": "IVWu1Fk6kDey",
        "outputId": "ec83e408-76bd-4ca5-b649-72e7cf3676ee"
      },
      "execution_count": null,
      "outputs": [
        {
          "output_type": "error",
          "ename": "TypeError",
          "evalue": "ignored",
          "traceback": [
            "\u001b[0;31m---------------------------------------------------------------------------\u001b[0m",
            "\u001b[0;31mTypeError\u001b[0m                                 Traceback (most recent call last)",
            "\u001b[0;32m<ipython-input-94-54011d248711>\u001b[0m in \u001b[0;36m<module>\u001b[0;34m()\u001b[0m\n\u001b[0;32m----> 1\u001b[0;31m \u001b[0ms\u001b[0m \u001b[0;34m*\u001b[0m \u001b[0;36m2\u001b[0m\u001b[0;34m\u001b[0m\u001b[0;34m\u001b[0m\u001b[0m\n\u001b[0m",
            "\u001b[0;31mTypeError\u001b[0m: unsupported operand type(s) for *: 'set' and 'int'"
          ]
        }
      ]
    },
    {
      "cell_type": "code",
      "source": [
        "# 포함유무확인\n",
        "1 in s"
      ],
      "metadata": {
        "colab": {
          "base_uri": "https://localhost:8080/"
        },
        "id": "aAMHWJKGkEiQ",
        "outputId": "84178978-3333-423d-e23e-c7a3c98ec0d3"
      },
      "execution_count": null,
      "outputs": [
        {
          "output_type": "execute_result",
          "data": {
            "text/plain": [
              "True"
            ]
          },
          "metadata": {},
          "execution_count": 95
        }
      ]
    },
    {
      "cell_type": "code",
      "source": [
        "5 in s"
      ],
      "metadata": {
        "colab": {
          "base_uri": "https://localhost:8080/"
        },
        "id": "mmJokXbckVUi",
        "outputId": "82dc6418-a517-4558-8052-76309f93628b"
      },
      "execution_count": null,
      "outputs": [
        {
          "output_type": "execute_result",
          "data": {
            "text/plain": [
              "False"
            ]
          },
          "metadata": {},
          "execution_count": 96
        }
      ]
    },
    {
      "cell_type": "code",
      "source": [
        "# 길이 계산\n",
        "len( s )"
      ],
      "metadata": {
        "colab": {
          "base_uri": "https://localhost:8080/"
        },
        "id": "gRzOdR4OkWUj",
        "outputId": "3bf480fd-03b8-4d4a-bc10-ea36a27dcda5"
      },
      "execution_count": null,
      "outputs": [
        {
          "output_type": "execute_result",
          "data": {
            "text/plain": [
              "4"
            ]
          },
          "metadata": {},
          "execution_count": 98
        }
      ]
    },
    {
      "cell_type": "markdown",
      "source": [
        "### set 메서드"
      ],
      "metadata": {
        "id": "iMcB_yPkke_V"
      }
    },
    {
      "cell_type": "code",
      "source": [
        "print( f's : {s} ( {len( s )} )' ) "
      ],
      "metadata": {
        "colab": {
          "base_uri": "https://localhost:8080/"
        },
        "id": "8F439jeWk9h0",
        "outputId": "6f1aad75-8eac-42b2-b615-f9476018d8e1"
      },
      "execution_count": null,
      "outputs": [
        {
          "output_type": "stream",
          "name": "stdout",
          "text": [
            "s : {1, 2, 3, 4} ( 4 )\n"
          ]
        }
      ]
    },
    {
      "cell_type": "code",
      "source": [
        "# add() 메서드\n",
        "s.add( 5 )\n",
        "print( f's : {s} ( {len( s )} )' ) "
      ],
      "metadata": {
        "colab": {
          "base_uri": "https://localhost:8080/"
        },
        "id": "w80Y8QEGlIlq",
        "outputId": "3407622f-45ed-46ee-9b88-90cd6489dee0"
      },
      "execution_count": null,
      "outputs": [
        {
          "output_type": "stream",
          "name": "stdout",
          "text": [
            "s : {1, 2, 3, 4, 5} ( 5 )\n"
          ]
        }
      ]
    },
    {
      "cell_type": "code",
      "source": [
        "s.add( 6 )\n",
        "print( f's : {s} ( {len( s )} )' ) "
      ],
      "metadata": {
        "colab": {
          "base_uri": "https://localhost:8080/"
        },
        "id": "qmbQkI2WlQR7",
        "outputId": "8bd27be2-bc00-4e93-905b-6b62a7d4e0d9"
      },
      "execution_count": null,
      "outputs": [
        {
          "output_type": "stream",
          "name": "stdout",
          "text": [
            "s : {1, 2, 3, 4, 5, 6} ( 6 )\n"
          ]
        }
      ]
    },
    {
      "cell_type": "code",
      "source": [
        "s.add( 4 ) # 값 추가\n",
        "print( f's : {s} ( {len( s )} )' ) "
      ],
      "metadata": {
        "colab": {
          "base_uri": "https://localhost:8080/"
        },
        "id": "PrgxYnvulSFZ",
        "outputId": "f59ce0af-cf36-4821-f9ce-f14edc557f15"
      },
      "execution_count": null,
      "outputs": [
        {
          "output_type": "stream",
          "name": "stdout",
          "text": [
            "s : {1, 2, 3, 4, 5, 6} ( 6 )\n"
          ]
        }
      ]
    },
    {
      "cell_type": "code",
      "source": [
        "s.add( ( 1, 7, 9 ) ) # tuple 추가\n",
        "print( f's : {s} ( {len( s )} )' ) "
      ],
      "metadata": {
        "colab": {
          "base_uri": "https://localhost:8080/"
        },
        "id": "6U77dp6slXJw",
        "outputId": "d077fbe5-3997-4cdc-f52a-5e8ba55e5ea1"
      },
      "execution_count": null,
      "outputs": [
        {
          "output_type": "stream",
          "name": "stdout",
          "text": [
            "s : {1, 2, 3, 4, 5, 6, (1, 7, 9)} ( 7 )\n"
          ]
        }
      ]
    },
    {
      "cell_type": "code",
      "source": [
        "s.add( [ 1, 7, 9 ] )\n",
        "print( f's : {s} ( {len( s )} )' ) "
      ],
      "metadata": {
        "colab": {
          "base_uri": "https://localhost:8080/",
          "height": 190
        },
        "id": "CmfCz0jslov-",
        "outputId": "7697a41d-3f8a-411a-bc7c-96c1913024b8"
      },
      "execution_count": null,
      "outputs": [
        {
          "output_type": "error",
          "ename": "TypeError",
          "evalue": "ignored",
          "traceback": [
            "\u001b[0;31m---------------------------------------------------------------------------\u001b[0m",
            "\u001b[0;31mTypeError\u001b[0m                                 Traceback (most recent call last)",
            "\u001b[0;32m<ipython-input-104-bb9f3fa348fb>\u001b[0m in \u001b[0;36m<module>\u001b[0;34m()\u001b[0m\n\u001b[0;32m----> 1\u001b[0;31m \u001b[0ms\u001b[0m\u001b[0;34m.\u001b[0m\u001b[0madd\u001b[0m\u001b[0;34m(\u001b[0m \u001b[0;34m[\u001b[0m \u001b[0;36m1\u001b[0m\u001b[0;34m,\u001b[0m \u001b[0;36m7\u001b[0m\u001b[0;34m,\u001b[0m \u001b[0;36m9\u001b[0m \u001b[0;34m]\u001b[0m \u001b[0;34m)\u001b[0m\u001b[0;34m\u001b[0m\u001b[0;34m\u001b[0m\u001b[0m\n\u001b[0m\u001b[1;32m      2\u001b[0m \u001b[0mprint\u001b[0m\u001b[0;34m(\u001b[0m \u001b[0;34mf's : {s} ( {len( s )} )'\u001b[0m \u001b[0;34m)\u001b[0m\u001b[0;34m\u001b[0m\u001b[0;34m\u001b[0m\u001b[0m\n",
            "\u001b[0;31mTypeError\u001b[0m: unhashable type: 'list'"
          ]
        }
      ]
    },
    {
      "cell_type": "code",
      "source": [
        "s = { 1, 3, 5 }\n",
        "print( f's : {s} ( {len( s )} )' ) "
      ],
      "metadata": {
        "colab": {
          "base_uri": "https://localhost:8080/"
        },
        "id": "WHBbM0jvl7UE",
        "outputId": "7825c241-226f-4859-f2ff-316464fe2cb7"
      },
      "execution_count": null,
      "outputs": [
        {
          "output_type": "stream",
          "name": "stdout",
          "text": [
            "s : {1, 3, 5} ( 3 )\n"
          ]
        }
      ]
    },
    {
      "cell_type": "code",
      "source": [
        "s2 = { 2, 4, 6 }\n",
        "print( f's2 : {s2} ( {len( s2 )} )' ) "
      ],
      "metadata": {
        "colab": {
          "base_uri": "https://localhost:8080/"
        },
        "id": "fdP3LsGCmbOa",
        "outputId": "6d928f4a-1ca0-44ed-9050-7c5fffcc69e6"
      },
      "execution_count": null,
      "outputs": [
        {
          "output_type": "stream",
          "name": "stdout",
          "text": [
            "s2 : {2, 4, 6} ( 3 )\n"
          ]
        }
      ]
    },
    {
      "cell_type": "code",
      "source": [
        "# update() 메서드\n",
        "s.update( s2 )\n",
        "print( f's : {s} ( {len( s )} )' ) "
      ],
      "metadata": {
        "colab": {
          "base_uri": "https://localhost:8080/"
        },
        "id": "HJDC6cNamoDK",
        "outputId": "f50d0acc-9ede-436a-ab69-bca95fb061f1"
      },
      "execution_count": null,
      "outputs": [
        {
          "output_type": "stream",
          "name": "stdout",
          "text": [
            "s : {1, 2, 3, 4, 5, 6} ( 6 )\n"
          ]
        }
      ]
    },
    {
      "cell_type": "markdown",
      "source": [
        "#### 삭제"
      ],
      "metadata": {
        "id": "0_pKUAZPmvNI"
      }
    },
    {
      "cell_type": "code",
      "source": [
        "s.add( ( 1, 2, 3 ) )\n",
        "print( f's : {s} ( {len( s )} )' ) "
      ],
      "metadata": {
        "colab": {
          "base_uri": "https://localhost:8080/"
        },
        "id": "wljSG652nZUg",
        "outputId": "00986b8f-548b-44fe-8d46-b7a7d37c0482"
      },
      "execution_count": null,
      "outputs": [
        {
          "output_type": "stream",
          "name": "stdout",
          "text": [
            "s : {1, 2, 3, 4, 5, 6, (1, 2, 3)} ( 7 )\n"
          ]
        }
      ]
    },
    {
      "cell_type": "code",
      "source": [
        "# discard() 메서드\n",
        "s.discard( 1 )\n",
        "print( f's : {s} ( {len( s )} )' ) "
      ],
      "metadata": {
        "colab": {
          "base_uri": "https://localhost:8080/"
        },
        "id": "FUr1JJCpnjT7",
        "outputId": "d978a451-b289-4f33-ac17-f9e71a9a9a3e"
      },
      "execution_count": null,
      "outputs": [
        {
          "output_type": "stream",
          "name": "stdout",
          "text": [
            "s : {2, 3, 4, 5, 6, (1, 2, 3)} ( 6 )\n"
          ]
        }
      ]
    },
    {
      "cell_type": "code",
      "source": [
        "s.discard( ( 1, 2, 3 ) )\n",
        "print( f's : {s} ( {len( s )} )' ) "
      ],
      "metadata": {
        "colab": {
          "base_uri": "https://localhost:8080/"
        },
        "id": "iWgDt8aJnrIo",
        "outputId": "7697b2e8-e155-48fc-9c4b-1e1da33197f2"
      },
      "execution_count": null,
      "outputs": [
        {
          "output_type": "stream",
          "name": "stdout",
          "text": [
            "s : {2, 3, 4, 5, 6} ( 5 )\n"
          ]
        }
      ]
    },
    {
      "cell_type": "code",
      "source": [
        "s.discard( 1 )\n",
        "print( f's : {s} ( {len( s )} )' ) "
      ],
      "metadata": {
        "colab": {
          "base_uri": "https://localhost:8080/"
        },
        "id": "vhAyl4E9nt5R",
        "outputId": "147045ae-be28-4f76-bdc5-2af1e9f231fc"
      },
      "execution_count": null,
      "outputs": [
        {
          "output_type": "stream",
          "name": "stdout",
          "text": [
            "s : {2, 3, 4, 5, 6} ( 5 )\n"
          ]
        }
      ]
    },
    {
      "cell_type": "code",
      "source": [
        "# remove() 메서드\n",
        "s.remove( 2 )"
      ],
      "metadata": {
        "id": "2c4iaE8_nwSq"
      },
      "execution_count": null,
      "outputs": []
    },
    {
      "cell_type": "code",
      "source": [
        "print( f's : {s} ( {len( s )} )' ) "
      ],
      "metadata": {
        "colab": {
          "base_uri": "https://localhost:8080/"
        },
        "id": "Sdtz3dUKoX57",
        "outputId": "2f41bed3-aa9a-48dc-eb0c-4d172a834e5a"
      },
      "execution_count": null,
      "outputs": [
        {
          "output_type": "stream",
          "name": "stdout",
          "text": [
            "s : {3, 4, 5, 6} ( 4 )\n"
          ]
        }
      ]
    },
    {
      "cell_type": "code",
      "source": [
        "s.remove( 2 )\n",
        "print( f's : {s} ( {len( s )} )' ) "
      ],
      "metadata": {
        "colab": {
          "base_uri": "https://localhost:8080/",
          "height": 190
        },
        "id": "6UjdxG1_oZAg",
        "outputId": "80fc9397-4dae-47ea-f284-12bf9f733709"
      },
      "execution_count": null,
      "outputs": [
        {
          "output_type": "error",
          "ename": "KeyError",
          "evalue": "ignored",
          "traceback": [
            "\u001b[0;31m---------------------------------------------------------------------------\u001b[0m",
            "\u001b[0;31mKeyError\u001b[0m                                  Traceback (most recent call last)",
            "\u001b[0;32m<ipython-input-114-ddc5d50b4eed>\u001b[0m in \u001b[0;36m<module>\u001b[0;34m()\u001b[0m\n\u001b[0;32m----> 1\u001b[0;31m \u001b[0ms\u001b[0m\u001b[0;34m.\u001b[0m\u001b[0mremove\u001b[0m\u001b[0;34m(\u001b[0m \u001b[0;36m2\u001b[0m \u001b[0;34m)\u001b[0m\u001b[0;34m\u001b[0m\u001b[0;34m\u001b[0m\u001b[0m\n\u001b[0m\u001b[1;32m      2\u001b[0m \u001b[0mprint\u001b[0m\u001b[0;34m(\u001b[0m \u001b[0;34mf's : {s} ( {len( s )} )'\u001b[0m \u001b[0;34m)\u001b[0m\u001b[0;34m\u001b[0m\u001b[0;34m\u001b[0m\u001b[0m\n",
            "\u001b[0;31mKeyError\u001b[0m: 2"
          ]
        }
      ]
    },
    {
      "cell_type": "code",
      "source": [
        "print( f's : {s} ( {len( s )} )' ) "
      ],
      "metadata": {
        "colab": {
          "base_uri": "https://localhost:8080/"
        },
        "id": "K1F-UolOocRy",
        "outputId": "faed2242-5740-4697-a17b-e2a0c6e08454"
      },
      "execution_count": null,
      "outputs": [
        {
          "output_type": "stream",
          "name": "stdout",
          "text": [
            "s : {3, 4, 5, 6} ( 4 )\n"
          ]
        }
      ]
    },
    {
      "cell_type": "code",
      "source": [
        "# pop() 메서드\n",
        "remove_value = s.pop()\n",
        "print( f's : {s} ( {len( s )} )' ) \n",
        "print( f'remove value : {remove_value}' )"
      ],
      "metadata": {
        "colab": {
          "base_uri": "https://localhost:8080/"
        },
        "id": "SYHRYekLo8iZ",
        "outputId": "28a849a9-b812-4e7e-9af1-fb1ddbdaff40"
      },
      "execution_count": null,
      "outputs": [
        {
          "output_type": "stream",
          "name": "stdout",
          "text": [
            "s : {4, 5, 6} ( 3 )\n",
            "remove value : 3\n"
          ]
        }
      ]
    },
    {
      "cell_type": "code",
      "source": [
        "remove_value = s.pop()\n",
        "print( f's : {s} ( {len( s )} )' ) \n",
        "print( f'remove value : {remove_value}' )"
      ],
      "metadata": {
        "colab": {
          "base_uri": "https://localhost:8080/"
        },
        "id": "sjzt3CFHpFRT",
        "outputId": "66a183fc-357b-45a3-bec6-597fefeafa76"
      },
      "execution_count": null,
      "outputs": [
        {
          "output_type": "stream",
          "name": "stdout",
          "text": [
            "s : {5, 6} ( 2 )\n",
            "remove value : 4\n"
          ]
        }
      ]
    },
    {
      "cell_type": "code",
      "source": [
        "# clear() 메서드\n",
        "s.clear()\n",
        "print( f's : {s} ( {len( s )} )' ) "
      ],
      "metadata": {
        "colab": {
          "base_uri": "https://localhost:8080/"
        },
        "id": "JiDD_1HupIDo",
        "outputId": "7ad6f69e-2e01-4760-8dc6-1aa83d7d04a9"
      },
      "execution_count": null,
      "outputs": [
        {
          "output_type": "stream",
          "name": "stdout",
          "text": [
            "s : set() ( 0 )\n"
          ]
        }
      ]
    },
    {
      "cell_type": "markdown",
      "source": [
        "### 집합 연산"
      ],
      "metadata": {
        "id": "qFYOM-mwpj8A"
      }
    },
    {
      "cell_type": "code",
      "source": [
        "s1 = { 1, 2, 3, 4, 5, 6 }\n",
        "s2 = { 4, 5, 6, 7, 8, 9 }\n",
        "\n",
        "print( f's1 : {s1} ( {len( s1 )} )' ) \n",
        "print( f's2 : {s2} ( {len( s2 )} )' ) "
      ],
      "metadata": {
        "colab": {
          "base_uri": "https://localhost:8080/"
        },
        "id": "092OCueap2KP",
        "outputId": "09dd2fc3-2ab0-4249-8008-9eb31a496378"
      },
      "execution_count": null,
      "outputs": [
        {
          "output_type": "stream",
          "name": "stdout",
          "text": [
            "s1 : {1, 2, 3, 4, 5, 6} ( 6 )\n",
            "s2 : {4, 5, 6, 7, 8, 9} ( 6 )\n"
          ]
        }
      ]
    },
    {
      "cell_type": "code",
      "source": [
        "# 교집합\n",
        "s1.intersection( s2 )"
      ],
      "metadata": {
        "colab": {
          "base_uri": "https://localhost:8080/"
        },
        "id": "rq_3mJkup-_V",
        "outputId": "405ab5a8-867f-46f2-a31e-50f9c5bf3362"
      },
      "execution_count": null,
      "outputs": [
        {
          "output_type": "execute_result",
          "data": {
            "text/plain": [
              "{4, 5, 6}"
            ]
          },
          "metadata": {},
          "execution_count": 120
        }
      ]
    },
    {
      "cell_type": "code",
      "source": [
        "s1 & s2"
      ],
      "metadata": {
        "colab": {
          "base_uri": "https://localhost:8080/"
        },
        "id": "5m4f1VZHqPNP",
        "outputId": "853254c5-0ac6-454a-9c8a-31dae366e0d1"
      },
      "execution_count": null,
      "outputs": [
        {
          "output_type": "execute_result",
          "data": {
            "text/plain": [
              "{4, 5, 6}"
            ]
          },
          "metadata": {},
          "execution_count": 121
        }
      ]
    },
    {
      "cell_type": "code",
      "source": [
        "# 합집합\n",
        "s1.union( s2 )"
      ],
      "metadata": {
        "colab": {
          "base_uri": "https://localhost:8080/"
        },
        "id": "JKRtKbTdqQgq",
        "outputId": "73df24a5-99c9-4bbe-8b9e-1e79f30e4cdc"
      },
      "execution_count": null,
      "outputs": [
        {
          "output_type": "execute_result",
          "data": {
            "text/plain": [
              "{1, 2, 3, 4, 5, 6, 7, 8, 9}"
            ]
          },
          "metadata": {},
          "execution_count": 122
        }
      ]
    },
    {
      "cell_type": "code",
      "source": [
        "s1 | s2"
      ],
      "metadata": {
        "colab": {
          "base_uri": "https://localhost:8080/"
        },
        "id": "Faqpngujq9Rw",
        "outputId": "c9764097-c11c-4ff3-cfcb-05481d1b1233"
      },
      "execution_count": null,
      "outputs": [
        {
          "output_type": "execute_result",
          "data": {
            "text/plain": [
              "{1, 2, 3, 4, 5, 6, 7, 8, 9}"
            ]
          },
          "metadata": {},
          "execution_count": 123
        }
      ]
    },
    {
      "cell_type": "code",
      "source": [
        "# 차집합\n",
        "s1.difference( s2 ) # s2에 대한 s1의 차집합"
      ],
      "metadata": {
        "colab": {
          "base_uri": "https://localhost:8080/"
        },
        "id": "HkADIpuVq-ci",
        "outputId": "9b125b09-9835-47a0-cd14-9598d64806eb"
      },
      "execution_count": null,
      "outputs": [
        {
          "output_type": "execute_result",
          "data": {
            "text/plain": [
              "{1, 2, 3}"
            ]
          },
          "metadata": {},
          "execution_count": 124
        }
      ]
    },
    {
      "cell_type": "code",
      "source": [
        "s1 - s2 "
      ],
      "metadata": {
        "colab": {
          "base_uri": "https://localhost:8080/"
        },
        "id": "8Bnf3TbHrXxT",
        "outputId": "6f0b251f-8382-4d9a-a02c-1ae13d716ce0"
      },
      "execution_count": null,
      "outputs": [
        {
          "output_type": "execute_result",
          "data": {
            "text/plain": [
              "{1, 2, 3}"
            ]
          },
          "metadata": {},
          "execution_count": 125
        }
      ]
    },
    {
      "cell_type": "code",
      "source": [
        "s2.difference( s1 )"
      ],
      "metadata": {
        "colab": {
          "base_uri": "https://localhost:8080/"
        },
        "id": "v4N9iYtGrZSW",
        "outputId": "4be51bb3-40e5-4a2a-8a13-a3cf40d8cefa"
      },
      "execution_count": null,
      "outputs": [
        {
          "output_type": "execute_result",
          "data": {
            "text/plain": [
              "{7, 8, 9}"
            ]
          },
          "metadata": {},
          "execution_count": 126
        }
      ]
    },
    {
      "cell_type": "code",
      "source": [
        "s2 - s1"
      ],
      "metadata": {
        "colab": {
          "base_uri": "https://localhost:8080/"
        },
        "id": "Iertg_IernI5",
        "outputId": "d022f5f7-9e3d-41f0-bda4-3fef3acdbd8f"
      },
      "execution_count": null,
      "outputs": [
        {
          "output_type": "execute_result",
          "data": {
            "text/plain": [
              "{7, 8, 9}"
            ]
          },
          "metadata": {},
          "execution_count": 127
        }
      ]
    },
    {
      "cell_type": "markdown",
      "source": [
        "### copy() 메서드"
      ],
      "metadata": {
        "id": "hgG4yJabsZQA"
      }
    },
    {
      "cell_type": "code",
      "source": [
        "s = { 1, 2, 3, 4, 2, 5 }\n",
        "print( f's : {s} ( {len( s )} )' ) "
      ],
      "metadata": {
        "colab": {
          "base_uri": "https://localhost:8080/"
        },
        "id": "OW51ciQOrn8q",
        "outputId": "830158a9-bb55-44fa-edce-16fe931b8358"
      },
      "execution_count": null,
      "outputs": [
        {
          "output_type": "stream",
          "name": "stdout",
          "text": [
            "s : {1, 2, 3, 4, 5} ( 5 )\n"
          ]
        }
      ]
    },
    {
      "cell_type": "code",
      "source": [
        "s_copy = s\n",
        "print( f's      : {s} ( {len( s )} ) [ {id( s )} ]' ) \n",
        "print( f's_copy : {s_copy} ( {len( s_copy )} ) [ {id( s_copy )} ]' ) "
      ],
      "metadata": {
        "colab": {
          "base_uri": "https://localhost:8080/"
        },
        "id": "hZV_EdAmsAxn",
        "outputId": "1d3714f5-ce66-4912-99e6-c081a5bcbe8d"
      },
      "execution_count": null,
      "outputs": [
        {
          "output_type": "stream",
          "name": "stdout",
          "text": [
            "s      : {1, 2, 3, 4, 5} ( 5 ) [ 139911612298976 ]\n",
            "s_copy : {1, 2, 3, 4, 5} ( 5 ) [ 139911612298976 ]\n"
          ]
        }
      ]
    },
    {
      "cell_type": "code",
      "source": [
        "s_copy2 = s.copy()\n",
        "print( f's       : {s} ( {len( s )} ) [ {id( s )} ]' ) \n",
        "print( f's_copy2 : {s_copy2} ( {len( s_copy2 )} ) [ {id( s_copy2 )} ]' ) "
      ],
      "metadata": {
        "colab": {
          "base_uri": "https://localhost:8080/"
        },
        "id": "u9ooCReGsTJl",
        "outputId": "98e6b86b-3431-425a-84b6-e7126dd3d862"
      },
      "execution_count": null,
      "outputs": [
        {
          "output_type": "stream",
          "name": "stdout",
          "text": [
            "s       : {1, 2, 3, 4, 5} ( 5 ) [ 139911612298976 ]\n",
            "s_copy2 : {1, 2, 3, 4, 5} ( 5 ) [ 139911612299216 ]\n"
          ]
        }
      ]
    },
    {
      "cell_type": "markdown",
      "source": [
        "### 순회"
      ],
      "metadata": {
        "id": "snkw6p0GswXM"
      }
    },
    {
      "cell_type": "code",
      "source": [
        "for v in s:\n",
        "    print( v )"
      ],
      "metadata": {
        "colab": {
          "base_uri": "https://localhost:8080/"
        },
        "id": "prcb-NJ4tKcG",
        "outputId": "1849093f-7e58-41d0-c528-5a3fcc349d59"
      },
      "execution_count": null,
      "outputs": [
        {
          "output_type": "stream",
          "name": "stdout",
          "text": [
            "1\n",
            "2\n",
            "3\n",
            "4\n",
            "5\n"
          ]
        }
      ]
    },
    {
      "cell_type": "markdown",
      "source": [
        "### set comprehension"
      ],
      "metadata": {
        "id": "WCALi4UAtNxF"
      }
    },
    {
      "cell_type": "code",
      "source": [
        "s = { v for v in range( 1, 6 ) }\n",
        "print( f's : {s} ( {len( s )} ) [ {id( s )} ]' ) "
      ],
      "metadata": {
        "colab": {
          "base_uri": "https://localhost:8080/"
        },
        "id": "at5iY9zBtvGb",
        "outputId": "b03a8d3a-aa62-4c65-e7b0-bc5a62a06af4"
      },
      "execution_count": null,
      "outputs": [
        {
          "output_type": "stream",
          "name": "stdout",
          "text": [
            "s : {1, 2, 3, 4, 5} ( 5 ) [ 139911612300176 ]\n"
          ]
        }
      ]
    },
    {
      "cell_type": "code",
      "source": [
        "s = { v for v in [ 1, 2, 3, 4, 5, 4, 2, 6, 1 ] }\n",
        "print( f's : {s} ( {len( s )} ) [ {id( s )} ]' )"
      ],
      "metadata": {
        "colab": {
          "base_uri": "https://localhost:8080/"
        },
        "id": "st1IxAn-t3tF",
        "outputId": "f67d8ce1-de23-491e-d478-1d75acbeef47"
      },
      "execution_count": null,
      "outputs": [
        {
          "output_type": "stream",
          "name": "stdout",
          "text": [
            "s : {1, 2, 3, 4, 5, 6} ( 6 ) [ 139911612300656 ]\n"
          ]
        }
      ]
    },
    {
      "cell_type": "code",
      "source": [
        "s = { v for v in 'python' if v not in 'aieou' }\n",
        "print( f's : {s} ( {len( s )} ) [ {id( s )} ]' )"
      ],
      "metadata": {
        "colab": {
          "base_uri": "https://localhost:8080/"
        },
        "id": "eionvX3kt9JK",
        "outputId": "f39eb33e-82f7-4a07-8361-296100fe8f61"
      },
      "execution_count": null,
      "outputs": [
        {
          "output_type": "stream",
          "name": "stdout",
          "text": [
            "s : {'t', 'y', 'p', 'h', 'n'} ( 5 ) [ 139911612299696 ]\n"
          ]
        }
      ]
    },
    {
      "cell_type": "code",
      "source": [
        ""
      ],
      "metadata": {
        "id": "um7cOEjGuEQZ"
      },
      "execution_count": null,
      "outputs": []
    }
  ]
}