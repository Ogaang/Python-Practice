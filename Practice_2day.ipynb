{
  "nbformat": 4,
  "nbformat_minor": 0,
  "metadata": {
    "colab": {
      "name": "Teach_2day.ipynb",
      "provenance": [],
      "collapsed_sections": [],
      "include_colab_link": true
    },
    "kernelspec": {
      "name": "python3",
      "display_name": "Python 3"
    },
    "language_info": {
      "name": "python"
    }
  },
  "cells": [
    {
      "cell_type": "markdown",
      "metadata": {
        "id": "view-in-github",
        "colab_type": "text"
      },
      "source": [
        "<a href=\"https://colab.research.google.com/github/Ogaang/Python-Practice/blob/master/Practice_2day.ipynb\" target=\"_parent\"><img src=\"https://colab.research.google.com/assets/colab-badge.svg\" alt=\"Open In Colab\"/></a>"
      ]
    },
    {
      "cell_type": "markdown",
      "source": [
        "# 제어문\n",
        "\n",
        "## 선택 구조\n",
        "\n",
        "### 단순 선택 구조"
      ],
      "metadata": {
        "id": "IJVkrvsMdnn1"
      }
    },
    {
      "cell_type": "code",
      "source": [
        "number1 = 100\n",
        "number2 = 20"
      ],
      "metadata": {
        "id": "AVE1t0m5xmzG"
      },
      "execution_count": null,
      "outputs": []
    },
    {
      "cell_type": "code",
      "source": [
        "if number1 > number2:\n",
        "    print( number1, ' > ', number2 )"
      ],
      "metadata": {
        "colab": {
          "base_uri": "https://localhost:8080/"
        },
        "id": "J5lgHhB_xso7",
        "outputId": "63bb3d2c-e235-4622-943d-7772fd1f4f49"
      },
      "execution_count": null,
      "outputs": [
        {
          "output_type": "stream",
          "name": "stdout",
          "text": [
            "100  >  20\n"
          ]
        }
      ]
    },
    {
      "cell_type": "code",
      "source": [
        "if number1 < number2:\n",
        "    print( number1, ' > ', number2 )"
      ],
      "metadata": {
        "id": "4XtJo82UxxXx"
      },
      "execution_count": null,
      "outputs": []
    },
    {
      "cell_type": "markdown",
      "source": [
        "### 양자 택일 구조"
      ],
      "metadata": {
        "id": "joqreLBzyVE8"
      }
    },
    {
      "cell_type": "code",
      "source": [
        "if number1 > number2:\n",
        "    print( number1, ' > ', number2 )\n",
        "else:\n",
        "    print( number2, ' >= ', number1 )   "
      ],
      "metadata": {
        "colab": {
          "base_uri": "https://localhost:8080/"
        },
        "id": "yi8P4MgeytkF",
        "outputId": "dde7bfb4-6ee5-4001-b2ad-6668c35b0d58"
      },
      "execution_count": null,
      "outputs": [
        {
          "output_type": "stream",
          "name": "stdout",
          "text": [
            "101  >=  100\n"
          ]
        }
      ]
    },
    {
      "cell_type": "code",
      "source": [
        "number2 = 101 \n",
        "\n",
        "if number1 > number2:\n",
        "    print( number1, ' > ', number2 )\n",
        "else:\n",
        "    print( number2, ' >= ', number1 )  "
      ],
      "metadata": {
        "colab": {
          "base_uri": "https://localhost:8080/"
        },
        "id": "IYxjnRgFy3mX",
        "outputId": "503df679-755a-47e0-9b2e-7983798e717d"
      },
      "execution_count": null,
      "outputs": [
        {
          "output_type": "stream",
          "name": "stdout",
          "text": [
            "101  >=  100\n"
          ]
        }
      ]
    },
    {
      "cell_type": "code",
      "source": [
        "if not number1 > number2:\n",
        "    print( number2, ' >= ', number1 )  \n",
        "else:\n",
        "    print( number1, ' > ', number2 )    "
      ],
      "metadata": {
        "colab": {
          "base_uri": "https://localhost:8080/"
        },
        "id": "ywUhRQwYy7vu",
        "outputId": "22df8719-154a-417e-881c-4a8abd5a3577"
      },
      "execution_count": null,
      "outputs": [
        {
          "output_type": "stream",
          "name": "stdout",
          "text": [
            "101  >=  100\n"
          ]
        }
      ]
    },
    {
      "cell_type": "markdown",
      "source": [
        "### 다중 선택 구조"
      ],
      "metadata": {
        "id": "HZ4E3jbSztsw"
      }
    },
    {
      "cell_type": "code",
      "source": [
        "score = 69\n",
        "\n",
        "if score >= 90:\n",
        "    grade = 'A'\n",
        "elif score >= 80:\n",
        "    grade = 'B'\n",
        "elif score >= 70:\n",
        "    grade = 'C'\n",
        "elif score >= 60:\n",
        "    grade = 'D'\n",
        "else:\n",
        "    grade = 'F'\n",
        "\n",
        "print( score, ' grade : ', grade )"
      ],
      "metadata": {
        "colab": {
          "base_uri": "https://localhost:8080/"
        },
        "id": "zjdf9YKr0YhY",
        "outputId": "2532d9b3-0a7b-4033-f25b-6689d7d47387"
      },
      "execution_count": null,
      "outputs": [
        {
          "output_type": "stream",
          "name": "stdout",
          "text": [
            "69  grade :  D\n"
          ]
        }
      ]
    },
    {
      "cell_type": "markdown",
      "source": [
        "### 중첩 선택 구조"
      ],
      "metadata": {
        "id": "yiQ4M4V30pLX"
      }
    },
    {
      "cell_type": "code",
      "source": [
        "age = 25\n",
        "army = True\n",
        "gender = True"
      ],
      "metadata": {
        "id": "P8Qs6zPa2Jjx"
      },
      "execution_count": null,
      "outputs": []
    },
    {
      "cell_type": "code",
      "source": [
        "if gender:\n",
        "    if age > 20 and army:\n",
        "        print( '나이가 20세이상이고 군대 다녀옴' )\n",
        "    else:\n",
        "        print( '나이가 20세이상이고 군대 안다녀옴' )\n",
        "else:\n",
        "    print( '여성' )"
      ],
      "metadata": {
        "colab": {
          "base_uri": "https://localhost:8080/"
        },
        "id": "N5HJUaKG2P6S",
        "outputId": "94830588-3b5d-4dbb-c010-441871cd66cd"
      },
      "execution_count": null,
      "outputs": [
        {
          "output_type": "stream",
          "name": "stdout",
          "text": [
            "나이가 20세이상이고 군대 다녀옴\n"
          ]
        }
      ]
    },
    {
      "cell_type": "markdown",
      "source": [
        "## 반복 구조\n",
        "\n",
        "### for문"
      ],
      "metadata": {
        "id": "ub8bYNgm2f4e"
      }
    },
    {
      "cell_type": "code",
      "source": [
        "# i : 반복 제어 변수, range() 함수의 결과를 기억\n",
        "for i in range( 1, 10, 1 ):\n",
        "    print( i, end = '\\t' )"
      ],
      "metadata": {
        "colab": {
          "base_uri": "https://localhost:8080/"
        },
        "id": "GhZ-2UzL4Jxl",
        "outputId": "0b09b2f8-fda5-40ee-ab12-1ff9cc25b29a"
      },
      "execution_count": null,
      "outputs": [
        {
          "output_type": "stream",
          "name": "stdout",
          "text": [
            "1\t2\t3\t4\t5\t6\t7\t8\t9\t"
          ]
        }
      ]
    },
    {
      "cell_type": "code",
      "source": [
        "for i in range( 1, 11, 1 ):\n",
        "    print( i, end = '\\t' )"
      ],
      "metadata": {
        "colab": {
          "base_uri": "https://localhost:8080/"
        },
        "id": "bGPGRr2C4QSD",
        "outputId": "b703e31f-de34-4474-b9a9-57ba36ac7dc2"
      },
      "execution_count": null,
      "outputs": [
        {
          "output_type": "stream",
          "name": "stdout",
          "text": [
            "1\t2\t3\t4\t5\t6\t7\t8\t9\t10\t"
          ]
        }
      ]
    },
    {
      "cell_type": "code",
      "source": [
        "for i in range( 11 ):\n",
        "    print( i, end = '\\t' )"
      ],
      "metadata": {
        "colab": {
          "base_uri": "https://localhost:8080/"
        },
        "id": "V40cZvZh5DLH",
        "outputId": "fe16442d-fa40-4ab2-92e2-b3f08a151cfd"
      },
      "execution_count": null,
      "outputs": [
        {
          "output_type": "stream",
          "name": "stdout",
          "text": [
            "0\t1\t2\t3\t4\t5\t6\t7\t8\t9\t10\t"
          ]
        }
      ]
    },
    {
      "cell_type": "code",
      "source": [
        "for i in range( 1, 10, 2 ):\n",
        "    print( i, end = '\\t' )"
      ],
      "metadata": {
        "colab": {
          "base_uri": "https://localhost:8080/"
        },
        "id": "f9pcBRf95oh9",
        "outputId": "ff4876fc-8e01-465d-d34a-49169a695e93"
      },
      "execution_count": null,
      "outputs": [
        {
          "output_type": "stream",
          "name": "stdout",
          "text": [
            "1\t3\t5\t7\t9\t"
          ]
        }
      ]
    },
    {
      "cell_type": "code",
      "source": [
        "for i in range( 0, 11, 2 ):\n",
        "    print( i, end = '\\t' )"
      ],
      "metadata": {
        "colab": {
          "base_uri": "https://localhost:8080/"
        },
        "id": "qIz9n76b6AOl",
        "outputId": "8389dcfe-a479-4104-e882-246d9254623f"
      },
      "execution_count": null,
      "outputs": [
        {
          "output_type": "stream",
          "name": "stdout",
          "text": [
            "0\t2\t4\t6\t8\t10\t"
          ]
        }
      ]
    },
    {
      "cell_type": "code",
      "source": [
        "for _ in range( 11 ):\n",
        "    print( 'Python programming' )"
      ],
      "metadata": {
        "colab": {
          "base_uri": "https://localhost:8080/"
        },
        "id": "JdfutzHI6Kp7",
        "outputId": "d8fa1f0d-2fbb-48ca-dc7e-302abfd64813"
      },
      "execution_count": null,
      "outputs": [
        {
          "output_type": "stream",
          "name": "stdout",
          "text": [
            "Python programming\n",
            "Python programming\n",
            "Python programming\n",
            "Python programming\n",
            "Python programming\n",
            "Python programming\n",
            "Python programming\n",
            "Python programming\n",
            "Python programming\n",
            "Python programming\n",
            "Python programming\n"
          ]
        }
      ]
    },
    {
      "cell_type": "markdown",
      "source": [
        "### 중첩 for문"
      ],
      "metadata": {
        "id": "XRF15wj96XPn"
      }
    },
    {
      "cell_type": "code",
      "source": [
        "print( '\\t\\t\\tmultiple table\\n' )\n",
        "for i in range( 2, 10 ): # 바깥 for\n",
        "    for j in range( 1, 10 ): # 안쪽 for\n",
        "        print( i * j, end = '\\t' )\n",
        "    print()"
      ],
      "metadata": {
        "colab": {
          "base_uri": "https://localhost:8080/"
        },
        "id": "yTuO4RbT7AiH",
        "outputId": "958bf9fb-8148-4749-dc29-bf44a807974f"
      },
      "execution_count": null,
      "outputs": [
        {
          "output_type": "stream",
          "name": "stdout",
          "text": [
            "\t\t\tmultiple table\n",
            "\n",
            "2\t4\t6\t8\t10\t12\t14\t16\t18\t\n",
            "3\t6\t9\t12\t15\t18\t21\t24\t27\t\n",
            "4\t8\t12\t16\t20\t24\t28\t32\t36\t\n",
            "5\t10\t15\t20\t25\t30\t35\t40\t45\t\n",
            "6\t12\t18\t24\t30\t36\t42\t48\t54\t\n",
            "7\t14\t21\t28\t35\t42\t49\t56\t63\t\n",
            "8\t16\t24\t32\t40\t48\t56\t64\t72\t\n",
            "9\t18\t27\t36\t45\t54\t63\t72\t81\t\n"
          ]
        }
      ]
    },
    {
      "cell_type": "markdown",
      "source": [
        "## while문"
      ],
      "metadata": {
        "id": "tX4nWR6J7JtT"
      }
    },
    {
      "cell_type": "code",
      "source": [
        "i = 1 # 반복 제어 변수 생성( 초기값 부여 )\n",
        "while i < 11: # 반복 조건 판단\n",
        "    print( i, end = '\\t' )\n",
        "    i += 1 # 반복 제어 변수 변경"
      ],
      "metadata": {
        "colab": {
          "base_uri": "https://localhost:8080/"
        },
        "id": "JP2lLkPEBQhh",
        "outputId": "d4d11a72-da1e-4d10-daf3-57cb8ad5e75d"
      },
      "execution_count": null,
      "outputs": [
        {
          "output_type": "stream",
          "name": "stdout",
          "text": [
            "1\t2\t3\t4\t5\t6\t7\t8\t9\t10\t"
          ]
        }
      ]
    },
    {
      "cell_type": "markdown",
      "source": [
        "### 중첩 while문"
      ],
      "metadata": {
        "id": "DGzkZltxBX07"
      }
    },
    {
      "cell_type": "code",
      "source": [
        "i = 2\n",
        "\n",
        "print( '\\t\\t\\tmultiple table\\n' )\n",
        "while i < 10:\n",
        "    j = 1 # reset\n",
        "    while j < 10:\n",
        "        print( i * j, end = '\\t' )\n",
        "        j += 1\n",
        "    print()\n",
        "    i += 1"
      ],
      "metadata": {
        "colab": {
          "base_uri": "https://localhost:8080/"
        },
        "id": "_NcVi4BNCubI",
        "outputId": "b6d14fd4-e9ce-414c-a7e1-af21c6085116"
      },
      "execution_count": null,
      "outputs": [
        {
          "output_type": "stream",
          "name": "stdout",
          "text": [
            "\t\t\tmultiple table\n",
            "\n",
            "2\t4\t6\t8\t10\t12\t14\t16\t18\t\n",
            "3\t6\t9\t12\t15\t18\t21\t24\t27\t\n",
            "4\t8\t12\t16\t20\t24\t28\t32\t36\t\n",
            "5\t10\t15\t20\t25\t30\t35\t40\t45\t\n",
            "6\t12\t18\t24\t30\t36\t42\t48\t54\t\n",
            "7\t14\t21\t28\t35\t42\t49\t56\t63\t\n",
            "8\t16\t24\t32\t40\t48\t56\t64\t72\t\n",
            "9\t18\t27\t36\t45\t54\t63\t72\t81\t\n"
          ]
        }
      ]
    },
    {
      "cell_type": "markdown",
      "source": [
        "#### 'end'가 입력될 때까지 반복 하면서 입력된 내용을 출력하는 파이썬 script"
      ],
      "metadata": {
        "id": "Iaeg6oWSDGRF"
      }
    },
    {
      "cell_type": "code",
      "source": [
        "# 2-read 기법\n",
        "# 반복 진입 유무 결정하는 입력\n",
        "# 이 입력은 한번만 수행\n",
        "string = input( '원하는 내용을 입력하세요( \"end\" 입력 : 종료 ) : ' )\n",
        "i = 0\n",
        "while string != 'end':\n",
        "    i += 1\n",
        "    print( '[ ', i, ' ] : ', string )\n",
        "    string = input( '원하는 내용을 입력하세요( \"end\" 입력 : 종료 ) : ' )"
      ],
      "metadata": {
        "colab": {
          "base_uri": "https://localhost:8080/"
        },
        "id": "JJ7k8p9iEHCl",
        "outputId": "9dc8b0cd-1cc4-4bd7-ce8c-025e42036f63"
      },
      "execution_count": null,
      "outputs": [
        {
          "name": "stdout",
          "output_type": "stream",
          "text": [
            "원하는 내용을 입력하세요( \"end\" 입력 : 종료 ) : python\n",
            "[  1  ] :  python\n",
            "원하는 내용을 입력하세요( \"end\" 입력 : 종료 ) : programming\n",
            "[  2  ] :  programming\n",
            "원하는 내용을 입력하세요( \"end\" 입력 : 종료 ) : hello\n",
            "[  3  ] :  hello\n",
            "원하는 내용을 입력하세요( \"end\" 입력 : 종료 ) : world\n",
            "[  4  ] :  world\n",
            "원하는 내용을 입력하세요( \"end\" 입력 : 종료 ) : end\n"
          ]
        }
      ]
    },
    {
      "cell_type": "code",
      "source": [
        "# 무한 반복을 이용한 기법\n",
        "i = 0\n",
        "while True: # 참인동안 반복, 무한 loop\n",
        "    string = input( '원하는 내용을 입력하세요( \"end\" 입력 : 종료 ) : ' )\n",
        "    if string == 'end':\n",
        "        break # 강제로 반복구조 탈출\n",
        "    i += 1\n",
        "    print( '[ ', i, ' ] : ', string )"
      ],
      "metadata": {
        "colab": {
          "base_uri": "https://localhost:8080/"
        },
        "id": "EhqIRRpkEyje",
        "outputId": "8d67e0ec-2d93-4bc7-9c11-f66aaded8e69"
      },
      "execution_count": null,
      "outputs": [
        {
          "name": "stdout",
          "output_type": "stream",
          "text": [
            "원하는 내용을 입력하세요( \"end\" 입력 : 종료 ) : python\n",
            "[  1  ] :  python\n",
            "원하는 내용을 입력하세요( \"end\" 입력 : 종료 ) : programming\n",
            "[  2  ] :  programming\n",
            "원하는 내용을 입력하세요( \"end\" 입력 : 종료 ) : hello\n",
            "[  3  ] :  hello\n",
            "원하는 내용을 입력하세요( \"end\" 입력 : 종료 ) : world\n",
            "[  4  ] :  world\n",
            "원하는 내용을 입력하세요( \"end\" 입력 : 종료 ) : end\n"
          ]
        }
      ]
    },
    {
      "cell_type": "markdown",
      "source": [
        "#### break/continue"
      ],
      "metadata": {
        "id": "_bfQ2T4RGuuE"
      }
    },
    {
      "cell_type": "code",
      "source": [
        "i = 1\n",
        "while i < 10:\n",
        "    if i == 5:\n",
        "        i += 1\n",
        "        continue # 다시 조건 검사\n",
        "    \n",
        "    if i == 8:\n",
        "        break # 반복 강제 종료\n",
        "\n",
        "    print( i )\n",
        "    i += 1"
      ],
      "metadata": {
        "colab": {
          "base_uri": "https://localhost:8080/"
        },
        "id": "__0PJVzPIlfg",
        "outputId": "672d995c-8026-481b-934e-99e068675039"
      },
      "execution_count": null,
      "outputs": [
        {
          "output_type": "stream",
          "name": "stdout",
          "text": [
            "1\n",
            "2\n",
            "3\n",
            "4\n",
            "6\n",
            "7\n"
          ]
        }
      ]
    },
    {
      "cell_type": "markdown",
      "source": [
        "# 문제 풀이 과정\n",
        "\n",
        "## 문제) 10개 이내의 정수를 입력받아 평균을 출력하는 파이썬 스크립트\n",
        "\n",
        "### 문제 이해\n",
        "\n",
        "1. 입력 자료  \n",
        "    10개 이내의 정수\n",
        "\n",
        "2. 출력 자료( 결과 )  \n",
        "    평균\n",
        "\n",
        "3. 추가 자료  \n",
        "    합계\n",
        "    입력 데이터 개수\n",
        "\n",
        "### 알고리즘 설계\n",
        "\n",
        "0. 변수 정의  \n",
        "1. 10개 이내 반복  \n",
        "    1.1 정수 입력  \n",
        "    1.2 합계 누적\n",
        "2. 평균 계산  \n",
        "3. 결과 출력\n",
        "\n",
        "### 구현"
      ],
      "metadata": {
        "id": "CcF1Zj5iIuFb"
      }
    },
    {
      "cell_type": "code",
      "source": [
        "# 0. 변수 정의\n",
        "MAX_DATA = 10 # Symbolic Constant, 의미화 상수\n",
        "\n",
        "sum = 0 # 합계\n",
        "i = 1 # 입력 데이터 count\n",
        "\n",
        "# 1.1 정수 입력\n",
        "print( '[ ', i, ' ] 번째 정수 입력( -1이면 종료 ) : ', end = '' )\n",
        "number = int( float( input() ) )\n",
        "# 1. 10개 이내 반복\n",
        "while number != -1 and i < MAX_DATA:\n",
        "    # 1.2 합계 계산\n",
        "    sum += number\n",
        "    \n",
        "    i += 1\n",
        "    # 1.1 정수 입력\n",
        "    print( '[ ', i, ' ] 번째 정수 입력( -1이면 종료 ) : ', end = '' )\n",
        "    number = int( float( input() ) )\n",
        "\n",
        "# 2. 평균 계산\n",
        "average = sum / ( i -  1 )\n",
        "\n",
        "# 3. 결과 출력\n",
        "print( 'average = ', average )"
      ],
      "metadata": {
        "colab": {
          "base_uri": "https://localhost:8080/"
        },
        "id": "Zgg9Z2EQRBkE",
        "outputId": "1f817b1e-abe1-4767-bfe3-6c4723ac8bea"
      },
      "execution_count": null,
      "outputs": [
        {
          "output_type": "stream",
          "name": "stdout",
          "text": [
            "[  1  ] 번째 정수 입력( -1이면 종료 ) : 50\n",
            "[  2  ] 번째 정수 입력( -1이면 종료 ) : 50\n",
            "[  3  ] 번째 정수 입력( -1이면 종료 ) : 50\n",
            "[  4  ] 번째 정수 입력( -1이면 종료 ) : 50\n",
            "[  5  ] 번째 정수 입력( -1이면 종료 ) : 50\n",
            "[  6  ] 번째 정수 입력( -1이면 종료 ) : 50\n",
            "[  7  ] 번째 정수 입력( -1이면 종료 ) : 50\n",
            "[  8  ] 번째 정수 입력( -1이면 종료 ) : 50\n",
            "[  9  ] 번째 정수 입력( -1이면 종료 ) : 50\n",
            "[  10  ] 번째 정수 입력( -1이면 종료 ) : 50\n",
            "average =  50.0\n"
          ]
        }
      ]
    },
    {
      "cell_type": "markdown",
      "source": [
        "## 실습) 10개 이내의 정수를 입력받아 양수와 음수의 개수를 세고, 양수일 때 짝수와 홀수의 개수를 세어서 출력하는 파이썬 스크립트\n",
        "\n",
        "### 문제 이해\n",
        "\n",
        "1. 입력 자료  \n",
        "    10개 이내의 정수\n",
        "\n",
        "2. 출력 자료( 결과 )  \n",
        "    양수 개수  \n",
        "    음수 개수  \n",
        "    짝수 개수  \n",
        "    홀수 개수\n",
        "\n",
        "3. 추가 자료  \n",
        "    입력 데이터 개수  \n",
        "    에러 데이터 개수\n",
        "\n",
        "### 알고리즘 설계\n",
        "\n",
        "0. 변수 정의  \n",
        "1. 10개 이내 반복  \n",
        "    1.1 정수 입력  \n",
        "    1.2 정수가 양수이면 양수갯수 세기  \n",
        "        1.2.1 짝수/홀수 판별하여 개수 세기  \n",
        "    1.3 정수가 음수이면 음수갯수 세기  \n",
        "    1.4 정수가 양수/음수가 아니면 에러 개수 세기\n",
        "2. 결과 출력\n",
        "\n",
        "### 구현"
      ],
      "metadata": {
        "id": "3aTrPY7PTgeU"
      }
    },
    {
      "cell_type": "code",
      "source": [
        "# Symbolic Constant\n",
        "MAX_DATA = 10\n",
        "END_DATA = -99999 \n",
        "\n",
        "count = 1 # 입력 데이터 갯수 저장\n",
        "positive_count = 0 # 양수 갯수 저장\n",
        "negative_count = 0 # 음수 갯수 저장\n",
        "even_count = 0 # 짝수 갯수 저장\n",
        "odd_count = 0 # 홀수 갯수 저장\n",
        "error_count = 0 # 에러 데이터 갯수 저장\n",
        "\n",
        "while True:\n",
        "    print( '[ ', count, ' ] 번째 정수 입력( -99999이면 종료 ) : ', end = '' )\n",
        "    number = int( float( input() ) )\n",
        "\n",
        "    if number == END_DATA:\n",
        "        break\n",
        "    if number != 0: # 입력 값 에러 확인\n",
        "        if number > 0: # 양수 처리\n",
        "            positive_count += 1\n",
        "            if number % 2 == 0:\n",
        "                even_count += 1\n",
        "            else:\n",
        "                odd_count += 1\n",
        "        else: # 음수 처리\n",
        "            negative_count += 1\n",
        "    else:\n",
        "        error_count += 1\n",
        "        print( '\\nError : input zero\\n' ) \n",
        "    count += 1\n",
        "    if count > MAX_DATA:\n",
        "        count -= 1\n",
        "        break\n",
        "\n",
        "print( '\\n\\ntotal input data : ', count, '\\n' )\n",
        "print( 'positive count : ', positive_count )\n",
        "print( '\\teven count : ', even_count )\n",
        "print( '\\todd count : ', odd_count )\n",
        "print( 'negative count : ', negative_count )\n",
        "print( '\\nerror count : ', error_count ) "
      ],
      "metadata": {
        "colab": {
          "base_uri": "https://localhost:8080/"
        },
        "id": "jDqe6mdzo1RU",
        "outputId": "e3fa3fb7-a092-4d61-c862-55e59557ed52"
      },
      "execution_count": null,
      "outputs": [
        {
          "output_type": "stream",
          "name": "stdout",
          "text": [
            "[  1  ] 번째 정수 입력( -99999이면 종료 ) : 1\n",
            "[  2  ] 번째 정수 입력( -99999이면 종료 ) : 2\n",
            "[  3  ] 번째 정수 입력( -99999이면 종료 ) : 3\n",
            "[  4  ] 번째 정수 입력( -99999이면 종료 ) : -4\n",
            "[  5  ] 번째 정수 입력( -99999이면 종료 ) : 0\n",
            "\n",
            "Error : input zero\n",
            "\n",
            "[  6  ] 번째 정수 입력( -99999이면 종료 ) : 6\n",
            "[  7  ] 번째 정수 입력( -99999이면 종료 ) : 7\n",
            "[  8  ] 번째 정수 입력( -99999이면 종료 ) : 8\n",
            "[  9  ] 번째 정수 입력( -99999이면 종료 ) : 9\n",
            "[  10  ] 번째 정수 입력( -99999이면 종료 ) : 10\n",
            "\n",
            "\n",
            "total input data :  11 \n",
            "\n",
            "positive count :  8\n",
            "\teven count :  4\n",
            "\todd count :  4\n",
            "negative count :  1\n",
            "\n",
            "error count :  1\n"
          ]
        }
      ]
    },
    {
      "cell_type": "markdown",
      "source": [
        "### 문제) 10개의 정수를 입력받아 평균을 계산하고 평균과의 차이를 출력하는 파이썬 스크립트"
      ],
      "metadata": {
        "id": "icWpG29YqdLH"
      }
    },
    {
      "cell_type": "code",
      "source": [
        "MAX_DATA = 2\n",
        "sum = 0\n",
        "for i in range( MAX_DATA ):\n",
        "    print( '[ ', i + 1, ' ] ', end = '' )\n",
        "    number = int( float( input( '정수 입력 ' ) ) )\n",
        "    sum += number\n",
        "average = sum / MAX_DATA\n",
        "\n",
        "for i in range( MAX_DATA ):\n",
        "    difference = average - number\n",
        "    print( average, ' - ', number, ' = ', difference )"
      ],
      "metadata": {
        "colab": {
          "base_uri": "https://localhost:8080/"
        },
        "id": "j-1AChuP5SiP",
        "outputId": "3fe11149-cb6d-4aba-95db-a4a132b70775"
      },
      "execution_count": null,
      "outputs": [
        {
          "output_type": "stream",
          "name": "stdout",
          "text": [
            "[  1  ] 정수 입력 50\n",
            "[  2  ] 정수 입력 90\n",
            "70.0  -  90  =  -20.0\n",
            "70.0  -  90  =  -20.0\n"
          ]
        }
      ]
    },
    {
      "cell_type": "markdown",
      "source": [
        "# 불변 자료형 특징"
      ],
      "metadata": {
        "id": "lJziNn3a6JWM"
      }
    },
    {
      "cell_type": "code",
      "source": [
        "variable = 10"
      ],
      "metadata": {
        "id": "g7J8tnUq9pRK"
      },
      "execution_count": null,
      "outputs": []
    },
    {
      "cell_type": "code",
      "source": [
        "print( variable, '[ ', id( variable ), ' ]' )"
      ],
      "metadata": {
        "colab": {
          "base_uri": "https://localhost:8080/"
        },
        "id": "tnZehokZ9sJa",
        "outputId": "d50d3990-fe8d-45a0-c0ac-9eecf1fa8c24"
      },
      "execution_count": null,
      "outputs": [
        {
          "output_type": "stream",
          "name": "stdout",
          "text": [
            "10 [  94206315739936  ]\n"
          ]
        }
      ]
    },
    {
      "cell_type": "code",
      "source": [
        "variable += 10"
      ],
      "metadata": {
        "id": "CZif8YPW9xKY"
      },
      "execution_count": null,
      "outputs": []
    },
    {
      "cell_type": "code",
      "source": [
        "print( variable, '[ ', id( variable ), ' ]' )"
      ],
      "metadata": {
        "colab": {
          "base_uri": "https://localhost:8080/"
        },
        "id": "JJraEYW998oA",
        "outputId": "bf4dc57c-b221-4bfe-afbc-b5198bdc1c8e"
      },
      "execution_count": null,
      "outputs": [
        {
          "output_type": "stream",
          "name": "stdout",
          "text": [
            "20 [  94206315740256  ]\n"
          ]
        }
      ]
    },
    {
      "cell_type": "markdown",
      "source": [
        "# str\n",
        "\n",
        "## str literal"
      ],
      "metadata": {
        "id": "TEYIvEMk-ALh"
      }
    },
    {
      "cell_type": "code",
      "source": [
        "print( 'python' )"
      ],
      "metadata": {
        "colab": {
          "base_uri": "https://localhost:8080/"
        },
        "id": "APCAyH76E6CJ",
        "outputId": "2cb97a48-fc91-4af0-af0a-72b059b68eeb"
      },
      "execution_count": null,
      "outputs": [
        {
          "output_type": "stream",
          "name": "stdout",
          "text": [
            "python\n"
          ]
        }
      ]
    },
    {
      "cell_type": "code",
      "source": [
        "print( \"python\" )"
      ],
      "metadata": {
        "colab": {
          "base_uri": "https://localhost:8080/"
        },
        "id": "-t8Qi3l4FXBH",
        "outputId": "15adc309-1e4a-44af-d1dd-1e7ab9109b58"
      },
      "execution_count": null,
      "outputs": [
        {
          "output_type": "stream",
          "name": "stdout",
          "text": [
            "python\n"
          ]
        }
      ]
    },
    {
      "cell_type": "code",
      "source": [
        "print( '\"python\"' )"
      ],
      "metadata": {
        "colab": {
          "base_uri": "https://localhost:8080/"
        },
        "id": "10Gp-neuFZZD",
        "outputId": "f97c82d0-b5b7-481d-be3b-e7cfd51c71d3"
      },
      "execution_count": null,
      "outputs": [
        {
          "output_type": "stream",
          "name": "stdout",
          "text": [
            "\"python\"\n"
          ]
        }
      ]
    },
    {
      "cell_type": "code",
      "source": [
        "print( \"'python'\" )"
      ],
      "metadata": {
        "colab": {
          "base_uri": "https://localhost:8080/"
        },
        "id": "pnTNJqLIFb6s",
        "outputId": "5b157c5c-7e09-493c-c97a-1a34249ac06a"
      },
      "execution_count": null,
      "outputs": [
        {
          "output_type": "stream",
          "name": "stdout",
          "text": [
            "'python'\n"
          ]
        }
      ]
    },
    {
      "cell_type": "code",
      "source": [
        "print( \n",
        "'python \\\n",
        "programming' )"
      ],
      "metadata": {
        "colab": {
          "base_uri": "https://localhost:8080/"
        },
        "id": "fUn-s6nqFeAN",
        "outputId": "f58687de-284d-424d-b1a9-ff3236a292ae"
      },
      "execution_count": null,
      "outputs": [
        {
          "output_type": "stream",
          "name": "stdout",
          "text": [
            "python programming\n"
          ]
        }
      ]
    },
    {
      "cell_type": "code",
      "source": [
        "print( \n",
        "'''python \n",
        "programming''' )"
      ],
      "metadata": {
        "colab": {
          "base_uri": "https://localhost:8080/"
        },
        "id": "6dG44dpYGCic",
        "outputId": "0ac8efca-d3e3-4ca6-e658-eac782d22606"
      },
      "execution_count": null,
      "outputs": [
        {
          "output_type": "stream",
          "name": "stdout",
          "text": [
            "python \n",
            "programming\n"
          ]
        }
      ]
    },
    {
      "cell_type": "code",
      "source": [
        "print(\n",
        "'''\n",
        "1. 자료 입력\n",
        "2. 자료 조회\n",
        "3. 자료 출력\n",
        "0. 종료\n",
        "select\n",
        "'''\n",
        ")"
      ],
      "metadata": {
        "colab": {
          "base_uri": "https://localhost:8080/"
        },
        "id": "wDO6qCElGH-_",
        "outputId": "1ffce465-41ad-4ffb-c4c5-5f1f2f656e1e"
      },
      "execution_count": null,
      "outputs": [
        {
          "output_type": "stream",
          "name": "stdout",
          "text": [
            "\n",
            "1. 자료 입력\n",
            "2. 자료 조회\n",
            "3. 자료 출력\n",
            "0. 종료\n",
            "select\n",
            "\n"
          ]
        }
      ]
    },
    {
      "cell_type": "code",
      "source": [
        "variable = 1000\n",
        "print( variable )"
      ],
      "metadata": {
        "colab": {
          "base_uri": "https://localhost:8080/"
        },
        "id": "hLU7FBneGsWG",
        "outputId": "ca1d9d47-f78c-4a1b-c0d8-9929fbb8eeaf"
      },
      "execution_count": null,
      "outputs": [
        {
          "output_type": "stream",
          "name": "stdout",
          "text": [
            "1000\n"
          ]
        }
      ]
    },
    {
      "cell_type": "code",
      "source": [
        "변수 = 1000\n",
        "print( 변수 )"
      ],
      "metadata": {
        "colab": {
          "base_uri": "https://localhost:8080/"
        },
        "id": "sGHUd7uIG3pw",
        "outputId": "6a6c0942-0eb2-4684-b26c-b2a90cfe86fe"
      },
      "execution_count": null,
      "outputs": [
        {
          "output_type": "stream",
          "name": "stdout",
          "text": [
            "1000\n"
          ]
        }
      ]
    },
    {
      "cell_type": "markdown",
      "source": [
        "### str 변수 생성"
      ],
      "metadata": {
        "id": "jYOvjTy0G62S"
      }
    },
    {
      "cell_type": "code",
      "source": [
        "# str 변수 생성\n",
        "name = 'hong gil dong'"
      ],
      "metadata": {
        "id": "FPrI3AjTHblt"
      },
      "execution_count": null,
      "outputs": []
    },
    {
      "cell_type": "code",
      "source": [
        "print( 'name = ', name, '\\t[ ', type( name ), ' ]' )"
      ],
      "metadata": {
        "colab": {
          "base_uri": "https://localhost:8080/"
        },
        "id": "OR8IN2ZYHfP1",
        "outputId": "8a3698e8-91d7-4008-c722-91a07b6d0629"
      },
      "execution_count": null,
      "outputs": [
        {
          "output_type": "stream",
          "name": "stdout",
          "text": [
            "name =  hong gil dong \t[  <class 'str'>  ]\n"
          ]
        }
      ]
    },
    {
      "cell_type": "code",
      "source": [
        "value = 100\n",
        "value_str = str( value ) # str 변수 생성( 형변환 )"
      ],
      "metadata": {
        "id": "9IEo4Q9BHleA"
      },
      "execution_count": null,
      "outputs": []
    },
    {
      "cell_type": "code",
      "source": [
        "print( 'value_str = ', value_str,\n",
        "       '\\t[ ', type( value_str ), ' ]' )"
      ],
      "metadata": {
        "colab": {
          "base_uri": "https://localhost:8080/"
        },
        "id": "6GZk4QY2ICJj",
        "outputId": "dae5ac41-be20-4660-a068-3507eb30ae74"
      },
      "execution_count": null,
      "outputs": [
        {
          "output_type": "stream",
          "name": "stdout",
          "text": [
            "value_str =  100 \t[  <class 'str'>  ]\n"
          ]
        }
      ]
    },
    {
      "cell_type": "code",
      "source": [
        "print( 'value_str = ', value_str, '\\t[ ', id( value_str ), ' ]' )"
      ],
      "metadata": {
        "colab": {
          "base_uri": "https://localhost:8080/"
        },
        "id": "hcENt3lUIJBA",
        "outputId": "d026e529-e900-4154-bbfe-1963246aff3e"
      },
      "execution_count": null,
      "outputs": [
        {
          "output_type": "stream",
          "name": "stdout",
          "text": [
            "value_str =  100 \t[  139804276000688  ]\n"
          ]
        }
      ]
    },
    {
      "cell_type": "code",
      "source": [
        "value_str = 'number:100' # 기존 변수 내용 변경"
      ],
      "metadata": {
        "id": "3nS4eG14If8u"
      },
      "execution_count": null,
      "outputs": []
    },
    {
      "cell_type": "code",
      "source": [
        "print( 'value_str = ', value_str, '\\t[ ', id( value_str ), ' ]' )"
      ],
      "metadata": {
        "colab": {
          "base_uri": "https://localhost:8080/"
        },
        "id": "Bs9UXsRTI5gX",
        "outputId": "0b135bcd-d38b-4306-f596-2434ce8e2177"
      },
      "execution_count": null,
      "outputs": [
        {
          "output_type": "stream",
          "name": "stdout",
          "text": [
            "value_str =  number:100 \t[  139804275405808  ]\n"
          ]
        }
      ]
    },
    {
      "cell_type": "markdown",
      "source": [
        "### str 변수 Sequence 공통연산\n",
        "\n",
        "#### indexing"
      ],
      "metadata": {
        "id": "zI3lrzGSI7Ww"
      }
    },
    {
      "cell_type": "code",
      "source": [
        "string = 'pythonPrograming'\n",
        "print( 'string = ', string,\n",
        "       '\\t[ ', id( string ),\n",
        "       '\\t', type( string ), ' ]' )"
      ],
      "metadata": {
        "colab": {
          "base_uri": "https://localhost:8080/"
        },
        "id": "XYWupD6JJ5Xi",
        "outputId": "ffc18a80-c400-44bd-9bc9-328e847211ed"
      },
      "execution_count": null,
      "outputs": [
        {
          "output_type": "stream",
          "name": "stdout",
          "text": [
            "string =  pythonPrograming \t[  139804275398896 \t <class 'str'>  ]\n"
          ]
        }
      ]
    },
    {
      "cell_type": "code",
      "source": [
        "string[ 0 ]"
      ],
      "metadata": {
        "colab": {
          "base_uri": "https://localhost:8080/",
          "height": 35
        },
        "id": "dRMMpsO0J-fR",
        "outputId": "fc66719c-26cd-43cf-93ec-858248585960"
      },
      "execution_count": null,
      "outputs": [
        {
          "output_type": "execute_result",
          "data": {
            "application/vnd.google.colaboratory.intrinsic+json": {
              "type": "string"
            },
            "text/plain": [
              "'p'"
            ]
          },
          "metadata": {},
          "execution_count": 101
        }
      ]
    },
    {
      "cell_type": "code",
      "source": [
        "string[ 3 ]"
      ],
      "metadata": {
        "colab": {
          "base_uri": "https://localhost:8080/",
          "height": 35
        },
        "id": "VD02gDe0KrQM",
        "outputId": "f70131d0-ab76-4d00-ed96-9d409699c66a"
      },
      "execution_count": null,
      "outputs": [
        {
          "output_type": "execute_result",
          "data": {
            "application/vnd.google.colaboratory.intrinsic+json": {
              "type": "string"
            },
            "text/plain": [
              "'h'"
            ]
          },
          "metadata": {},
          "execution_count": 102
        }
      ]
    },
    {
      "cell_type": "code",
      "source": [
        "string[ -1 ] # reverse위치에서 첫번째"
      ],
      "metadata": {
        "colab": {
          "base_uri": "https://localhost:8080/",
          "height": 35
        },
        "id": "TleKXX95Ktdu",
        "outputId": "eb1dc5d5-1924-4ddc-af16-a031b95fcd16"
      },
      "execution_count": null,
      "outputs": [
        {
          "output_type": "execute_result",
          "data": {
            "application/vnd.google.colaboratory.intrinsic+json": {
              "type": "string"
            },
            "text/plain": [
              "'g'"
            ]
          },
          "metadata": {},
          "execution_count": 103
        }
      ]
    },
    {
      "cell_type": "code",
      "source": [
        "string[ -2 ]"
      ],
      "metadata": {
        "colab": {
          "base_uri": "https://localhost:8080/",
          "height": 35
        },
        "id": "BV46hIRfKv96",
        "outputId": "001ca4fe-e372-4ca8-9cb7-cff63817a4dc"
      },
      "execution_count": null,
      "outputs": [
        {
          "output_type": "execute_result",
          "data": {
            "application/vnd.google.colaboratory.intrinsic+json": {
              "type": "string"
            },
            "text/plain": [
              "'n'"
            ]
          },
          "metadata": {},
          "execution_count": 104
        }
      ]
    },
    {
      "cell_type": "markdown",
      "source": [
        "#### slicing"
      ],
      "metadata": {
        "id": "iBmumFC9LVXN"
      }
    },
    {
      "cell_type": "code",
      "source": [
        "print( 'string = ', string,\n",
        "       '\\t[ ', id( string ),\n",
        "       '\\t', type( string ), ' ]' )"
      ],
      "metadata": {
        "colab": {
          "base_uri": "https://localhost:8080/"
        },
        "id": "h6qL2ixlLpOM",
        "outputId": "134ec88b-e188-41c1-c943-16fa4635f3b5"
      },
      "execution_count": null,
      "outputs": [
        {
          "output_type": "stream",
          "name": "stdout",
          "text": [
            "string =  pythonPrograming \t[  139804275398896 \t <class 'str'>  ]\n"
          ]
        }
      ]
    },
    {
      "cell_type": "code",
      "source": [
        "string[ 0:5:1 ]"
      ],
      "metadata": {
        "colab": {
          "base_uri": "https://localhost:8080/",
          "height": 35
        },
        "id": "_mwv8gjsLeEg",
        "outputId": "3b537e85-920f-422c-a8aa-c7b8c741076e"
      },
      "execution_count": null,
      "outputs": [
        {
          "output_type": "execute_result",
          "data": {
            "application/vnd.google.colaboratory.intrinsic+json": {
              "type": "string"
            },
            "text/plain": [
              "'pytho'"
            ]
          },
          "metadata": {},
          "execution_count": 107
        }
      ]
    },
    {
      "cell_type": "code",
      "source": [
        "string[ :5: ]"
      ],
      "metadata": {
        "colab": {
          "base_uri": "https://localhost:8080/",
          "height": 35
        },
        "id": "l5R5xaJdLf5b",
        "outputId": "c67fa160-a603-46b0-da49-a7bd361d4956"
      },
      "execution_count": null,
      "outputs": [
        {
          "output_type": "execute_result",
          "data": {
            "application/vnd.google.colaboratory.intrinsic+json": {
              "type": "string"
            },
            "text/plain": [
              "'pytho'"
            ]
          },
          "metadata": {},
          "execution_count": 108
        }
      ]
    },
    {
      "cell_type": "code",
      "source": [
        "string[ :5 ]"
      ],
      "metadata": {
        "colab": {
          "base_uri": "https://localhost:8080/",
          "height": 35
        },
        "id": "deJIzNP1L891",
        "outputId": "680ea615-efcb-4af0-c879-eb9f18c167c0"
      },
      "execution_count": null,
      "outputs": [
        {
          "output_type": "execute_result",
          "data": {
            "application/vnd.google.colaboratory.intrinsic+json": {
              "type": "string"
            },
            "text/plain": [
              "'pytho'"
            ]
          },
          "metadata": {},
          "execution_count": 109
        }
      ]
    },
    {
      "cell_type": "code",
      "source": [
        "string[ 5: ]"
      ],
      "metadata": {
        "colab": {
          "base_uri": "https://localhost:8080/",
          "height": 35
        },
        "id": "bIAxWJwML_DB",
        "outputId": "72c7c7aa-a4dd-4fea-91b3-490e5670b446"
      },
      "execution_count": null,
      "outputs": [
        {
          "output_type": "execute_result",
          "data": {
            "application/vnd.google.colaboratory.intrinsic+json": {
              "type": "string"
            },
            "text/plain": [
              "'nPrograming'"
            ]
          },
          "metadata": {},
          "execution_count": 110
        }
      ]
    },
    {
      "cell_type": "code",
      "source": [
        "string[ 5::2 ]"
      ],
      "metadata": {
        "colab": {
          "base_uri": "https://localhost:8080/",
          "height": 35
        },
        "id": "BuvhFs-YMN-o",
        "outputId": "f4bd06c4-e10d-4e91-d54f-a9d91fe7549c"
      },
      "execution_count": null,
      "outputs": [
        {
          "output_type": "execute_result",
          "data": {
            "application/vnd.google.colaboratory.intrinsic+json": {
              "type": "string"
            },
            "text/plain": [
              "'nrgaig'"
            ]
          },
          "metadata": {},
          "execution_count": 111
        }
      ]
    },
    {
      "cell_type": "code",
      "source": [
        "string[ ::-1 ] # reverse"
      ],
      "metadata": {
        "colab": {
          "base_uri": "https://localhost:8080/",
          "height": 35
        },
        "id": "Herfo4GaMUfW",
        "outputId": "9b7ffbb4-c3f4-449f-e156-6fc120586ee0"
      },
      "execution_count": null,
      "outputs": [
        {
          "output_type": "execute_result",
          "data": {
            "application/vnd.google.colaboratory.intrinsic+json": {
              "type": "string"
            },
            "text/plain": [
              "'gnimargorPnohtyp'"
            ]
          },
          "metadata": {},
          "execution_count": 112
        }
      ]
    },
    {
      "cell_type": "code",
      "source": [
        "string[ -3:-1: ]"
      ],
      "metadata": {
        "colab": {
          "base_uri": "https://localhost:8080/",
          "height": 35
        },
        "id": "SSF831-SMj6C",
        "outputId": "4fcff2d7-3980-46de-cfbf-a38ba34154fe"
      },
      "execution_count": null,
      "outputs": [
        {
          "output_type": "execute_result",
          "data": {
            "application/vnd.google.colaboratory.intrinsic+json": {
              "type": "string"
            },
            "text/plain": [
              "'in'"
            ]
          },
          "metadata": {},
          "execution_count": 115
        }
      ]
    },
    {
      "cell_type": "markdown",
      "source": [
        "#### 연결"
      ],
      "metadata": {
        "id": "q6ncwGCrMwwq"
      }
    },
    {
      "cell_type": "code",
      "source": [
        "string1 = 'python'\n",
        "string2 = 'programming'\n",
        "print( 'string1 : ', string1, '\\nstring2 : ', string2 )"
      ],
      "metadata": {
        "colab": {
          "base_uri": "https://localhost:8080/"
        },
        "id": "lrQgI4n9NN7w",
        "outputId": "53d0fed4-ee52-4ee0-f33e-f4f774c41804"
      },
      "execution_count": null,
      "outputs": [
        {
          "output_type": "stream",
          "name": "stdout",
          "text": [
            "string1 :  python \n",
            "string2 :  programming\n"
          ]
        }
      ]
    },
    {
      "cell_type": "code",
      "source": [
        "print( string1 + string2 )\n",
        "print( string1 + ' ' + string2 )"
      ],
      "metadata": {
        "colab": {
          "base_uri": "https://localhost:8080/"
        },
        "id": "H6FLKFInNYgD",
        "outputId": "ee3424df-61e6-43d0-fcec-f31458937d11"
      },
      "execution_count": null,
      "outputs": [
        {
          "output_type": "stream",
          "name": "stdout",
          "text": [
            "pythonprogramming\n",
            "python programming\n"
          ]
        }
      ]
    },
    {
      "cell_type": "code",
      "source": [
        "string3 = string1 + ' ' + string2 \n",
        "print( 'string3 : ', string3 )"
      ],
      "metadata": {
        "colab": {
          "base_uri": "https://localhost:8080/"
        },
        "id": "B3J7zHS-NeDc",
        "outputId": "82688c4d-5823-464d-e61f-c98cf5f547d2"
      },
      "execution_count": null,
      "outputs": [
        {
          "output_type": "stream",
          "name": "stdout",
          "text": [
            "string3 :  python programming\n"
          ]
        }
      ]
    },
    {
      "cell_type": "markdown",
      "source": [
        "#### 반복"
      ],
      "metadata": {
        "id": "fsfqgS9NNqvD"
      }
    },
    {
      "cell_type": "code",
      "source": [
        "print( string1 * 3 )"
      ],
      "metadata": {
        "colab": {
          "base_uri": "https://localhost:8080/"
        },
        "id": "E_Ks6dkuOFKT",
        "outputId": "6308c922-22bd-4ad8-f214-61b331d745b7"
      },
      "execution_count": null,
      "outputs": [
        {
          "output_type": "stream",
          "name": "stdout",
          "text": [
            "pythonpythonpython\n"
          ]
        }
      ]
    },
    {
      "cell_type": "code",
      "source": [
        "print( string1 + string2 * 2 )"
      ],
      "metadata": {
        "colab": {
          "base_uri": "https://localhost:8080/"
        },
        "id": "TrhuVJ27OIZT",
        "outputId": "4cd41932-ad77-45bf-f101-f9059a055d03"
      },
      "execution_count": null,
      "outputs": [
        {
          "output_type": "stream",
          "name": "stdout",
          "text": [
            "pythonprogrammingprogramming\n"
          ]
        }
      ]
    },
    {
      "cell_type": "code",
      "source": [
        "print( ( string1 + string2 ) * 2 )"
      ],
      "metadata": {
        "colab": {
          "base_uri": "https://localhost:8080/"
        },
        "id": "xcYsLgdiON0M",
        "outputId": "5d8ae281-9524-4554-e517-e7371b43d1fb"
      },
      "execution_count": null,
      "outputs": [
        {
          "output_type": "stream",
          "name": "stdout",
          "text": [
            "pythonprogrammingpythonprogramming\n"
          ]
        }
      ]
    },
    {
      "cell_type": "markdown",
      "source": [
        "#### 포함유무 확인"
      ],
      "metadata": {
        "id": "8xnZkFjmOg_J"
      }
    },
    {
      "cell_type": "code",
      "source": [
        "string = 'python programming hello world'\n",
        "print( string )"
      ],
      "metadata": {
        "colab": {
          "base_uri": "https://localhost:8080/"
        },
        "id": "enU49vNUPJof",
        "outputId": "a2973eae-05c8-4f42-c8df-98ce77ef80c0"
      },
      "execution_count": null,
      "outputs": [
        {
          "output_type": "stream",
          "name": "stdout",
          "text": [
            "python programming hello world\n"
          ]
        }
      ]
    },
    {
      "cell_type": "code",
      "source": [
        "'python' in string"
      ],
      "metadata": {
        "colab": {
          "base_uri": "https://localhost:8080/"
        },
        "id": "RjCKuBFtPOrr",
        "outputId": "a74e9f12-b3a5-4aa4-f180-b1edeb77dcf3"
      },
      "execution_count": null,
      "outputs": [
        {
          "output_type": "execute_result",
          "data": {
            "text/plain": [
              "True"
            ]
          },
          "metadata": {},
          "execution_count": 123
        }
      ]
    },
    {
      "cell_type": "code",
      "source": [
        "'hello' in string"
      ],
      "metadata": {
        "colab": {
          "base_uri": "https://localhost:8080/"
        },
        "id": "5zHQdavJPRrL",
        "outputId": "fcd6fada-9020-4930-baa6-0eeed81c3fbb"
      },
      "execution_count": null,
      "outputs": [
        {
          "output_type": "execute_result",
          "data": {
            "text/plain": [
              "True"
            ]
          },
          "metadata": {},
          "execution_count": 124
        }
      ]
    },
    {
      "cell_type": "code",
      "source": [
        "'Hello' in string"
      ],
      "metadata": {
        "colab": {
          "base_uri": "https://localhost:8080/"
        },
        "id": "dMh7agwtPTWD",
        "outputId": "cd70918c-cd13-47a1-ebf5-155a3fd1374d"
      },
      "execution_count": null,
      "outputs": [
        {
          "output_type": "execute_result",
          "data": {
            "text/plain": [
              "False"
            ]
          },
          "metadata": {},
          "execution_count": 125
        }
      ]
    },
    {
      "cell_type": "code",
      "source": [
        "not 'Hello' in string"
      ],
      "metadata": {
        "colab": {
          "base_uri": "https://localhost:8080/"
        },
        "id": "Rjlb7XNnPVDW",
        "outputId": "d9e91509-3543-4f54-dbbc-45f7da7ffa9c"
      },
      "execution_count": null,
      "outputs": [
        {
          "output_type": "execute_result",
          "data": {
            "text/plain": [
              "True"
            ]
          },
          "metadata": {},
          "execution_count": 126
        }
      ]
    },
    {
      "cell_type": "markdown",
      "source": [
        "#### 길이 계산"
      ],
      "metadata": {
        "id": "DPt_j5h3PXgl"
      }
    },
    {
      "cell_type": "code",
      "source": [
        "print( 'string : ', string, '\\nlength : ', len( string ) )"
      ],
      "metadata": {
        "colab": {
          "base_uri": "https://localhost:8080/"
        },
        "id": "hkcjen5MP4CS",
        "outputId": "adc953fd-2379-4935-81ff-5435f455dee5"
      },
      "execution_count": null,
      "outputs": [
        {
          "output_type": "stream",
          "name": "stdout",
          "text": [
            "string :  python programming hello world \n",
            "length :  30\n"
          ]
        }
      ]
    },
    {
      "cell_type": "code",
      "source": [
        "print( string[ :len( string ) ] )"
      ],
      "metadata": {
        "colab": {
          "base_uri": "https://localhost:8080/"
        },
        "id": "a2ydxVHCP_S-",
        "outputId": "30bce10f-84f3-477f-8057-0417e766010c"
      },
      "execution_count": null,
      "outputs": [
        {
          "output_type": "stream",
          "name": "stdout",
          "text": [
            "python programming hello world\n"
          ]
        }
      ]
    },
    {
      "cell_type": "code",
      "source": [
        "print( string[ len( string ) - 1 ] )"
      ],
      "metadata": {
        "colab": {
          "base_uri": "https://localhost:8080/"
        },
        "id": "SVf7YduJQDeG",
        "outputId": "0f396118-4942-4906-f46e-c34b6dc68f9d"
      },
      "execution_count": null,
      "outputs": [
        {
          "output_type": "stream",
          "name": "stdout",
          "text": [
            "d\n"
          ]
        }
      ]
    },
    {
      "cell_type": "markdown",
      "source": [
        "### 문자열 formatting"
      ],
      "metadata": {
        "id": "gUhHpNoPQecW"
      }
    },
    {
      "cell_type": "code",
      "source": [
        "name = '홍길동'\n",
        "age = 25\n",
        "gender = '남'\n",
        "weight = 65.7\n",
        "height = 180.3"
      ],
      "metadata": {
        "id": "ZcuAjpUFTfOi"
      },
      "execution_count": null,
      "outputs": []
    },
    {
      "cell_type": "code",
      "source": [
        "print( name, '\\t', age, '\\t',\n",
        "       gender, '\\t', weight, 'kg\\t', \n",
        "       height, 'cm' )"
      ],
      "metadata": {
        "colab": {
          "base_uri": "https://localhost:8080/"
        },
        "id": "05hQl97iT3xy",
        "outputId": "729553a9-fb02-44f7-eee9-c1977a0a80f3"
      },
      "execution_count": null,
      "outputs": [
        {
          "output_type": "stream",
          "name": "stdout",
          "text": [
            "홍길동 \t 25 \t 남 \t 65.7 kg\t 180.3 cm\n"
          ]
        }
      ]
    },
    {
      "cell_type": "markdown",
      "source": [
        "#### 기본 방식 문자열 formatting"
      ],
      "metadata": {
        "id": "lWHvXLwZUIOd"
      }
    },
    {
      "cell_type": "code",
      "source": [
        "fmt = '%10s %3d %2s %5.1fkg %6.1fcm' % ( name, age, gender,\n",
        "                                       weight, height )\n",
        "print( fmt )"
      ],
      "metadata": {
        "colab": {
          "base_uri": "https://localhost:8080/"
        },
        "id": "W1RtXXWJUXua",
        "outputId": "90bada51-5809-419f-df61-25a835b46dd6"
      },
      "execution_count": null,
      "outputs": [
        {
          "output_type": "stream",
          "name": "stdout",
          "text": [
            "       홍길동  25  남  65.7kg  180.3cm\n"
          ]
        }
      ]
    },
    {
      "cell_type": "code",
      "source": [
        "print( '%-10s %3d %2s %5.1fkg %6.1fcm' % ( name, age, gender,\n",
        "                                       weight, height ) )"
      ],
      "metadata": {
        "colab": {
          "base_uri": "https://localhost:8080/"
        },
        "id": "WEWCd0h4Ui-H",
        "outputId": "cfa599b0-4f93-485b-e6b4-bff73e2837bf"
      },
      "execution_count": null,
      "outputs": [
        {
          "output_type": "stream",
          "name": "stdout",
          "text": [
            "홍길동         25  남  65.7kg  180.3cm\n"
          ]
        }
      ]
    },
    {
      "cell_type": "markdown",
      "source": [
        "#### format() 메서드 이용 문자열 formatting"
      ],
      "metadata": {
        "id": "g-hWA-gVVdKm"
      }
    },
    {
      "cell_type": "code",
      "source": [
        "fmt = '{0:<10} {1:3} {2:2} {3:5.1f}kg {4:6.1f}cm'.format(\n",
        "    name, age, gender, weight, height\n",
        ")\n",
        "print( fmt )"
      ],
      "metadata": {
        "colab": {
          "base_uri": "https://localhost:8080/"
        },
        "id": "5g_Nn_HVWNJE",
        "outputId": "1ace6a94-77ef-46e4-a819-205c686004e4"
      },
      "execution_count": null,
      "outputs": [
        {
          "output_type": "stream",
          "name": "stdout",
          "text": [
            "홍길동         25 남   65.7kg  180.3cm\n"
          ]
        }
      ]
    },
    {
      "cell_type": "code",
      "source": [
        "print( '{:<10} {:3} {:2} {:5.1f}kg {:6.1f}cm'.format(\n",
        "    name, age, gender, weight, height ) )"
      ],
      "metadata": {
        "colab": {
          "base_uri": "https://localhost:8080/"
        },
        "id": "W-a13YrpWilQ",
        "outputId": "14d4c8c0-98a9-420f-ca6a-10177a232d81"
      },
      "execution_count": null,
      "outputs": [
        {
          "output_type": "stream",
          "name": "stdout",
          "text": [
            "홍길동         25 남   65.7kg  180.3cm\n"
          ]
        }
      ]
    },
    {
      "cell_type": "code",
      "source": [
        "print( '{0:^10} {1:3} {2:2} {4:6.1f}cm {3:5.1f}kg '.format(\n",
        "    name, age, gender, weight, height ) )"
      ],
      "metadata": {
        "colab": {
          "base_uri": "https://localhost:8080/"
        },
        "id": "7zREFLJpWq-0",
        "outputId": "f0455aa1-5ece-44c6-af11-5756fde3887d"
      },
      "execution_count": null,
      "outputs": [
        {
          "output_type": "stream",
          "name": "stdout",
          "text": [
            "   홍길동      25 남   180.3cm  65.7kg \n"
          ]
        }
      ]
    },
    {
      "cell_type": "code",
      "source": [
        "print( '{0:>10} {1:3} {2:2} {4:6.1f}cm {3:5.1f}kg '.format(\n",
        "    name, age, gender, weight, height ) )"
      ],
      "metadata": {
        "colab": {
          "base_uri": "https://localhost:8080/"
        },
        "id": "iocXhohsWx13",
        "outputId": "58f483bb-0c1d-4c3f-b759-bd2de383d56d"
      },
      "execution_count": null,
      "outputs": [
        {
          "output_type": "stream",
          "name": "stdout",
          "text": [
            "       홍길동  25 남   180.3cm  65.7kg \n"
          ]
        }
      ]
    },
    {
      "cell_type": "markdown",
      "source": [
        "#### f-string을 이용한 문자열 formatting"
      ],
      "metadata": {
        "id": "gTZ7eWXvXcP5"
      }
    },
    {
      "cell_type": "code",
      "source": [
        "fmt = f'{name:<10} {age:3} {gender:2} \\\n",
        "{weight:5.1f}kg {height:6.1f}cm'\n",
        "print( fmt )"
      ],
      "metadata": {
        "colab": {
          "base_uri": "https://localhost:8080/"
        },
        "id": "SA4KBfwGYINJ",
        "outputId": "d5727f85-8807-4e94-a27b-87f46384b605"
      },
      "execution_count": null,
      "outputs": [
        {
          "output_type": "stream",
          "name": "stdout",
          "text": [
            "홍길동         25 남   65.7kg  180.3cm\n"
          ]
        }
      ]
    },
    {
      "cell_type": "code",
      "source": [
        "print( f'{name:<10} {age:3} {gender:2} \\\n",
        "{weight:5.1f}kg {height:6.1f}cm' )"
      ],
      "metadata": {
        "colab": {
          "base_uri": "https://localhost:8080/"
        },
        "id": "JW4Lx5mqYX4N",
        "outputId": "c651d60f-ce2c-4b7d-98c3-e4f172267bef"
      },
      "execution_count": null,
      "outputs": [
        {
          "output_type": "stream",
          "name": "stdout",
          "text": [
            "홍길동         25 남   65.7kg  180.3cm\n"
          ]
        }
      ]
    },
    {
      "cell_type": "code",
      "source": [
        "print( f'{\"이름\":^10} : {name:<10}' )\n",
        "print( f'{\"나이\":^10} : {age:3}' )\n",
        "print( f'{\"성별\":^10} : {gender:2}' )\n",
        "print( f'{\"몸무게\":^10} : {weight:5.1f}kg' )\n",
        "print( f'{\"키\":^10} :{height:6.1f}cm' )"
      ],
      "metadata": {
        "colab": {
          "base_uri": "https://localhost:8080/"
        },
        "id": "sxjne7xeYh9H",
        "outputId": "7fc02d99-677f-4226-879c-b3e9d5ce4eea"
      },
      "execution_count": null,
      "outputs": [
        {
          "output_type": "stream",
          "name": "stdout",
          "text": [
            "    이름     : 홍길동       \n",
            "    나이     :  25\n",
            "    성별     : 남 \n",
            "   몸무게     :  65.7kg\n",
            "    키      : 180.3cm\n"
          ]
        }
      ]
    },
    {
      "cell_type": "code",
      "source": [
        ""
      ],
      "metadata": {
        "id": "Tmwqm5rZZiGl"
      },
      "execution_count": null,
      "outputs": []
    }
  ]
}